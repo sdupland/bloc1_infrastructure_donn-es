{
 "cells": [
  {
   "cell_type": "code",
   "execution_count": 1,
   "metadata": {},
   "outputs": [],
   "source": [
    "# Importation des librairies\n",
    "import requests\n",
    "import pandas as pd\n",
    "from datetime import datetime, timedelta, date\n",
    "\n",
    "import plotly.express as px\n",
    "\n",
    "import scrapy\n",
    "from scrapy.crawler import CrawlerProcess\n",
    "import os\n",
    "import logging\n",
    "import urllib\n",
    "\n",
    "import boto3"
   ]
  },
  {
   "cell_type": "markdown",
   "metadata": {},
   "source": [
    "#### PART 1. Obtenir les coordonnées geographiques des villes"
   ]
  },
  {
   "cell_type": "code",
   "execution_count": 2,
   "metadata": {},
   "outputs": [],
   "source": [
    "# liste donnée des villes\n",
    "cities = [\"Mont Saint Michel\",\n",
    "\"St Malo\",\n",
    "\"Bayeux\",\n",
    "\"Le Havre\",\n",
    "\"Rouen\",\n",
    "\"Paris\",\n",
    "\"Amiens\",\n",
    "\"Lille\",\n",
    "\"Strasbourg\",\n",
    "\"Chateau du Haut Koenigsbourg\",\n",
    "\"Colmar\",\n",
    "\"Eguisheim\",\n",
    "\"Besancon\",\n",
    "\"Dijon\",\n",
    "\"Annecy\",\n",
    "\"Grenoble\",\n",
    "\"Lyon\",\n",
    "\"Gorges du Verdon\",\n",
    "\"Bormes les Mimosas\",\n",
    "\"Cassis\",\n",
    "\"Marseille\",\n",
    "\"Aix en Provence\",\n",
    "\"Avignon\",\n",
    "\"Uzes\",\n",
    "\"Nimes\",\n",
    "\"Aigues Mortes\",\n",
    "\"Saintes Maries de la mer\",\n",
    "\"Collioure\",\n",
    "\"Carcassonne\",\n",
    "\"Ariege\",\n",
    "\"Toulouse\",\n",
    "\"Montauban\",\n",
    "\"Biarritz\",\n",
    "\"Bayonne\",\n",
    "\"La Rochelle\"]"
   ]
  },
  {
   "cell_type": "code",
   "execution_count": 3,
   "metadata": {},
   "outputs": [],
   "source": [
    "def city_gps(city_name):\n",
    "    \"\"\"\n",
    "    création d'une fonction afin de récupérer au format json les informations sur une ville, à partir de son nom passé en paramètre\n",
    "    utlisation de l'API du site nominatim avec des critères en paramètre (format de sortie + nom ville + pays)\n",
    "    utilisation d'un try/except au cas ou certaines noms dans la liste renvois une erreur. Dans ce cas nous passons l'erreur et affectons une valeur vide aux données recherchées\n",
    "    Args:\n",
    "        city_name : liste des villes\n",
    "    Returns:\n",
    "        Latitude et longitude pour chaque ville sous forme d'un tuple\n",
    "    \"\"\"\n",
    "    url_nominatim = \"https://nominatim.openstreetmap.org/search\"\n",
    "    criteria_nominatim = {\"format\":\"json\", \"city\":city_name, \"country\":\"France\"}\n",
    "    r = requests.get(url_nominatim, params=criteria_nominatim)\n",
    "    r.json()\n",
    "    try :\n",
    "        city_lon = r.json()[0][\"lon\"]\n",
    "        city_lat = r.json()[0][\"lat\"]\n",
    "    except :\n",
    "        city_lon = \"\"\n",
    "        city_lat = \"\"\n",
    "    return city_lon, city_lat"
   ]
  },
  {
   "cell_type": "code",
   "execution_count": 4,
   "metadata": {},
   "outputs": [
    {
     "data": {
      "text/plain": [
       "'5.3699525'"
      ]
     },
     "execution_count": 4,
     "metadata": {},
     "output_type": "execute_result"
    }
   ],
   "source": [
    "# test sur une ville \n",
    "city_gps(\"Marseille\")[0]"
   ]
  },
  {
   "cell_type": "code",
   "execution_count": 5,
   "metadata": {},
   "outputs": [],
   "source": [
    "#création d'un dataframe à partir du nom\n",
    "dataset_cities = pd.DataFrame({\"City\":cities})\n",
    "\n",
    "# ajout de deux colonnes avec les coordonnées gps (latitude & longitude)\n",
    "dataset_cities[\"Latitude\"] = dataset_cities[\"City\"].apply(lambda x: city_gps(x)[1])\n",
    "dataset_cities[\"Longitude\"] = dataset_cities[\"City\"].apply(lambda x: city_gps(x)[0])"
   ]
  },
  {
   "cell_type": "code",
   "execution_count": 6,
   "metadata": {},
   "outputs": [
    {
     "data": {
      "text/html": [
       "<div>\n",
       "<style scoped>\n",
       "    .dataframe tbody tr th:only-of-type {\n",
       "        vertical-align: middle;\n",
       "    }\n",
       "\n",
       "    .dataframe tbody tr th {\n",
       "        vertical-align: top;\n",
       "    }\n",
       "\n",
       "    .dataframe thead th {\n",
       "        text-align: right;\n",
       "    }\n",
       "</style>\n",
       "<table border=\"1\" class=\"dataframe\">\n",
       "  <thead>\n",
       "    <tr style=\"text-align: right;\">\n",
       "      <th></th>\n",
       "      <th>City</th>\n",
       "      <th>Latitude</th>\n",
       "      <th>Longitude</th>\n",
       "    </tr>\n",
       "  </thead>\n",
       "  <tbody>\n",
       "    <tr>\n",
       "      <th>0</th>\n",
       "      <td>Mont Saint Michel</td>\n",
       "      <td>48.6359541</td>\n",
       "      <td>-1.511459954959514</td>\n",
       "    </tr>\n",
       "    <tr>\n",
       "      <th>1</th>\n",
       "      <td>St Malo</td>\n",
       "      <td>48.649518</td>\n",
       "      <td>-2.0260409</td>\n",
       "    </tr>\n",
       "    <tr>\n",
       "      <th>2</th>\n",
       "      <td>Bayeux</td>\n",
       "      <td>49.2764624</td>\n",
       "      <td>-0.7024738</td>\n",
       "    </tr>\n",
       "    <tr>\n",
       "      <th>3</th>\n",
       "      <td>Le Havre</td>\n",
       "      <td>49.4938975</td>\n",
       "      <td>0.1079732</td>\n",
       "    </tr>\n",
       "    <tr>\n",
       "      <th>4</th>\n",
       "      <td>Rouen</td>\n",
       "      <td>49.4404591</td>\n",
       "      <td>1.0939658</td>\n",
       "    </tr>\n",
       "    <tr>\n",
       "      <th>5</th>\n",
       "      <td>Paris</td>\n",
       "      <td>48.8588897</td>\n",
       "      <td>2.3200410217200766</td>\n",
       "    </tr>\n",
       "    <tr>\n",
       "      <th>6</th>\n",
       "      <td>Amiens</td>\n",
       "      <td>49.8941708</td>\n",
       "      <td>2.2956951</td>\n",
       "    </tr>\n",
       "    <tr>\n",
       "      <th>7</th>\n",
       "      <td>Lille</td>\n",
       "      <td>50.6365654</td>\n",
       "      <td>3.0635282</td>\n",
       "    </tr>\n",
       "    <tr>\n",
       "      <th>8</th>\n",
       "      <td>Strasbourg</td>\n",
       "      <td>48.584614</td>\n",
       "      <td>7.7507127</td>\n",
       "    </tr>\n",
       "    <tr>\n",
       "      <th>9</th>\n",
       "      <td>Chateau du Haut Koenigsbourg</td>\n",
       "      <td>48.2495226</td>\n",
       "      <td>7.3454923</td>\n",
       "    </tr>\n",
       "    <tr>\n",
       "      <th>10</th>\n",
       "      <td>Colmar</td>\n",
       "      <td>48.0777517</td>\n",
       "      <td>7.3579641</td>\n",
       "    </tr>\n",
       "    <tr>\n",
       "      <th>11</th>\n",
       "      <td>Eguisheim</td>\n",
       "      <td>48.0447968</td>\n",
       "      <td>7.3079618</td>\n",
       "    </tr>\n",
       "    <tr>\n",
       "      <th>12</th>\n",
       "      <td>Besancon</td>\n",
       "      <td>47.2380222</td>\n",
       "      <td>6.0243622</td>\n",
       "    </tr>\n",
       "    <tr>\n",
       "      <th>13</th>\n",
       "      <td>Dijon</td>\n",
       "      <td>47.3215806</td>\n",
       "      <td>5.0414701</td>\n",
       "    </tr>\n",
       "    <tr>\n",
       "      <th>14</th>\n",
       "      <td>Annecy</td>\n",
       "      <td>45.8992348</td>\n",
       "      <td>6.1288847</td>\n",
       "    </tr>\n",
       "    <tr>\n",
       "      <th>15</th>\n",
       "      <td>Grenoble</td>\n",
       "      <td>45.1875602</td>\n",
       "      <td>5.7357819</td>\n",
       "    </tr>\n",
       "    <tr>\n",
       "      <th>16</th>\n",
       "      <td>Lyon</td>\n",
       "      <td>45.7578137</td>\n",
       "      <td>4.8320114</td>\n",
       "    </tr>\n",
       "    <tr>\n",
       "      <th>17</th>\n",
       "      <td>Gorges du Verdon</td>\n",
       "      <td>43.7496562</td>\n",
       "      <td>6.3285616</td>\n",
       "    </tr>\n",
       "    <tr>\n",
       "      <th>18</th>\n",
       "      <td>Bormes les Mimosas</td>\n",
       "      <td>43.1506968</td>\n",
       "      <td>6.3419285</td>\n",
       "    </tr>\n",
       "    <tr>\n",
       "      <th>19</th>\n",
       "      <td>Cassis</td>\n",
       "      <td>43.2140359</td>\n",
       "      <td>5.5396318</td>\n",
       "    </tr>\n",
       "    <tr>\n",
       "      <th>20</th>\n",
       "      <td>Marseille</td>\n",
       "      <td>43.2961743</td>\n",
       "      <td>5.3699525</td>\n",
       "    </tr>\n",
       "    <tr>\n",
       "      <th>21</th>\n",
       "      <td>Aix en Provence</td>\n",
       "      <td>43.5298424</td>\n",
       "      <td>5.4474738</td>\n",
       "    </tr>\n",
       "    <tr>\n",
       "      <th>22</th>\n",
       "      <td>Avignon</td>\n",
       "      <td>43.9492493</td>\n",
       "      <td>4.8059012</td>\n",
       "    </tr>\n",
       "    <tr>\n",
       "      <th>23</th>\n",
       "      <td>Uzes</td>\n",
       "      <td>44.0121279</td>\n",
       "      <td>4.4196718</td>\n",
       "    </tr>\n",
       "    <tr>\n",
       "      <th>24</th>\n",
       "      <td>Nimes</td>\n",
       "      <td>43.8374249</td>\n",
       "      <td>4.3600687</td>\n",
       "    </tr>\n",
       "    <tr>\n",
       "      <th>25</th>\n",
       "      <td>Aigues Mortes</td>\n",
       "      <td>43.5661521</td>\n",
       "      <td>4.19154</td>\n",
       "    </tr>\n",
       "    <tr>\n",
       "      <th>26</th>\n",
       "      <td>Saintes Maries de la mer</td>\n",
       "      <td>43.4515922</td>\n",
       "      <td>4.4277202</td>\n",
       "    </tr>\n",
       "    <tr>\n",
       "      <th>27</th>\n",
       "      <td>Collioure</td>\n",
       "      <td>42.52505</td>\n",
       "      <td>3.0831554</td>\n",
       "    </tr>\n",
       "    <tr>\n",
       "      <th>28</th>\n",
       "      <td>Carcassonne</td>\n",
       "      <td>43.2130358</td>\n",
       "      <td>2.3491069</td>\n",
       "    </tr>\n",
       "    <tr>\n",
       "      <th>29</th>\n",
       "      <td>Ariege</td>\n",
       "      <td>42.9927428</td>\n",
       "      <td>1.6124975</td>\n",
       "    </tr>\n",
       "    <tr>\n",
       "      <th>30</th>\n",
       "      <td>Toulouse</td>\n",
       "      <td>43.6044622</td>\n",
       "      <td>1.4442469</td>\n",
       "    </tr>\n",
       "    <tr>\n",
       "      <th>31</th>\n",
       "      <td>Montauban</td>\n",
       "      <td>44.0175835</td>\n",
       "      <td>1.3549991</td>\n",
       "    </tr>\n",
       "    <tr>\n",
       "      <th>32</th>\n",
       "      <td>Biarritz</td>\n",
       "      <td>43.4832523</td>\n",
       "      <td>-1.5592776</td>\n",
       "    </tr>\n",
       "    <tr>\n",
       "      <th>33</th>\n",
       "      <td>Bayonne</td>\n",
       "      <td>43.4945144</td>\n",
       "      <td>-1.4736657</td>\n",
       "    </tr>\n",
       "    <tr>\n",
       "      <th>34</th>\n",
       "      <td>La Rochelle</td>\n",
       "      <td>46.1591126</td>\n",
       "      <td>-1.1520434</td>\n",
       "    </tr>\n",
       "  </tbody>\n",
       "</table>\n",
       "</div>"
      ],
      "text/plain": [
       "                            City    Latitude           Longitude\n",
       "0              Mont Saint Michel  48.6359541  -1.511459954959514\n",
       "1                        St Malo   48.649518          -2.0260409\n",
       "2                         Bayeux  49.2764624          -0.7024738\n",
       "3                       Le Havre  49.4938975           0.1079732\n",
       "4                          Rouen  49.4404591           1.0939658\n",
       "5                          Paris  48.8588897  2.3200410217200766\n",
       "6                         Amiens  49.8941708           2.2956951\n",
       "7                          Lille  50.6365654           3.0635282\n",
       "8                     Strasbourg   48.584614           7.7507127\n",
       "9   Chateau du Haut Koenigsbourg  48.2495226           7.3454923\n",
       "10                        Colmar  48.0777517           7.3579641\n",
       "11                     Eguisheim  48.0447968           7.3079618\n",
       "12                      Besancon  47.2380222           6.0243622\n",
       "13                         Dijon  47.3215806           5.0414701\n",
       "14                        Annecy  45.8992348           6.1288847\n",
       "15                      Grenoble  45.1875602           5.7357819\n",
       "16                          Lyon  45.7578137           4.8320114\n",
       "17              Gorges du Verdon  43.7496562           6.3285616\n",
       "18            Bormes les Mimosas  43.1506968           6.3419285\n",
       "19                        Cassis  43.2140359           5.5396318\n",
       "20                     Marseille  43.2961743           5.3699525\n",
       "21               Aix en Provence  43.5298424           5.4474738\n",
       "22                       Avignon  43.9492493           4.8059012\n",
       "23                          Uzes  44.0121279           4.4196718\n",
       "24                         Nimes  43.8374249           4.3600687\n",
       "25                 Aigues Mortes  43.5661521             4.19154\n",
       "26      Saintes Maries de la mer  43.4515922           4.4277202\n",
       "27                     Collioure    42.52505           3.0831554\n",
       "28                   Carcassonne  43.2130358           2.3491069\n",
       "29                        Ariege  42.9927428           1.6124975\n",
       "30                      Toulouse  43.6044622           1.4442469\n",
       "31                     Montauban  44.0175835           1.3549991\n",
       "32                      Biarritz  43.4832523          -1.5592776\n",
       "33                       Bayonne  43.4945144          -1.4736657\n",
       "34                   La Rochelle  46.1591126          -1.1520434"
      ]
     },
     "execution_count": 6,
     "metadata": {},
     "output_type": "execute_result"
    }
   ],
   "source": [
    "# verification du résultat\n",
    "dataset_cities"
   ]
  },
  {
   "cell_type": "code",
   "execution_count": 7,
   "metadata": {},
   "outputs": [],
   "source": [
    "# ajout d'un id pour chaque ville, insertion de la colonne en 1ère position avec la méthode \"insert\" car sinon l'ajout se fait en fin de dataframe\n",
    "# cet id sera utile par la suite\n",
    "dataset_cities.insert(0, \"id\", [i for i in range(1,36)])"
   ]
  },
  {
   "cell_type": "code",
   "execution_count": 8,
   "metadata": {},
   "outputs": [
    {
     "data": {
      "text/html": [
       "<div>\n",
       "<style scoped>\n",
       "    .dataframe tbody tr th:only-of-type {\n",
       "        vertical-align: middle;\n",
       "    }\n",
       "\n",
       "    .dataframe tbody tr th {\n",
       "        vertical-align: top;\n",
       "    }\n",
       "\n",
       "    .dataframe thead th {\n",
       "        text-align: right;\n",
       "    }\n",
       "</style>\n",
       "<table border=\"1\" class=\"dataframe\">\n",
       "  <thead>\n",
       "    <tr style=\"text-align: right;\">\n",
       "      <th></th>\n",
       "      <th>id</th>\n",
       "      <th>City</th>\n",
       "      <th>Latitude</th>\n",
       "      <th>Longitude</th>\n",
       "    </tr>\n",
       "  </thead>\n",
       "  <tbody>\n",
       "    <tr>\n",
       "      <th>0</th>\n",
       "      <td>1</td>\n",
       "      <td>Mont Saint Michel</td>\n",
       "      <td>48.6359541</td>\n",
       "      <td>-1.511459954959514</td>\n",
       "    </tr>\n",
       "    <tr>\n",
       "      <th>1</th>\n",
       "      <td>2</td>\n",
       "      <td>St Malo</td>\n",
       "      <td>48.649518</td>\n",
       "      <td>-2.0260409</td>\n",
       "    </tr>\n",
       "    <tr>\n",
       "      <th>2</th>\n",
       "      <td>3</td>\n",
       "      <td>Bayeux</td>\n",
       "      <td>49.2764624</td>\n",
       "      <td>-0.7024738</td>\n",
       "    </tr>\n",
       "    <tr>\n",
       "      <th>3</th>\n",
       "      <td>4</td>\n",
       "      <td>Le Havre</td>\n",
       "      <td>49.4938975</td>\n",
       "      <td>0.1079732</td>\n",
       "    </tr>\n",
       "    <tr>\n",
       "      <th>4</th>\n",
       "      <td>5</td>\n",
       "      <td>Rouen</td>\n",
       "      <td>49.4404591</td>\n",
       "      <td>1.0939658</td>\n",
       "    </tr>\n",
       "    <tr>\n",
       "      <th>5</th>\n",
       "      <td>6</td>\n",
       "      <td>Paris</td>\n",
       "      <td>48.8588897</td>\n",
       "      <td>2.3200410217200766</td>\n",
       "    </tr>\n",
       "    <tr>\n",
       "      <th>6</th>\n",
       "      <td>7</td>\n",
       "      <td>Amiens</td>\n",
       "      <td>49.8941708</td>\n",
       "      <td>2.2956951</td>\n",
       "    </tr>\n",
       "    <tr>\n",
       "      <th>7</th>\n",
       "      <td>8</td>\n",
       "      <td>Lille</td>\n",
       "      <td>50.6365654</td>\n",
       "      <td>3.0635282</td>\n",
       "    </tr>\n",
       "    <tr>\n",
       "      <th>8</th>\n",
       "      <td>9</td>\n",
       "      <td>Strasbourg</td>\n",
       "      <td>48.584614</td>\n",
       "      <td>7.7507127</td>\n",
       "    </tr>\n",
       "    <tr>\n",
       "      <th>9</th>\n",
       "      <td>10</td>\n",
       "      <td>Chateau du Haut Koenigsbourg</td>\n",
       "      <td>48.2495226</td>\n",
       "      <td>7.3454923</td>\n",
       "    </tr>\n",
       "    <tr>\n",
       "      <th>10</th>\n",
       "      <td>11</td>\n",
       "      <td>Colmar</td>\n",
       "      <td>48.0777517</td>\n",
       "      <td>7.3579641</td>\n",
       "    </tr>\n",
       "    <tr>\n",
       "      <th>11</th>\n",
       "      <td>12</td>\n",
       "      <td>Eguisheim</td>\n",
       "      <td>48.0447968</td>\n",
       "      <td>7.3079618</td>\n",
       "    </tr>\n",
       "    <tr>\n",
       "      <th>12</th>\n",
       "      <td>13</td>\n",
       "      <td>Besancon</td>\n",
       "      <td>47.2380222</td>\n",
       "      <td>6.0243622</td>\n",
       "    </tr>\n",
       "    <tr>\n",
       "      <th>13</th>\n",
       "      <td>14</td>\n",
       "      <td>Dijon</td>\n",
       "      <td>47.3215806</td>\n",
       "      <td>5.0414701</td>\n",
       "    </tr>\n",
       "    <tr>\n",
       "      <th>14</th>\n",
       "      <td>15</td>\n",
       "      <td>Annecy</td>\n",
       "      <td>45.8992348</td>\n",
       "      <td>6.1288847</td>\n",
       "    </tr>\n",
       "    <tr>\n",
       "      <th>15</th>\n",
       "      <td>16</td>\n",
       "      <td>Grenoble</td>\n",
       "      <td>45.1875602</td>\n",
       "      <td>5.7357819</td>\n",
       "    </tr>\n",
       "    <tr>\n",
       "      <th>16</th>\n",
       "      <td>17</td>\n",
       "      <td>Lyon</td>\n",
       "      <td>45.7578137</td>\n",
       "      <td>4.8320114</td>\n",
       "    </tr>\n",
       "    <tr>\n",
       "      <th>17</th>\n",
       "      <td>18</td>\n",
       "      <td>Gorges du Verdon</td>\n",
       "      <td>43.7496562</td>\n",
       "      <td>6.3285616</td>\n",
       "    </tr>\n",
       "    <tr>\n",
       "      <th>18</th>\n",
       "      <td>19</td>\n",
       "      <td>Bormes les Mimosas</td>\n",
       "      <td>43.1506968</td>\n",
       "      <td>6.3419285</td>\n",
       "    </tr>\n",
       "    <tr>\n",
       "      <th>19</th>\n",
       "      <td>20</td>\n",
       "      <td>Cassis</td>\n",
       "      <td>43.2140359</td>\n",
       "      <td>5.5396318</td>\n",
       "    </tr>\n",
       "    <tr>\n",
       "      <th>20</th>\n",
       "      <td>21</td>\n",
       "      <td>Marseille</td>\n",
       "      <td>43.2961743</td>\n",
       "      <td>5.3699525</td>\n",
       "    </tr>\n",
       "    <tr>\n",
       "      <th>21</th>\n",
       "      <td>22</td>\n",
       "      <td>Aix en Provence</td>\n",
       "      <td>43.5298424</td>\n",
       "      <td>5.4474738</td>\n",
       "    </tr>\n",
       "    <tr>\n",
       "      <th>22</th>\n",
       "      <td>23</td>\n",
       "      <td>Avignon</td>\n",
       "      <td>43.9492493</td>\n",
       "      <td>4.8059012</td>\n",
       "    </tr>\n",
       "    <tr>\n",
       "      <th>23</th>\n",
       "      <td>24</td>\n",
       "      <td>Uzes</td>\n",
       "      <td>44.0121279</td>\n",
       "      <td>4.4196718</td>\n",
       "    </tr>\n",
       "    <tr>\n",
       "      <th>24</th>\n",
       "      <td>25</td>\n",
       "      <td>Nimes</td>\n",
       "      <td>43.8374249</td>\n",
       "      <td>4.3600687</td>\n",
       "    </tr>\n",
       "    <tr>\n",
       "      <th>25</th>\n",
       "      <td>26</td>\n",
       "      <td>Aigues Mortes</td>\n",
       "      <td>43.5661521</td>\n",
       "      <td>4.19154</td>\n",
       "    </tr>\n",
       "    <tr>\n",
       "      <th>26</th>\n",
       "      <td>27</td>\n",
       "      <td>Saintes Maries de la mer</td>\n",
       "      <td>43.4515922</td>\n",
       "      <td>4.4277202</td>\n",
       "    </tr>\n",
       "    <tr>\n",
       "      <th>27</th>\n",
       "      <td>28</td>\n",
       "      <td>Collioure</td>\n",
       "      <td>42.52505</td>\n",
       "      <td>3.0831554</td>\n",
       "    </tr>\n",
       "    <tr>\n",
       "      <th>28</th>\n",
       "      <td>29</td>\n",
       "      <td>Carcassonne</td>\n",
       "      <td>43.2130358</td>\n",
       "      <td>2.3491069</td>\n",
       "    </tr>\n",
       "    <tr>\n",
       "      <th>29</th>\n",
       "      <td>30</td>\n",
       "      <td>Ariege</td>\n",
       "      <td>42.9927428</td>\n",
       "      <td>1.6124975</td>\n",
       "    </tr>\n",
       "    <tr>\n",
       "      <th>30</th>\n",
       "      <td>31</td>\n",
       "      <td>Toulouse</td>\n",
       "      <td>43.6044622</td>\n",
       "      <td>1.4442469</td>\n",
       "    </tr>\n",
       "    <tr>\n",
       "      <th>31</th>\n",
       "      <td>32</td>\n",
       "      <td>Montauban</td>\n",
       "      <td>44.0175835</td>\n",
       "      <td>1.3549991</td>\n",
       "    </tr>\n",
       "    <tr>\n",
       "      <th>32</th>\n",
       "      <td>33</td>\n",
       "      <td>Biarritz</td>\n",
       "      <td>43.4832523</td>\n",
       "      <td>-1.5592776</td>\n",
       "    </tr>\n",
       "    <tr>\n",
       "      <th>33</th>\n",
       "      <td>34</td>\n",
       "      <td>Bayonne</td>\n",
       "      <td>43.4945144</td>\n",
       "      <td>-1.4736657</td>\n",
       "    </tr>\n",
       "    <tr>\n",
       "      <th>34</th>\n",
       "      <td>35</td>\n",
       "      <td>La Rochelle</td>\n",
       "      <td>46.1591126</td>\n",
       "      <td>-1.1520434</td>\n",
       "    </tr>\n",
       "  </tbody>\n",
       "</table>\n",
       "</div>"
      ],
      "text/plain": [
       "    id                          City    Latitude           Longitude\n",
       "0    1             Mont Saint Michel  48.6359541  -1.511459954959514\n",
       "1    2                       St Malo   48.649518          -2.0260409\n",
       "2    3                        Bayeux  49.2764624          -0.7024738\n",
       "3    4                      Le Havre  49.4938975           0.1079732\n",
       "4    5                         Rouen  49.4404591           1.0939658\n",
       "5    6                         Paris  48.8588897  2.3200410217200766\n",
       "6    7                        Amiens  49.8941708           2.2956951\n",
       "7    8                         Lille  50.6365654           3.0635282\n",
       "8    9                    Strasbourg   48.584614           7.7507127\n",
       "9   10  Chateau du Haut Koenigsbourg  48.2495226           7.3454923\n",
       "10  11                        Colmar  48.0777517           7.3579641\n",
       "11  12                     Eguisheim  48.0447968           7.3079618\n",
       "12  13                      Besancon  47.2380222           6.0243622\n",
       "13  14                         Dijon  47.3215806           5.0414701\n",
       "14  15                        Annecy  45.8992348           6.1288847\n",
       "15  16                      Grenoble  45.1875602           5.7357819\n",
       "16  17                          Lyon  45.7578137           4.8320114\n",
       "17  18              Gorges du Verdon  43.7496562           6.3285616\n",
       "18  19            Bormes les Mimosas  43.1506968           6.3419285\n",
       "19  20                        Cassis  43.2140359           5.5396318\n",
       "20  21                     Marseille  43.2961743           5.3699525\n",
       "21  22               Aix en Provence  43.5298424           5.4474738\n",
       "22  23                       Avignon  43.9492493           4.8059012\n",
       "23  24                          Uzes  44.0121279           4.4196718\n",
       "24  25                         Nimes  43.8374249           4.3600687\n",
       "25  26                 Aigues Mortes  43.5661521             4.19154\n",
       "26  27      Saintes Maries de la mer  43.4515922           4.4277202\n",
       "27  28                     Collioure    42.52505           3.0831554\n",
       "28  29                   Carcassonne  43.2130358           2.3491069\n",
       "29  30                        Ariege  42.9927428           1.6124975\n",
       "30  31                      Toulouse  43.6044622           1.4442469\n",
       "31  32                     Montauban  44.0175835           1.3549991\n",
       "32  33                      Biarritz  43.4832523          -1.5592776\n",
       "33  34                       Bayonne  43.4945144          -1.4736657\n",
       "34  35                   La Rochelle  46.1591126          -1.1520434"
      ]
     },
     "execution_count": 8,
     "metadata": {},
     "output_type": "execute_result"
    }
   ],
   "source": [
    "# vérification des résultats\n",
    "dataset_cities"
   ]
  },
  {
   "cell_type": "markdown",
   "metadata": {},
   "source": [
    "#### PART 2. Obtenir les données météorologiques concernant les villes"
   ]
  },
  {
   "cell_type": "markdown",
   "metadata": {},
   "source": [
    "Le site openweathermap renvoi à partir de coordonnées GPS un jeu de données trés etoffés qui comprend des données courantes, et des prévisions par minutes, heures, et jours.\n",
    "Nous avons fait le choix de ne garder que les données concernant les prévisions journalières, qui sont sur 7 jours.\n",
    "Les données journalières étant également nombreuses, nous n'avons également retenu que certaines d'entre elles :\n",
    "- le date du jour en question\n",
    "- la temperature (en degré celsius)\n",
    "- le taux d'humidité (e n%)\n",
    "- la vitesse du vent (en m/seconde)\n",
    "- la pluie (en mm par jour)"
   ]
  },
  {
   "cell_type": "code",
   "execution_count": 9,
   "metadata": {},
   "outputs": [],
   "source": [
    "# fonction créée avec l'aide d'exemples trouvés sur internet (notamment stackoverfflow) mais je n'ai malheuresuement pas noté le lien\n",
    "\n",
    "def read_credentials(file_path):\n",
    "    \"\"\"\n",
    "    fonction qui permet d'aller chercher les codes d'accès à openweahermap dans un fichier txt situé au même emplacement que le script\n",
    "    Args:\n",
    "        file_path (string): chemin d'accès et nom du fichier\n",
    "    Returns:\n",
    "        un dictionnaire avec les credentials sous forme de clé(s)/valeur(s)\n",
    "    \"\"\"\n",
    "    credentials = {}\n",
    "    with open(file_path, \"r\") as file:\n",
    "        for line in file:\n",
    "            key, value = line.strip().split(\"=\")\n",
    "            credentials[key] = value\n",
    "    return credentials\n",
    "\n",
    "# Détermination du chemin et/ou nom du fichier où sont les credentials\n",
    "credentials_path = \"access.txt\"\n",
    "\n",
    "# Lecture des credentials à partir du fichier indiqué\n",
    "credentials = read_credentials(credentials_path)\n",
    "\n",
    "# Affectation à 1 variable des credentials\n",
    "app_id = credentials[\"app_id\"]"
   ]
  },
  {
   "cell_type": "code",
   "execution_count": 10,
   "metadata": {},
   "outputs": [],
   "source": [
    "def city_weather(lat, lon, day, app_id):\n",
    "    \"\"\"\n",
    "    création d'une fonction qui renvoie des infos clés sur la météo prévisionnelle.\n",
    "    la fonction à trois paramètres : les coordonnées gps (latitude/longitude) et le jour pour lequel nous souhaitons les données\n",
    "    utlisation de l'API du site openweathermap (owm) avec des critères passés en paramètres : la clé de l'API, les coordonnées GPS, l'exclusion de certaines données (exclude) et le choix des unités (units)\n",
    "    a noter également deux points :\n",
    "    i) nous avons transformé la date qui n'est pas au bon format\n",
    "    ii) et nous avons utilisé un try/except pour gérer l'absence de la donnée sur la pluie liée au fait qu'il ne pleut pas. Dans ce cas nous afffectons la valeur 0\n",
    "\n",
    "    Args:\n",
    "        lat (float): latitude d'une ville\n",
    "        lon (float): longitude d'une ville\n",
    "        day (int): jour\n",
    "        app_id (string) : \n",
    "\n",
    "    Returns:\n",
    "        liste comprenant la date du jour, la température, l'humidité, le vent et la pluie\n",
    "    \"\"\"\n",
    "    url_owm = \"https://api.openweathermap.org/data/3.0/onecall?\"\n",
    "    criteria_owm = {\"lat\":lat, \"lon\":lon, \"appid\":app_id, \"exclude\":\"current,minutely,hourly\", \"units\":\"metric\"}\n",
    "    data_forecast = requests.get(url_owm, params = criteria_owm).json()\n",
    "    day_date = data_forecast[\"daily\"][day][\"dt\"]\n",
    "    day_date = datetime.fromtimestamp(day_date).strftime(\"%x\")\n",
    "    day_temp = data_forecast[\"daily\"][day][\"temp\"][\"day\"]\n",
    "    day_humidity = data_forecast[\"daily\"][day][\"humidity\"]\n",
    "    day_wind = data_forecast[\"daily\"][day][\"wind_speed\"]\n",
    "    try :\n",
    "        day_rain = data_forecast[\"daily\"][day][\"rain\"]\n",
    "    except :\n",
    "        day_rain=0\n",
    "    return [day_date, day_temp, day_humidity, day_wind, day_rain]"
   ]
  },
  {
   "cell_type": "code",
   "execution_count": 11,
   "metadata": {},
   "outputs": [
    {
     "data": {
      "text/html": [
       "<div>\n",
       "<style scoped>\n",
       "    .dataframe tbody tr th:only-of-type {\n",
       "        vertical-align: middle;\n",
       "    }\n",
       "\n",
       "    .dataframe tbody tr th {\n",
       "        vertical-align: top;\n",
       "    }\n",
       "\n",
       "    .dataframe thead th {\n",
       "        text-align: right;\n",
       "    }\n",
       "</style>\n",
       "<table border=\"1\" class=\"dataframe\">\n",
       "  <thead>\n",
       "    <tr style=\"text-align: right;\">\n",
       "      <th></th>\n",
       "      <th>id</th>\n",
       "      <th>Date</th>\n",
       "      <th>Temperature</th>\n",
       "      <th>Humidity</th>\n",
       "      <th>Wind</th>\n",
       "      <th>Rain</th>\n",
       "    </tr>\n",
       "  </thead>\n",
       "  <tbody>\n",
       "  </tbody>\n",
       "</table>\n",
       "</div>"
      ],
      "text/plain": [
       "Empty DataFrame\n",
       "Columns: [id, Date, Temperature, Humidity, Wind, Rain]\n",
       "Index: []"
      ]
     },
     "execution_count": 11,
     "metadata": {},
     "output_type": "execute_result"
    }
   ],
   "source": [
    "# création d'un dataframe destiné à contenir les prévisions météo à partir des coordonnées gps\n",
    "# les colonnes correspondent aux données météorologiques prévisionnelles\n",
    "# les lignes correspondent aux villes et aux jours (donc plusieurs lignes pour une même ville)\n",
    "dataset_forecast = pd.DataFrame(columns = [\"id\", \"Date\", \"Temperature\", \"Humidity\", \"Wind\", \"Rain\"])\n",
    "dataset_forecast"
   ]
  },
  {
   "cell_type": "code",
   "execution_count": 12,
   "metadata": {},
   "outputs": [
    {
     "name": "stderr",
     "output_type": "stream",
     "text": [
      "C:\\Users\\SD\\AppData\\Local\\Temp\\ipykernel_28252\\1853480214.py:10: FutureWarning: The behavior of DataFrame concatenation with empty or all-NA entries is deprecated. In a future version, this will no longer exclude empty or all-NA columns when determining the result dtypes. To retain the old behavior, exclude the relevant entries before the concat operation.\n",
      "  dataset_forecast = pd.concat([dataset_forecast, dataset_forecast_bis], ignore_index=True)\n"
     ]
    }
   ],
   "source": [
    "# itération sur les villes (35 villes) et les prévisions journalières (7 jours) pour compléter le dataset\n",
    "# nous aurions pu remplacer les chiffres par une valeur variable en fonction des résultats précédent (len par exemple)\n",
    "# nous utilisons la fonction city_weather créée précédemment\n",
    "# nous créons un dataframe temporaire pour y affecter les données renvoyées par la fonction\n",
    "# nous concaténons ce dataframe temporaire au dataframe principal\n",
    "for city in range(len(dataset_cities)):\n",
    "    for i in range(7):\n",
    "        response = city_weather(dataset_cities[\"Latitude\"][city], dataset_cities[\"Longitude\"][city], i, app_id)\n",
    "        dataset_forecast_bis = pd.DataFrame({\"id\":city+1, \"Date\":response[0], \"Temperature\":response[1], \"Humidity\":response[2], \"Wind\":response[3], \"Rain\":response[4]}, index=[i+7*city])\n",
    "        dataset_forecast = pd.concat([dataset_forecast, dataset_forecast_bis], ignore_index=True)"
   ]
  },
  {
   "cell_type": "code",
   "execution_count": 13,
   "metadata": {},
   "outputs": [
    {
     "data": {
      "text/plain": [
       "(245, 6)"
      ]
     },
     "execution_count": 13,
     "metadata": {},
     "output_type": "execute_result"
    }
   ],
   "source": [
    "# la taille du dataframe permet de confirmer les résultats. nous avons 245 lignes soit 35 villes x 7 jours\n",
    "dataset_forecast.shape"
   ]
  },
  {
   "cell_type": "code",
   "execution_count": 14,
   "metadata": {},
   "outputs": [
    {
     "data": {
      "text/html": [
       "<div>\n",
       "<style scoped>\n",
       "    .dataframe tbody tr th:only-of-type {\n",
       "        vertical-align: middle;\n",
       "    }\n",
       "\n",
       "    .dataframe tbody tr th {\n",
       "        vertical-align: top;\n",
       "    }\n",
       "\n",
       "    .dataframe thead th {\n",
       "        text-align: right;\n",
       "    }\n",
       "</style>\n",
       "<table border=\"1\" class=\"dataframe\">\n",
       "  <thead>\n",
       "    <tr style=\"text-align: right;\">\n",
       "      <th></th>\n",
       "      <th>id</th>\n",
       "      <th>Date</th>\n",
       "      <th>Temperature</th>\n",
       "      <th>Humidity</th>\n",
       "      <th>Wind</th>\n",
       "      <th>Rain</th>\n",
       "    </tr>\n",
       "  </thead>\n",
       "  <tbody>\n",
       "    <tr>\n",
       "      <th>0</th>\n",
       "      <td>1</td>\n",
       "      <td>03/11/24</td>\n",
       "      <td>11.21</td>\n",
       "      <td>82</td>\n",
       "      <td>6.85</td>\n",
       "      <td>0.24</td>\n",
       "    </tr>\n",
       "    <tr>\n",
       "      <th>1</th>\n",
       "      <td>1</td>\n",
       "      <td>03/12/24</td>\n",
       "      <td>10.46</td>\n",
       "      <td>96</td>\n",
       "      <td>5.51</td>\n",
       "      <td>2.06</td>\n",
       "    </tr>\n",
       "    <tr>\n",
       "      <th>2</th>\n",
       "      <td>1</td>\n",
       "      <td>03/13/24</td>\n",
       "      <td>14.42</td>\n",
       "      <td>72</td>\n",
       "      <td>5.03</td>\n",
       "      <td>0.00</td>\n",
       "    </tr>\n",
       "    <tr>\n",
       "      <th>3</th>\n",
       "      <td>1</td>\n",
       "      <td>03/14/24</td>\n",
       "      <td>14.99</td>\n",
       "      <td>72</td>\n",
       "      <td>5.96</td>\n",
       "      <td>0.25</td>\n",
       "    </tr>\n",
       "    <tr>\n",
       "      <th>4</th>\n",
       "      <td>1</td>\n",
       "      <td>03/15/24</td>\n",
       "      <td>13.77</td>\n",
       "      <td>83</td>\n",
       "      <td>6.60</td>\n",
       "      <td>0.69</td>\n",
       "    </tr>\n",
       "    <tr>\n",
       "      <th>5</th>\n",
       "      <td>1</td>\n",
       "      <td>03/16/24</td>\n",
       "      <td>15.12</td>\n",
       "      <td>79</td>\n",
       "      <td>6.44</td>\n",
       "      <td>3.96</td>\n",
       "    </tr>\n",
       "    <tr>\n",
       "      <th>6</th>\n",
       "      <td>1</td>\n",
       "      <td>03/17/24</td>\n",
       "      <td>13.27</td>\n",
       "      <td>82</td>\n",
       "      <td>6.36</td>\n",
       "      <td>1.92</td>\n",
       "    </tr>\n",
       "    <tr>\n",
       "      <th>7</th>\n",
       "      <td>2</td>\n",
       "      <td>03/11/24</td>\n",
       "      <td>11.02</td>\n",
       "      <td>80</td>\n",
       "      <td>7.54</td>\n",
       "      <td>0.00</td>\n",
       "    </tr>\n",
       "    <tr>\n",
       "      <th>8</th>\n",
       "      <td>2</td>\n",
       "      <td>03/12/24</td>\n",
       "      <td>11.87</td>\n",
       "      <td>88</td>\n",
       "      <td>6.32</td>\n",
       "      <td>1.00</td>\n",
       "    </tr>\n",
       "    <tr>\n",
       "      <th>9</th>\n",
       "      <td>2</td>\n",
       "      <td>03/13/24</td>\n",
       "      <td>13.57</td>\n",
       "      <td>73</td>\n",
       "      <td>7.12</td>\n",
       "      <td>0.00</td>\n",
       "    </tr>\n",
       "    <tr>\n",
       "      <th>10</th>\n",
       "      <td>2</td>\n",
       "      <td>03/14/24</td>\n",
       "      <td>14.11</td>\n",
       "      <td>73</td>\n",
       "      <td>6.83</td>\n",
       "      <td>0.19</td>\n",
       "    </tr>\n",
       "    <tr>\n",
       "      <th>11</th>\n",
       "      <td>2</td>\n",
       "      <td>03/15/24</td>\n",
       "      <td>13.61</td>\n",
       "      <td>78</td>\n",
       "      <td>7.57</td>\n",
       "      <td>0.13</td>\n",
       "    </tr>\n",
       "    <tr>\n",
       "      <th>12</th>\n",
       "      <td>2</td>\n",
       "      <td>03/16/24</td>\n",
       "      <td>14.73</td>\n",
       "      <td>79</td>\n",
       "      <td>7.21</td>\n",
       "      <td>4.38</td>\n",
       "    </tr>\n",
       "    <tr>\n",
       "      <th>13</th>\n",
       "      <td>2</td>\n",
       "      <td>03/17/24</td>\n",
       "      <td>12.98</td>\n",
       "      <td>81</td>\n",
       "      <td>6.04</td>\n",
       "      <td>0.93</td>\n",
       "    </tr>\n",
       "    <tr>\n",
       "      <th>14</th>\n",
       "      <td>3</td>\n",
       "      <td>03/11/24</td>\n",
       "      <td>10.26</td>\n",
       "      <td>83</td>\n",
       "      <td>6.19</td>\n",
       "      <td>0.73</td>\n",
       "    </tr>\n",
       "    <tr>\n",
       "      <th>15</th>\n",
       "      <td>3</td>\n",
       "      <td>03/12/24</td>\n",
       "      <td>9.78</td>\n",
       "      <td>94</td>\n",
       "      <td>6.78</td>\n",
       "      <td>2.40</td>\n",
       "    </tr>\n",
       "    <tr>\n",
       "      <th>16</th>\n",
       "      <td>3</td>\n",
       "      <td>03/13/24</td>\n",
       "      <td>14.58</td>\n",
       "      <td>71</td>\n",
       "      <td>6.59</td>\n",
       "      <td>0.00</td>\n",
       "    </tr>\n",
       "    <tr>\n",
       "      <th>17</th>\n",
       "      <td>3</td>\n",
       "      <td>03/14/24</td>\n",
       "      <td>14.96</td>\n",
       "      <td>71</td>\n",
       "      <td>5.66</td>\n",
       "      <td>0.00</td>\n",
       "    </tr>\n",
       "    <tr>\n",
       "      <th>18</th>\n",
       "      <td>3</td>\n",
       "      <td>03/15/24</td>\n",
       "      <td>14.09</td>\n",
       "      <td>80</td>\n",
       "      <td>7.85</td>\n",
       "      <td>0.83</td>\n",
       "    </tr>\n",
       "    <tr>\n",
       "      <th>19</th>\n",
       "      <td>3</td>\n",
       "      <td>03/16/24</td>\n",
       "      <td>15.54</td>\n",
       "      <td>74</td>\n",
       "      <td>6.79</td>\n",
       "      <td>4.11</td>\n",
       "    </tr>\n",
       "    <tr>\n",
       "      <th>20</th>\n",
       "      <td>3</td>\n",
       "      <td>03/17/24</td>\n",
       "      <td>13.65</td>\n",
       "      <td>78</td>\n",
       "      <td>6.31</td>\n",
       "      <td>1.92</td>\n",
       "    </tr>\n",
       "    <tr>\n",
       "      <th>21</th>\n",
       "      <td>4</td>\n",
       "      <td>03/11/24</td>\n",
       "      <td>9.33</td>\n",
       "      <td>91</td>\n",
       "      <td>7.14</td>\n",
       "      <td>0.42</td>\n",
       "    </tr>\n",
       "    <tr>\n",
       "      <th>22</th>\n",
       "      <td>4</td>\n",
       "      <td>03/12/24</td>\n",
       "      <td>8.61</td>\n",
       "      <td>96</td>\n",
       "      <td>6.52</td>\n",
       "      <td>5.43</td>\n",
       "    </tr>\n",
       "    <tr>\n",
       "      <th>23</th>\n",
       "      <td>4</td>\n",
       "      <td>03/13/24</td>\n",
       "      <td>11.58</td>\n",
       "      <td>82</td>\n",
       "      <td>6.39</td>\n",
       "      <td>0.00</td>\n",
       "    </tr>\n",
       "    <tr>\n",
       "      <th>24</th>\n",
       "      <td>4</td>\n",
       "      <td>03/14/24</td>\n",
       "      <td>12.23</td>\n",
       "      <td>80</td>\n",
       "      <td>5.93</td>\n",
       "      <td>0.00</td>\n",
       "    </tr>\n",
       "    <tr>\n",
       "      <th>25</th>\n",
       "      <td>4</td>\n",
       "      <td>03/15/24</td>\n",
       "      <td>11.37</td>\n",
       "      <td>90</td>\n",
       "      <td>6.10</td>\n",
       "      <td>1.89</td>\n",
       "    </tr>\n",
       "    <tr>\n",
       "      <th>26</th>\n",
       "      <td>4</td>\n",
       "      <td>03/16/24</td>\n",
       "      <td>12.58</td>\n",
       "      <td>84</td>\n",
       "      <td>6.01</td>\n",
       "      <td>6.45</td>\n",
       "    </tr>\n",
       "    <tr>\n",
       "      <th>27</th>\n",
       "      <td>4</td>\n",
       "      <td>03/17/24</td>\n",
       "      <td>11.45</td>\n",
       "      <td>87</td>\n",
       "      <td>6.44</td>\n",
       "      <td>2.64</td>\n",
       "    </tr>\n",
       "    <tr>\n",
       "      <th>28</th>\n",
       "      <td>5</td>\n",
       "      <td>03/11/24</td>\n",
       "      <td>10.09</td>\n",
       "      <td>81</td>\n",
       "      <td>6.92</td>\n",
       "      <td>0.51</td>\n",
       "    </tr>\n",
       "    <tr>\n",
       "      <th>29</th>\n",
       "      <td>5</td>\n",
       "      <td>03/12/24</td>\n",
       "      <td>8.60</td>\n",
       "      <td>91</td>\n",
       "      <td>4.64</td>\n",
       "      <td>3.89</td>\n",
       "    </tr>\n",
       "    <tr>\n",
       "      <th>30</th>\n",
       "      <td>5</td>\n",
       "      <td>03/13/24</td>\n",
       "      <td>11.65</td>\n",
       "      <td>80</td>\n",
       "      <td>4.58</td>\n",
       "      <td>0.00</td>\n",
       "    </tr>\n",
       "    <tr>\n",
       "      <th>31</th>\n",
       "      <td>5</td>\n",
       "      <td>03/14/24</td>\n",
       "      <td>15.51</td>\n",
       "      <td>68</td>\n",
       "      <td>5.49</td>\n",
       "      <td>0.00</td>\n",
       "    </tr>\n",
       "    <tr>\n",
       "      <th>32</th>\n",
       "      <td>5</td>\n",
       "      <td>03/15/24</td>\n",
       "      <td>13.65</td>\n",
       "      <td>82</td>\n",
       "      <td>5.74</td>\n",
       "      <td>1.93</td>\n",
       "    </tr>\n",
       "    <tr>\n",
       "      <th>33</th>\n",
       "      <td>5</td>\n",
       "      <td>03/16/24</td>\n",
       "      <td>15.48</td>\n",
       "      <td>75</td>\n",
       "      <td>4.91</td>\n",
       "      <td>2.46</td>\n",
       "    </tr>\n",
       "    <tr>\n",
       "      <th>34</th>\n",
       "      <td>5</td>\n",
       "      <td>03/17/24</td>\n",
       "      <td>13.98</td>\n",
       "      <td>81</td>\n",
       "      <td>5.69</td>\n",
       "      <td>4.53</td>\n",
       "    </tr>\n",
       "    <tr>\n",
       "      <th>35</th>\n",
       "      <td>6</td>\n",
       "      <td>03/11/24</td>\n",
       "      <td>11.63</td>\n",
       "      <td>65</td>\n",
       "      <td>4.91</td>\n",
       "      <td>0.51</td>\n",
       "    </tr>\n",
       "    <tr>\n",
       "      <th>36</th>\n",
       "      <td>6</td>\n",
       "      <td>03/12/24</td>\n",
       "      <td>12.79</td>\n",
       "      <td>50</td>\n",
       "      <td>4.23</td>\n",
       "      <td>2.25</td>\n",
       "    </tr>\n",
       "    <tr>\n",
       "      <th>37</th>\n",
       "      <td>6</td>\n",
       "      <td>03/13/24</td>\n",
       "      <td>15.39</td>\n",
       "      <td>57</td>\n",
       "      <td>3.33</td>\n",
       "      <td>0.58</td>\n",
       "    </tr>\n",
       "    <tr>\n",
       "      <th>38</th>\n",
       "      <td>6</td>\n",
       "      <td>03/14/24</td>\n",
       "      <td>15.51</td>\n",
       "      <td>56</td>\n",
       "      <td>3.76</td>\n",
       "      <td>0.00</td>\n",
       "    </tr>\n",
       "    <tr>\n",
       "      <th>39</th>\n",
       "      <td>6</td>\n",
       "      <td>03/15/24</td>\n",
       "      <td>16.60</td>\n",
       "      <td>60</td>\n",
       "      <td>5.32</td>\n",
       "      <td>3.11</td>\n",
       "    </tr>\n",
       "  </tbody>\n",
       "</table>\n",
       "</div>"
      ],
      "text/plain": [
       "   id      Date  Temperature Humidity  Wind  Rain\n",
       "0   1  03/11/24        11.21       82  6.85  0.24\n",
       "1   1  03/12/24        10.46       96  5.51  2.06\n",
       "2   1  03/13/24        14.42       72  5.03  0.00\n",
       "3   1  03/14/24        14.99       72  5.96  0.25\n",
       "4   1  03/15/24        13.77       83  6.60  0.69\n",
       "5   1  03/16/24        15.12       79  6.44  3.96\n",
       "6   1  03/17/24        13.27       82  6.36  1.92\n",
       "7   2  03/11/24        11.02       80  7.54  0.00\n",
       "8   2  03/12/24        11.87       88  6.32  1.00\n",
       "9   2  03/13/24        13.57       73  7.12  0.00\n",
       "10  2  03/14/24        14.11       73  6.83  0.19\n",
       "11  2  03/15/24        13.61       78  7.57  0.13\n",
       "12  2  03/16/24        14.73       79  7.21  4.38\n",
       "13  2  03/17/24        12.98       81  6.04  0.93\n",
       "14  3  03/11/24        10.26       83  6.19  0.73\n",
       "15  3  03/12/24         9.78       94  6.78  2.40\n",
       "16  3  03/13/24        14.58       71  6.59  0.00\n",
       "17  3  03/14/24        14.96       71  5.66  0.00\n",
       "18  3  03/15/24        14.09       80  7.85  0.83\n",
       "19  3  03/16/24        15.54       74  6.79  4.11\n",
       "20  3  03/17/24        13.65       78  6.31  1.92\n",
       "21  4  03/11/24         9.33       91  7.14  0.42\n",
       "22  4  03/12/24         8.61       96  6.52  5.43\n",
       "23  4  03/13/24        11.58       82  6.39  0.00\n",
       "24  4  03/14/24        12.23       80  5.93  0.00\n",
       "25  4  03/15/24        11.37       90  6.10  1.89\n",
       "26  4  03/16/24        12.58       84  6.01  6.45\n",
       "27  4  03/17/24        11.45       87  6.44  2.64\n",
       "28  5  03/11/24        10.09       81  6.92  0.51\n",
       "29  5  03/12/24         8.60       91  4.64  3.89\n",
       "30  5  03/13/24        11.65       80  4.58  0.00\n",
       "31  5  03/14/24        15.51       68  5.49  0.00\n",
       "32  5  03/15/24        13.65       82  5.74  1.93\n",
       "33  5  03/16/24        15.48       75  4.91  2.46\n",
       "34  5  03/17/24        13.98       81  5.69  4.53\n",
       "35  6  03/11/24        11.63       65  4.91  0.51\n",
       "36  6  03/12/24        12.79       50  4.23  2.25\n",
       "37  6  03/13/24        15.39       57  3.33  0.58\n",
       "38  6  03/14/24        15.51       56  3.76  0.00\n",
       "39  6  03/15/24        16.60       60  5.32  3.11"
      ]
     },
     "execution_count": 14,
     "metadata": {},
     "output_type": "execute_result"
    }
   ],
   "source": [
    "# nous avons bien également 7 lignes pour le même id (ville)\n",
    "dataset_forecast.head(40)"
   ]
  },
  {
   "cell_type": "code",
   "execution_count": 15,
   "metadata": {},
   "outputs": [
    {
     "data": {
      "text/plain": [
       "id              object\n",
       "Date            object\n",
       "Temperature    float64\n",
       "Humidity        object\n",
       "Wind           float64\n",
       "Rain           float64\n",
       "dtype: object"
      ]
     },
     "execution_count": 15,
     "metadata": {},
     "output_type": "execute_result"
    }
   ],
   "source": [
    "# nous vérifions également le format des données\n",
    "dataset_forecast.dtypes"
   ]
  },
  {
   "cell_type": "code",
   "execution_count": 16,
   "metadata": {},
   "outputs": [
    {
     "data": {
      "text/plain": [
       "id                     object\n",
       "Date           datetime64[ns]\n",
       "Temperature           float32\n",
       "Humidity              float32\n",
       "Wind                  float32\n",
       "Rain                  float32\n",
       "dtype: object"
      ]
     },
     "execution_count": 16,
     "metadata": {},
     "output_type": "execute_result"
    }
   ],
   "source": [
    "# certains formats ne sont pas adaptés au type de données, ou dans un format qui prend de la place\n",
    "# conversion des colonnes numériques avec la fonction pandas to_numeric avec en paramètre downcast ce que l'on souhaite (float)\n",
    "# conversion de la colonne date avec la fonction pandas to_datetime\n",
    "dataset_forecast[[\"Humidity\", \"Rain\", \"Temperature\", \"Wind\"]] = dataset_forecast[[\"Humidity\", \"Rain\", \"Temperature\", \"Wind\"]].apply(pd.to_numeric, downcast=\"float\")\n",
    "dataset_forecast[\"Date\"] = dataset_forecast[\"Date\"].apply(pd.to_datetime)\n",
    "\n",
    "#verification du résultat\n",
    "dataset_forecast.dtypes"
   ]
  },
  {
   "cell_type": "markdown",
   "metadata": {},
   "source": [
    "Nous avons à ce stade trop de données pour être capable de faire un choix sur une destination.\n",
    "Nous allons pour chaque critère calculer une valeur unique sur l'ensemble de la période de prévision, pour chaque id (ville).\n",
    "Nous avons retenu la médiane, plus robuste que la moyenne.\n",
    "\n",
    "Nous considérerons donc pour la suite du travail que les donnée ssont justes."
   ]
  },
  {
   "cell_type": "code",
   "execution_count": 17,
   "metadata": {},
   "outputs": [
    {
     "data": {
      "text/html": [
       "<div>\n",
       "<style scoped>\n",
       "    .dataframe tbody tr th:only-of-type {\n",
       "        vertical-align: middle;\n",
       "    }\n",
       "\n",
       "    .dataframe tbody tr th {\n",
       "        vertical-align: top;\n",
       "    }\n",
       "\n",
       "    .dataframe thead th {\n",
       "        text-align: right;\n",
       "    }\n",
       "</style>\n",
       "<table border=\"1\" class=\"dataframe\">\n",
       "  <thead>\n",
       "    <tr style=\"text-align: right;\">\n",
       "      <th></th>\n",
       "      <th>id</th>\n",
       "      <th>Temperature</th>\n",
       "      <th>Humidity</th>\n",
       "      <th>Wind</th>\n",
       "      <th>Rain</th>\n",
       "    </tr>\n",
       "  </thead>\n",
       "  <tbody>\n",
       "    <tr>\n",
       "      <th>0</th>\n",
       "      <td>1</td>\n",
       "      <td>13.800000</td>\n",
       "      <td>82.0</td>\n",
       "      <td>6.4</td>\n",
       "      <td>0.7</td>\n",
       "    </tr>\n",
       "    <tr>\n",
       "      <th>1</th>\n",
       "      <td>2</td>\n",
       "      <td>13.600000</td>\n",
       "      <td>79.0</td>\n",
       "      <td>7.1</td>\n",
       "      <td>0.2</td>\n",
       "    </tr>\n",
       "    <tr>\n",
       "      <th>2</th>\n",
       "      <td>3</td>\n",
       "      <td>14.100000</td>\n",
       "      <td>78.0</td>\n",
       "      <td>6.6</td>\n",
       "      <td>0.8</td>\n",
       "    </tr>\n",
       "    <tr>\n",
       "      <th>3</th>\n",
       "      <td>4</td>\n",
       "      <td>11.400000</td>\n",
       "      <td>87.0</td>\n",
       "      <td>6.4</td>\n",
       "      <td>1.9</td>\n",
       "    </tr>\n",
       "    <tr>\n",
       "      <th>4</th>\n",
       "      <td>5</td>\n",
       "      <td>13.600000</td>\n",
       "      <td>81.0</td>\n",
       "      <td>5.5</td>\n",
       "      <td>1.9</td>\n",
       "    </tr>\n",
       "    <tr>\n",
       "      <th>5</th>\n",
       "      <td>6</td>\n",
       "      <td>14.900000</td>\n",
       "      <td>60.0</td>\n",
       "      <td>3.8</td>\n",
       "      <td>0.6</td>\n",
       "    </tr>\n",
       "    <tr>\n",
       "      <th>6</th>\n",
       "      <td>7</td>\n",
       "      <td>13.400000</td>\n",
       "      <td>75.0</td>\n",
       "      <td>5.6</td>\n",
       "      <td>0.8</td>\n",
       "    </tr>\n",
       "    <tr>\n",
       "      <th>7</th>\n",
       "      <td>8</td>\n",
       "      <td>14.000000</td>\n",
       "      <td>73.0</td>\n",
       "      <td>5.6</td>\n",
       "      <td>1.1</td>\n",
       "    </tr>\n",
       "    <tr>\n",
       "      <th>8</th>\n",
       "      <td>9</td>\n",
       "      <td>13.900000</td>\n",
       "      <td>65.0</td>\n",
       "      <td>4.0</td>\n",
       "      <td>1.3</td>\n",
       "    </tr>\n",
       "    <tr>\n",
       "      <th>9</th>\n",
       "      <td>10</td>\n",
       "      <td>12.500000</td>\n",
       "      <td>63.0</td>\n",
       "      <td>2.3</td>\n",
       "      <td>0.7</td>\n",
       "    </tr>\n",
       "    <tr>\n",
       "      <th>10</th>\n",
       "      <td>11</td>\n",
       "      <td>14.600000</td>\n",
       "      <td>61.0</td>\n",
       "      <td>2.6</td>\n",
       "      <td>0.5</td>\n",
       "    </tr>\n",
       "    <tr>\n",
       "      <th>11</th>\n",
       "      <td>12</td>\n",
       "      <td>14.300000</td>\n",
       "      <td>61.0</td>\n",
       "      <td>2.5</td>\n",
       "      <td>0.3</td>\n",
       "    </tr>\n",
       "    <tr>\n",
       "      <th>12</th>\n",
       "      <td>13</td>\n",
       "      <td>11.900000</td>\n",
       "      <td>82.0</td>\n",
       "      <td>3.4</td>\n",
       "      <td>1.2</td>\n",
       "    </tr>\n",
       "    <tr>\n",
       "      <th>13</th>\n",
       "      <td>14</td>\n",
       "      <td>11.300000</td>\n",
       "      <td>88.0</td>\n",
       "      <td>3.5</td>\n",
       "      <td>1.5</td>\n",
       "    </tr>\n",
       "    <tr>\n",
       "      <th>14</th>\n",
       "      <td>15</td>\n",
       "      <td>15.000000</td>\n",
       "      <td>60.0</td>\n",
       "      <td>1.9</td>\n",
       "      <td>0.2</td>\n",
       "    </tr>\n",
       "    <tr>\n",
       "      <th>15</th>\n",
       "      <td>16</td>\n",
       "      <td>17.299999</td>\n",
       "      <td>57.0</td>\n",
       "      <td>2.1</td>\n",
       "      <td>0.4</td>\n",
       "    </tr>\n",
       "    <tr>\n",
       "      <th>16</th>\n",
       "      <td>17</td>\n",
       "      <td>12.700000</td>\n",
       "      <td>65.0</td>\n",
       "      <td>2.3</td>\n",
       "      <td>0.1</td>\n",
       "    </tr>\n",
       "    <tr>\n",
       "      <th>17</th>\n",
       "      <td>18</td>\n",
       "      <td>11.900000</td>\n",
       "      <td>53.0</td>\n",
       "      <td>3.0</td>\n",
       "      <td>0.0</td>\n",
       "    </tr>\n",
       "    <tr>\n",
       "      <th>18</th>\n",
       "      <td>19</td>\n",
       "      <td>14.400000</td>\n",
       "      <td>63.0</td>\n",
       "      <td>4.1</td>\n",
       "      <td>0.0</td>\n",
       "    </tr>\n",
       "    <tr>\n",
       "      <th>19</th>\n",
       "      <td>20</td>\n",
       "      <td>13.500000</td>\n",
       "      <td>69.0</td>\n",
       "      <td>5.3</td>\n",
       "      <td>0.0</td>\n",
       "    </tr>\n",
       "    <tr>\n",
       "      <th>20</th>\n",
       "      <td>21</td>\n",
       "      <td>14.200000</td>\n",
       "      <td>63.0</td>\n",
       "      <td>5.0</td>\n",
       "      <td>0.0</td>\n",
       "    </tr>\n",
       "    <tr>\n",
       "      <th>21</th>\n",
       "      <td>22</td>\n",
       "      <td>15.800000</td>\n",
       "      <td>48.0</td>\n",
       "      <td>3.7</td>\n",
       "      <td>0.0</td>\n",
       "    </tr>\n",
       "    <tr>\n",
       "      <th>22</th>\n",
       "      <td>23</td>\n",
       "      <td>15.300000</td>\n",
       "      <td>60.0</td>\n",
       "      <td>5.9</td>\n",
       "      <td>0.0</td>\n",
       "    </tr>\n",
       "    <tr>\n",
       "      <th>23</th>\n",
       "      <td>24</td>\n",
       "      <td>15.100000</td>\n",
       "      <td>57.0</td>\n",
       "      <td>4.3</td>\n",
       "      <td>0.0</td>\n",
       "    </tr>\n",
       "    <tr>\n",
       "      <th>24</th>\n",
       "      <td>25</td>\n",
       "      <td>16.500000</td>\n",
       "      <td>53.0</td>\n",
       "      <td>4.3</td>\n",
       "      <td>0.0</td>\n",
       "    </tr>\n",
       "    <tr>\n",
       "      <th>25</th>\n",
       "      <td>26</td>\n",
       "      <td>14.100000</td>\n",
       "      <td>61.0</td>\n",
       "      <td>3.6</td>\n",
       "      <td>0.0</td>\n",
       "    </tr>\n",
       "    <tr>\n",
       "      <th>26</th>\n",
       "      <td>27</td>\n",
       "      <td>13.800000</td>\n",
       "      <td>64.0</td>\n",
       "      <td>4.6</td>\n",
       "      <td>0.0</td>\n",
       "    </tr>\n",
       "    <tr>\n",
       "      <th>27</th>\n",
       "      <td>28</td>\n",
       "      <td>17.400000</td>\n",
       "      <td>57.0</td>\n",
       "      <td>3.5</td>\n",
       "      <td>0.0</td>\n",
       "    </tr>\n",
       "    <tr>\n",
       "      <th>28</th>\n",
       "      <td>29</td>\n",
       "      <td>16.700001</td>\n",
       "      <td>59.0</td>\n",
       "      <td>4.7</td>\n",
       "      <td>0.0</td>\n",
       "    </tr>\n",
       "    <tr>\n",
       "      <th>29</th>\n",
       "      <td>30</td>\n",
       "      <td>16.500000</td>\n",
       "      <td>61.0</td>\n",
       "      <td>2.4</td>\n",
       "      <td>0.0</td>\n",
       "    </tr>\n",
       "    <tr>\n",
       "      <th>30</th>\n",
       "      <td>31</td>\n",
       "      <td>16.200001</td>\n",
       "      <td>65.0</td>\n",
       "      <td>4.2</td>\n",
       "      <td>0.1</td>\n",
       "    </tr>\n",
       "    <tr>\n",
       "      <th>31</th>\n",
       "      <td>32</td>\n",
       "      <td>16.000000</td>\n",
       "      <td>65.0</td>\n",
       "      <td>4.1</td>\n",
       "      <td>0.4</td>\n",
       "    </tr>\n",
       "    <tr>\n",
       "      <th>32</th>\n",
       "      <td>33</td>\n",
       "      <td>16.100000</td>\n",
       "      <td>70.0</td>\n",
       "      <td>4.3</td>\n",
       "      <td>2.3</td>\n",
       "    </tr>\n",
       "    <tr>\n",
       "      <th>33</th>\n",
       "      <td>34</td>\n",
       "      <td>16.799999</td>\n",
       "      <td>67.0</td>\n",
       "      <td>3.5</td>\n",
       "      <td>1.8</td>\n",
       "    </tr>\n",
       "    <tr>\n",
       "      <th>34</th>\n",
       "      <td>35</td>\n",
       "      <td>12.100000</td>\n",
       "      <td>79.0</td>\n",
       "      <td>5.7</td>\n",
       "      <td>0.7</td>\n",
       "    </tr>\n",
       "  </tbody>\n",
       "</table>\n",
       "</div>"
      ],
      "text/plain": [
       "    id  Temperature  Humidity  Wind  Rain\n",
       "0    1    13.800000      82.0   6.4   0.7\n",
       "1    2    13.600000      79.0   7.1   0.2\n",
       "2    3    14.100000      78.0   6.6   0.8\n",
       "3    4    11.400000      87.0   6.4   1.9\n",
       "4    5    13.600000      81.0   5.5   1.9\n",
       "5    6    14.900000      60.0   3.8   0.6\n",
       "6    7    13.400000      75.0   5.6   0.8\n",
       "7    8    14.000000      73.0   5.6   1.1\n",
       "8    9    13.900000      65.0   4.0   1.3\n",
       "9   10    12.500000      63.0   2.3   0.7\n",
       "10  11    14.600000      61.0   2.6   0.5\n",
       "11  12    14.300000      61.0   2.5   0.3\n",
       "12  13    11.900000      82.0   3.4   1.2\n",
       "13  14    11.300000      88.0   3.5   1.5\n",
       "14  15    15.000000      60.0   1.9   0.2\n",
       "15  16    17.299999      57.0   2.1   0.4\n",
       "16  17    12.700000      65.0   2.3   0.1\n",
       "17  18    11.900000      53.0   3.0   0.0\n",
       "18  19    14.400000      63.0   4.1   0.0\n",
       "19  20    13.500000      69.0   5.3   0.0\n",
       "20  21    14.200000      63.0   5.0   0.0\n",
       "21  22    15.800000      48.0   3.7   0.0\n",
       "22  23    15.300000      60.0   5.9   0.0\n",
       "23  24    15.100000      57.0   4.3   0.0\n",
       "24  25    16.500000      53.0   4.3   0.0\n",
       "25  26    14.100000      61.0   3.6   0.0\n",
       "26  27    13.800000      64.0   4.6   0.0\n",
       "27  28    17.400000      57.0   3.5   0.0\n",
       "28  29    16.700001      59.0   4.7   0.0\n",
       "29  30    16.500000      61.0   2.4   0.0\n",
       "30  31    16.200001      65.0   4.2   0.1\n",
       "31  32    16.000000      65.0   4.1   0.4\n",
       "32  33    16.100000      70.0   4.3   2.3\n",
       "33  34    16.799999      67.0   3.5   1.8\n",
       "34  35    12.100000      79.0   5.7   0.7"
      ]
     },
     "execution_count": 17,
     "metadata": {},
     "output_type": "execute_result"
    }
   ],
   "source": [
    "# utlisation de la fonction groupby() à partir de l'id. le paramètre as_index permet de garder l'id comme une colonne sinon il passerait en index\n",
    "# les chiffres sont arrondis\n",
    "median_forecast = dataset_forecast.groupby([\"id\"], as_index=False)[[\"Temperature\", \"Humidity\", \"Wind\", \"Rain\"]].median().round(1)\n",
    "median_forecast"
   ]
  },
  {
   "cell_type": "markdown",
   "metadata": {},
   "source": [
    "Maintenant que nous avons pour chaque ville (id) une valeur unique par paramètre, nous allons rajouter à notre dataframe initiale les colonnes concernant la météo previsionnelle"
   ]
  },
  {
   "cell_type": "code",
   "execution_count": 18,
   "metadata": {},
   "outputs": [
    {
     "data": {
      "text/html": [
       "<div>\n",
       "<style scoped>\n",
       "    .dataframe tbody tr th:only-of-type {\n",
       "        vertical-align: middle;\n",
       "    }\n",
       "\n",
       "    .dataframe tbody tr th {\n",
       "        vertical-align: top;\n",
       "    }\n",
       "\n",
       "    .dataframe thead th {\n",
       "        text-align: right;\n",
       "    }\n",
       "</style>\n",
       "<table border=\"1\" class=\"dataframe\">\n",
       "  <thead>\n",
       "    <tr style=\"text-align: right;\">\n",
       "      <th></th>\n",
       "      <th>id</th>\n",
       "      <th>City</th>\n",
       "      <th>Latitude</th>\n",
       "      <th>Longitude</th>\n",
       "      <th>Temperature</th>\n",
       "      <th>Humidity</th>\n",
       "      <th>Wind</th>\n",
       "      <th>Rain</th>\n",
       "    </tr>\n",
       "  </thead>\n",
       "  <tbody>\n",
       "    <tr>\n",
       "      <th>0</th>\n",
       "      <td>1</td>\n",
       "      <td>Mont Saint Michel</td>\n",
       "      <td>48.6359541</td>\n",
       "      <td>-1.511459954959514</td>\n",
       "      <td>13.800000</td>\n",
       "      <td>82.0</td>\n",
       "      <td>6.4</td>\n",
       "      <td>0.7</td>\n",
       "    </tr>\n",
       "    <tr>\n",
       "      <th>1</th>\n",
       "      <td>2</td>\n",
       "      <td>St Malo</td>\n",
       "      <td>48.649518</td>\n",
       "      <td>-2.0260409</td>\n",
       "      <td>13.600000</td>\n",
       "      <td>79.0</td>\n",
       "      <td>7.1</td>\n",
       "      <td>0.2</td>\n",
       "    </tr>\n",
       "    <tr>\n",
       "      <th>2</th>\n",
       "      <td>3</td>\n",
       "      <td>Bayeux</td>\n",
       "      <td>49.2764624</td>\n",
       "      <td>-0.7024738</td>\n",
       "      <td>14.100000</td>\n",
       "      <td>78.0</td>\n",
       "      <td>6.6</td>\n",
       "      <td>0.8</td>\n",
       "    </tr>\n",
       "    <tr>\n",
       "      <th>3</th>\n",
       "      <td>4</td>\n",
       "      <td>Le Havre</td>\n",
       "      <td>49.4938975</td>\n",
       "      <td>0.1079732</td>\n",
       "      <td>11.400000</td>\n",
       "      <td>87.0</td>\n",
       "      <td>6.4</td>\n",
       "      <td>1.9</td>\n",
       "    </tr>\n",
       "    <tr>\n",
       "      <th>4</th>\n",
       "      <td>5</td>\n",
       "      <td>Rouen</td>\n",
       "      <td>49.4404591</td>\n",
       "      <td>1.0939658</td>\n",
       "      <td>13.600000</td>\n",
       "      <td>81.0</td>\n",
       "      <td>5.5</td>\n",
       "      <td>1.9</td>\n",
       "    </tr>\n",
       "    <tr>\n",
       "      <th>5</th>\n",
       "      <td>6</td>\n",
       "      <td>Paris</td>\n",
       "      <td>48.8588897</td>\n",
       "      <td>2.3200410217200766</td>\n",
       "      <td>14.900000</td>\n",
       "      <td>60.0</td>\n",
       "      <td>3.8</td>\n",
       "      <td>0.6</td>\n",
       "    </tr>\n",
       "    <tr>\n",
       "      <th>6</th>\n",
       "      <td>7</td>\n",
       "      <td>Amiens</td>\n",
       "      <td>49.8941708</td>\n",
       "      <td>2.2956951</td>\n",
       "      <td>13.400000</td>\n",
       "      <td>75.0</td>\n",
       "      <td>5.6</td>\n",
       "      <td>0.8</td>\n",
       "    </tr>\n",
       "    <tr>\n",
       "      <th>7</th>\n",
       "      <td>8</td>\n",
       "      <td>Lille</td>\n",
       "      <td>50.6365654</td>\n",
       "      <td>3.0635282</td>\n",
       "      <td>14.000000</td>\n",
       "      <td>73.0</td>\n",
       "      <td>5.6</td>\n",
       "      <td>1.1</td>\n",
       "    </tr>\n",
       "    <tr>\n",
       "      <th>8</th>\n",
       "      <td>9</td>\n",
       "      <td>Strasbourg</td>\n",
       "      <td>48.584614</td>\n",
       "      <td>7.7507127</td>\n",
       "      <td>13.900000</td>\n",
       "      <td>65.0</td>\n",
       "      <td>4.0</td>\n",
       "      <td>1.3</td>\n",
       "    </tr>\n",
       "    <tr>\n",
       "      <th>9</th>\n",
       "      <td>10</td>\n",
       "      <td>Chateau du Haut Koenigsbourg</td>\n",
       "      <td>48.2495226</td>\n",
       "      <td>7.3454923</td>\n",
       "      <td>12.500000</td>\n",
       "      <td>63.0</td>\n",
       "      <td>2.3</td>\n",
       "      <td>0.7</td>\n",
       "    </tr>\n",
       "    <tr>\n",
       "      <th>10</th>\n",
       "      <td>11</td>\n",
       "      <td>Colmar</td>\n",
       "      <td>48.0777517</td>\n",
       "      <td>7.3579641</td>\n",
       "      <td>14.600000</td>\n",
       "      <td>61.0</td>\n",
       "      <td>2.6</td>\n",
       "      <td>0.5</td>\n",
       "    </tr>\n",
       "    <tr>\n",
       "      <th>11</th>\n",
       "      <td>12</td>\n",
       "      <td>Eguisheim</td>\n",
       "      <td>48.0447968</td>\n",
       "      <td>7.3079618</td>\n",
       "      <td>14.300000</td>\n",
       "      <td>61.0</td>\n",
       "      <td>2.5</td>\n",
       "      <td>0.3</td>\n",
       "    </tr>\n",
       "    <tr>\n",
       "      <th>12</th>\n",
       "      <td>13</td>\n",
       "      <td>Besancon</td>\n",
       "      <td>47.2380222</td>\n",
       "      <td>6.0243622</td>\n",
       "      <td>11.900000</td>\n",
       "      <td>82.0</td>\n",
       "      <td>3.4</td>\n",
       "      <td>1.2</td>\n",
       "    </tr>\n",
       "    <tr>\n",
       "      <th>13</th>\n",
       "      <td>14</td>\n",
       "      <td>Dijon</td>\n",
       "      <td>47.3215806</td>\n",
       "      <td>5.0414701</td>\n",
       "      <td>11.300000</td>\n",
       "      <td>88.0</td>\n",
       "      <td>3.5</td>\n",
       "      <td>1.5</td>\n",
       "    </tr>\n",
       "    <tr>\n",
       "      <th>14</th>\n",
       "      <td>15</td>\n",
       "      <td>Annecy</td>\n",
       "      <td>45.8992348</td>\n",
       "      <td>6.1288847</td>\n",
       "      <td>15.000000</td>\n",
       "      <td>60.0</td>\n",
       "      <td>1.9</td>\n",
       "      <td>0.2</td>\n",
       "    </tr>\n",
       "    <tr>\n",
       "      <th>15</th>\n",
       "      <td>16</td>\n",
       "      <td>Grenoble</td>\n",
       "      <td>45.1875602</td>\n",
       "      <td>5.7357819</td>\n",
       "      <td>17.299999</td>\n",
       "      <td>57.0</td>\n",
       "      <td>2.1</td>\n",
       "      <td>0.4</td>\n",
       "    </tr>\n",
       "    <tr>\n",
       "      <th>16</th>\n",
       "      <td>17</td>\n",
       "      <td>Lyon</td>\n",
       "      <td>45.7578137</td>\n",
       "      <td>4.8320114</td>\n",
       "      <td>12.700000</td>\n",
       "      <td>65.0</td>\n",
       "      <td>2.3</td>\n",
       "      <td>0.1</td>\n",
       "    </tr>\n",
       "    <tr>\n",
       "      <th>17</th>\n",
       "      <td>18</td>\n",
       "      <td>Gorges du Verdon</td>\n",
       "      <td>43.7496562</td>\n",
       "      <td>6.3285616</td>\n",
       "      <td>11.900000</td>\n",
       "      <td>53.0</td>\n",
       "      <td>3.0</td>\n",
       "      <td>0.0</td>\n",
       "    </tr>\n",
       "    <tr>\n",
       "      <th>18</th>\n",
       "      <td>19</td>\n",
       "      <td>Bormes les Mimosas</td>\n",
       "      <td>43.1506968</td>\n",
       "      <td>6.3419285</td>\n",
       "      <td>14.400000</td>\n",
       "      <td>63.0</td>\n",
       "      <td>4.1</td>\n",
       "      <td>0.0</td>\n",
       "    </tr>\n",
       "    <tr>\n",
       "      <th>19</th>\n",
       "      <td>20</td>\n",
       "      <td>Cassis</td>\n",
       "      <td>43.2140359</td>\n",
       "      <td>5.5396318</td>\n",
       "      <td>13.500000</td>\n",
       "      <td>69.0</td>\n",
       "      <td>5.3</td>\n",
       "      <td>0.0</td>\n",
       "    </tr>\n",
       "    <tr>\n",
       "      <th>20</th>\n",
       "      <td>21</td>\n",
       "      <td>Marseille</td>\n",
       "      <td>43.2961743</td>\n",
       "      <td>5.3699525</td>\n",
       "      <td>14.200000</td>\n",
       "      <td>63.0</td>\n",
       "      <td>5.0</td>\n",
       "      <td>0.0</td>\n",
       "    </tr>\n",
       "    <tr>\n",
       "      <th>21</th>\n",
       "      <td>22</td>\n",
       "      <td>Aix en Provence</td>\n",
       "      <td>43.5298424</td>\n",
       "      <td>5.4474738</td>\n",
       "      <td>15.800000</td>\n",
       "      <td>48.0</td>\n",
       "      <td>3.7</td>\n",
       "      <td>0.0</td>\n",
       "    </tr>\n",
       "    <tr>\n",
       "      <th>22</th>\n",
       "      <td>23</td>\n",
       "      <td>Avignon</td>\n",
       "      <td>43.9492493</td>\n",
       "      <td>4.8059012</td>\n",
       "      <td>15.300000</td>\n",
       "      <td>60.0</td>\n",
       "      <td>5.9</td>\n",
       "      <td>0.0</td>\n",
       "    </tr>\n",
       "    <tr>\n",
       "      <th>23</th>\n",
       "      <td>24</td>\n",
       "      <td>Uzes</td>\n",
       "      <td>44.0121279</td>\n",
       "      <td>4.4196718</td>\n",
       "      <td>15.100000</td>\n",
       "      <td>57.0</td>\n",
       "      <td>4.3</td>\n",
       "      <td>0.0</td>\n",
       "    </tr>\n",
       "    <tr>\n",
       "      <th>24</th>\n",
       "      <td>25</td>\n",
       "      <td>Nimes</td>\n",
       "      <td>43.8374249</td>\n",
       "      <td>4.3600687</td>\n",
       "      <td>16.500000</td>\n",
       "      <td>53.0</td>\n",
       "      <td>4.3</td>\n",
       "      <td>0.0</td>\n",
       "    </tr>\n",
       "    <tr>\n",
       "      <th>25</th>\n",
       "      <td>26</td>\n",
       "      <td>Aigues Mortes</td>\n",
       "      <td>43.5661521</td>\n",
       "      <td>4.19154</td>\n",
       "      <td>14.100000</td>\n",
       "      <td>61.0</td>\n",
       "      <td>3.6</td>\n",
       "      <td>0.0</td>\n",
       "    </tr>\n",
       "    <tr>\n",
       "      <th>26</th>\n",
       "      <td>27</td>\n",
       "      <td>Saintes Maries de la mer</td>\n",
       "      <td>43.4515922</td>\n",
       "      <td>4.4277202</td>\n",
       "      <td>13.800000</td>\n",
       "      <td>64.0</td>\n",
       "      <td>4.6</td>\n",
       "      <td>0.0</td>\n",
       "    </tr>\n",
       "    <tr>\n",
       "      <th>27</th>\n",
       "      <td>28</td>\n",
       "      <td>Collioure</td>\n",
       "      <td>42.52505</td>\n",
       "      <td>3.0831554</td>\n",
       "      <td>17.400000</td>\n",
       "      <td>57.0</td>\n",
       "      <td>3.5</td>\n",
       "      <td>0.0</td>\n",
       "    </tr>\n",
       "    <tr>\n",
       "      <th>28</th>\n",
       "      <td>29</td>\n",
       "      <td>Carcassonne</td>\n",
       "      <td>43.2130358</td>\n",
       "      <td>2.3491069</td>\n",
       "      <td>16.700001</td>\n",
       "      <td>59.0</td>\n",
       "      <td>4.7</td>\n",
       "      <td>0.0</td>\n",
       "    </tr>\n",
       "    <tr>\n",
       "      <th>29</th>\n",
       "      <td>30</td>\n",
       "      <td>Ariege</td>\n",
       "      <td>42.9927428</td>\n",
       "      <td>1.6124975</td>\n",
       "      <td>16.500000</td>\n",
       "      <td>61.0</td>\n",
       "      <td>2.4</td>\n",
       "      <td>0.0</td>\n",
       "    </tr>\n",
       "    <tr>\n",
       "      <th>30</th>\n",
       "      <td>31</td>\n",
       "      <td>Toulouse</td>\n",
       "      <td>43.6044622</td>\n",
       "      <td>1.4442469</td>\n",
       "      <td>16.200001</td>\n",
       "      <td>65.0</td>\n",
       "      <td>4.2</td>\n",
       "      <td>0.1</td>\n",
       "    </tr>\n",
       "    <tr>\n",
       "      <th>31</th>\n",
       "      <td>32</td>\n",
       "      <td>Montauban</td>\n",
       "      <td>44.0175835</td>\n",
       "      <td>1.3549991</td>\n",
       "      <td>16.000000</td>\n",
       "      <td>65.0</td>\n",
       "      <td>4.1</td>\n",
       "      <td>0.4</td>\n",
       "    </tr>\n",
       "    <tr>\n",
       "      <th>32</th>\n",
       "      <td>33</td>\n",
       "      <td>Biarritz</td>\n",
       "      <td>43.4832523</td>\n",
       "      <td>-1.5592776</td>\n",
       "      <td>16.100000</td>\n",
       "      <td>70.0</td>\n",
       "      <td>4.3</td>\n",
       "      <td>2.3</td>\n",
       "    </tr>\n",
       "    <tr>\n",
       "      <th>33</th>\n",
       "      <td>34</td>\n",
       "      <td>Bayonne</td>\n",
       "      <td>43.4945144</td>\n",
       "      <td>-1.4736657</td>\n",
       "      <td>16.799999</td>\n",
       "      <td>67.0</td>\n",
       "      <td>3.5</td>\n",
       "      <td>1.8</td>\n",
       "    </tr>\n",
       "    <tr>\n",
       "      <th>34</th>\n",
       "      <td>35</td>\n",
       "      <td>La Rochelle</td>\n",
       "      <td>46.1591126</td>\n",
       "      <td>-1.1520434</td>\n",
       "      <td>12.100000</td>\n",
       "      <td>79.0</td>\n",
       "      <td>5.7</td>\n",
       "      <td>0.7</td>\n",
       "    </tr>\n",
       "  </tbody>\n",
       "</table>\n",
       "</div>"
      ],
      "text/plain": [
       "    id                          City    Latitude           Longitude  \\\n",
       "0    1             Mont Saint Michel  48.6359541  -1.511459954959514   \n",
       "1    2                       St Malo   48.649518          -2.0260409   \n",
       "2    3                        Bayeux  49.2764624          -0.7024738   \n",
       "3    4                      Le Havre  49.4938975           0.1079732   \n",
       "4    5                         Rouen  49.4404591           1.0939658   \n",
       "5    6                         Paris  48.8588897  2.3200410217200766   \n",
       "6    7                        Amiens  49.8941708           2.2956951   \n",
       "7    8                         Lille  50.6365654           3.0635282   \n",
       "8    9                    Strasbourg   48.584614           7.7507127   \n",
       "9   10  Chateau du Haut Koenigsbourg  48.2495226           7.3454923   \n",
       "10  11                        Colmar  48.0777517           7.3579641   \n",
       "11  12                     Eguisheim  48.0447968           7.3079618   \n",
       "12  13                      Besancon  47.2380222           6.0243622   \n",
       "13  14                         Dijon  47.3215806           5.0414701   \n",
       "14  15                        Annecy  45.8992348           6.1288847   \n",
       "15  16                      Grenoble  45.1875602           5.7357819   \n",
       "16  17                          Lyon  45.7578137           4.8320114   \n",
       "17  18              Gorges du Verdon  43.7496562           6.3285616   \n",
       "18  19            Bormes les Mimosas  43.1506968           6.3419285   \n",
       "19  20                        Cassis  43.2140359           5.5396318   \n",
       "20  21                     Marseille  43.2961743           5.3699525   \n",
       "21  22               Aix en Provence  43.5298424           5.4474738   \n",
       "22  23                       Avignon  43.9492493           4.8059012   \n",
       "23  24                          Uzes  44.0121279           4.4196718   \n",
       "24  25                         Nimes  43.8374249           4.3600687   \n",
       "25  26                 Aigues Mortes  43.5661521             4.19154   \n",
       "26  27      Saintes Maries de la mer  43.4515922           4.4277202   \n",
       "27  28                     Collioure    42.52505           3.0831554   \n",
       "28  29                   Carcassonne  43.2130358           2.3491069   \n",
       "29  30                        Ariege  42.9927428           1.6124975   \n",
       "30  31                      Toulouse  43.6044622           1.4442469   \n",
       "31  32                     Montauban  44.0175835           1.3549991   \n",
       "32  33                      Biarritz  43.4832523          -1.5592776   \n",
       "33  34                       Bayonne  43.4945144          -1.4736657   \n",
       "34  35                   La Rochelle  46.1591126          -1.1520434   \n",
       "\n",
       "    Temperature  Humidity  Wind  Rain  \n",
       "0     13.800000      82.0   6.4   0.7  \n",
       "1     13.600000      79.0   7.1   0.2  \n",
       "2     14.100000      78.0   6.6   0.8  \n",
       "3     11.400000      87.0   6.4   1.9  \n",
       "4     13.600000      81.0   5.5   1.9  \n",
       "5     14.900000      60.0   3.8   0.6  \n",
       "6     13.400000      75.0   5.6   0.8  \n",
       "7     14.000000      73.0   5.6   1.1  \n",
       "8     13.900000      65.0   4.0   1.3  \n",
       "9     12.500000      63.0   2.3   0.7  \n",
       "10    14.600000      61.0   2.6   0.5  \n",
       "11    14.300000      61.0   2.5   0.3  \n",
       "12    11.900000      82.0   3.4   1.2  \n",
       "13    11.300000      88.0   3.5   1.5  \n",
       "14    15.000000      60.0   1.9   0.2  \n",
       "15    17.299999      57.0   2.1   0.4  \n",
       "16    12.700000      65.0   2.3   0.1  \n",
       "17    11.900000      53.0   3.0   0.0  \n",
       "18    14.400000      63.0   4.1   0.0  \n",
       "19    13.500000      69.0   5.3   0.0  \n",
       "20    14.200000      63.0   5.0   0.0  \n",
       "21    15.800000      48.0   3.7   0.0  \n",
       "22    15.300000      60.0   5.9   0.0  \n",
       "23    15.100000      57.0   4.3   0.0  \n",
       "24    16.500000      53.0   4.3   0.0  \n",
       "25    14.100000      61.0   3.6   0.0  \n",
       "26    13.800000      64.0   4.6   0.0  \n",
       "27    17.400000      57.0   3.5   0.0  \n",
       "28    16.700001      59.0   4.7   0.0  \n",
       "29    16.500000      61.0   2.4   0.0  \n",
       "30    16.200001      65.0   4.2   0.1  \n",
       "31    16.000000      65.0   4.1   0.4  \n",
       "32    16.100000      70.0   4.3   2.3  \n",
       "33    16.799999      67.0   3.5   1.8  \n",
       "34    12.100000      79.0   5.7   0.7  "
      ]
     },
     "execution_count": 18,
     "metadata": {},
     "output_type": "execute_result"
    }
   ],
   "source": [
    "# utilisation de la fonction merge() pour fusionner les 2 dataframes en jointant sur la colonne commune \"id\"\n",
    "dataset_cities = dataset_cities.merge(median_forecast, on=[\"id\"])\n",
    "dataset_cities"
   ]
  },
  {
   "cell_type": "code",
   "execution_count": 19,
   "metadata": {},
   "outputs": [],
   "source": [
    "# sauvegarde du résultat sous forme de fichier csv, sans les index\n",
    "dataset_cities.to_csv(\"dataset_cities.csv\", index=False)"
   ]
  },
  {
   "cell_type": "markdown",
   "metadata": {},
   "source": [
    "Selon nos critères (arbitraire pour les besoins de l'exercice), les destinations les plus intéressantes seront celles avec :\n",
    "- une quantité de pluie inférieure ou égale à 0.5\n",
    "- une température moyenne supérieure à 10 degrés\n",
    "- une humidité inférieure ou égale à 60%\n",
    "- un vent au maximum de 5 m/sec"
   ]
  },
  {
   "cell_type": "code",
   "execution_count": 20,
   "metadata": {},
   "outputs": [
    {
     "data": {
      "text/html": [
       "<div>\n",
       "<style scoped>\n",
       "    .dataframe tbody tr th:only-of-type {\n",
       "        vertical-align: middle;\n",
       "    }\n",
       "\n",
       "    .dataframe tbody tr th {\n",
       "        vertical-align: top;\n",
       "    }\n",
       "\n",
       "    .dataframe thead th {\n",
       "        text-align: right;\n",
       "    }\n",
       "</style>\n",
       "<table border=\"1\" class=\"dataframe\">\n",
       "  <thead>\n",
       "    <tr style=\"text-align: right;\">\n",
       "      <th></th>\n",
       "      <th>id</th>\n",
       "      <th>City</th>\n",
       "      <th>Latitude</th>\n",
       "      <th>Longitude</th>\n",
       "      <th>Temperature</th>\n",
       "      <th>Humidity</th>\n",
       "      <th>Wind</th>\n",
       "      <th>Rain</th>\n",
       "    </tr>\n",
       "  </thead>\n",
       "  <tbody>\n",
       "    <tr>\n",
       "      <th>14</th>\n",
       "      <td>15</td>\n",
       "      <td>Annecy</td>\n",
       "      <td>45.8992348</td>\n",
       "      <td>6.1288847</td>\n",
       "      <td>15.000000</td>\n",
       "      <td>60.0</td>\n",
       "      <td>1.9</td>\n",
       "      <td>0.2</td>\n",
       "    </tr>\n",
       "    <tr>\n",
       "      <th>15</th>\n",
       "      <td>16</td>\n",
       "      <td>Grenoble</td>\n",
       "      <td>45.1875602</td>\n",
       "      <td>5.7357819</td>\n",
       "      <td>17.299999</td>\n",
       "      <td>57.0</td>\n",
       "      <td>2.1</td>\n",
       "      <td>0.4</td>\n",
       "    </tr>\n",
       "    <tr>\n",
       "      <th>17</th>\n",
       "      <td>18</td>\n",
       "      <td>Gorges du Verdon</td>\n",
       "      <td>43.7496562</td>\n",
       "      <td>6.3285616</td>\n",
       "      <td>11.900000</td>\n",
       "      <td>53.0</td>\n",
       "      <td>3.0</td>\n",
       "      <td>0.0</td>\n",
       "    </tr>\n",
       "    <tr>\n",
       "      <th>21</th>\n",
       "      <td>22</td>\n",
       "      <td>Aix en Provence</td>\n",
       "      <td>43.5298424</td>\n",
       "      <td>5.4474738</td>\n",
       "      <td>15.800000</td>\n",
       "      <td>48.0</td>\n",
       "      <td>3.7</td>\n",
       "      <td>0.0</td>\n",
       "    </tr>\n",
       "    <tr>\n",
       "      <th>23</th>\n",
       "      <td>24</td>\n",
       "      <td>Uzes</td>\n",
       "      <td>44.0121279</td>\n",
       "      <td>4.4196718</td>\n",
       "      <td>15.100000</td>\n",
       "      <td>57.0</td>\n",
       "      <td>4.3</td>\n",
       "      <td>0.0</td>\n",
       "    </tr>\n",
       "    <tr>\n",
       "      <th>24</th>\n",
       "      <td>25</td>\n",
       "      <td>Nimes</td>\n",
       "      <td>43.8374249</td>\n",
       "      <td>4.3600687</td>\n",
       "      <td>16.500000</td>\n",
       "      <td>53.0</td>\n",
       "      <td>4.3</td>\n",
       "      <td>0.0</td>\n",
       "    </tr>\n",
       "    <tr>\n",
       "      <th>27</th>\n",
       "      <td>28</td>\n",
       "      <td>Collioure</td>\n",
       "      <td>42.52505</td>\n",
       "      <td>3.0831554</td>\n",
       "      <td>17.400000</td>\n",
       "      <td>57.0</td>\n",
       "      <td>3.5</td>\n",
       "      <td>0.0</td>\n",
       "    </tr>\n",
       "    <tr>\n",
       "      <th>28</th>\n",
       "      <td>29</td>\n",
       "      <td>Carcassonne</td>\n",
       "      <td>43.2130358</td>\n",
       "      <td>2.3491069</td>\n",
       "      <td>16.700001</td>\n",
       "      <td>59.0</td>\n",
       "      <td>4.7</td>\n",
       "      <td>0.0</td>\n",
       "    </tr>\n",
       "  </tbody>\n",
       "</table>\n",
       "</div>"
      ],
      "text/plain": [
       "    id              City    Latitude  Longitude  Temperature  Humidity  Wind  \\\n",
       "14  15            Annecy  45.8992348  6.1288847    15.000000      60.0   1.9   \n",
       "15  16          Grenoble  45.1875602  5.7357819    17.299999      57.0   2.1   \n",
       "17  18  Gorges du Verdon  43.7496562  6.3285616    11.900000      53.0   3.0   \n",
       "21  22   Aix en Provence  43.5298424  5.4474738    15.800000      48.0   3.7   \n",
       "23  24              Uzes  44.0121279  4.4196718    15.100000      57.0   4.3   \n",
       "24  25             Nimes  43.8374249  4.3600687    16.500000      53.0   4.3   \n",
       "27  28         Collioure    42.52505  3.0831554    17.400000      57.0   3.5   \n",
       "28  29       Carcassonne  43.2130358  2.3491069    16.700001      59.0   4.7   \n",
       "\n",
       "    Rain  \n",
       "14   0.2  \n",
       "15   0.4  \n",
       "17   0.0  \n",
       "21   0.0  \n",
       "23   0.0  \n",
       "24   0.0  \n",
       "27   0.0  \n",
       "28   0.0  "
      ]
     },
     "execution_count": 20,
     "metadata": {},
     "output_type": "execute_result"
    }
   ],
   "source": [
    "dataset_cities_results= dataset_cities[(dataset_cities.Rain <= 0.5) & (dataset_cities.Humidity <= 60) & (dataset_cities.Wind <= 5) & (dataset_cities.Temperature > 10)]\n",
    "dataset_cities_results"
   ]
  },
  {
   "cell_type": "code",
   "execution_count": 21,
   "metadata": {},
   "outputs": [],
   "source": [
    "# sauvegarde liste des villes sélectionnées\n",
    "dataset_cities_results.to_csv(\"dataset_cities_results.csv\", index=False)"
   ]
  },
  {
   "cell_type": "code",
   "execution_count": 22,
   "metadata": {},
   "outputs": [
    {
     "name": "stderr",
     "output_type": "stream",
     "text": [
      "C:\\Users\\SD\\AppData\\Local\\Temp\\ipykernel_28252\\3358253806.py:2: SettingWithCopyWarning: \n",
      "A value is trying to be set on a copy of a slice from a DataFrame.\n",
      "Try using .loc[row_indexer,col_indexer] = value instead\n",
      "\n",
      "See the caveats in the documentation: https://pandas.pydata.org/pandas-docs/stable/user_guide/indexing.html#returning-a-view-versus-a-copy\n",
      "  dataset_cities_results[\"Latitude\"]=dataset_cities_results.loc[:,\"Latitude\"].astype(float, errors=\"raise\")\n",
      "C:\\Users\\SD\\AppData\\Local\\Temp\\ipykernel_28252\\3358253806.py:3: SettingWithCopyWarning: \n",
      "A value is trying to be set on a copy of a slice from a DataFrame.\n",
      "Try using .loc[row_indexer,col_indexer] = value instead\n",
      "\n",
      "See the caveats in the documentation: https://pandas.pydata.org/pandas-docs/stable/user_guide/indexing.html#returning-a-view-versus-a-copy\n",
      "  dataset_cities_results[\"Longitude\"]=dataset_cities_results.loc[:,\"Longitude\"].astype(float, errors=\"raise\")\n"
     ]
    }
   ],
   "source": [
    "# conversion des données Latitude/Longitude en nb décimal pour pouvoir être utilisées dans la carte\n",
    "dataset_cities_results[\"Latitude\"]=dataset_cities_results.loc[:,\"Latitude\"].astype(float, errors=\"raise\")\n",
    "dataset_cities_results[\"Longitude\"]=dataset_cities_results.loc[:,\"Longitude\"].astype(float, errors=\"raise\")"
   ]
  },
  {
   "cell_type": "code",
   "execution_count": 23,
   "metadata": {},
   "outputs": [
    {
     "data": {
      "application/vnd.plotly.v1+json": {
       "config": {
        "plotlyServerURL": "https://plot.ly"
       },
       "data": [
        {
         "hovertemplate": "City=%{text}<br>Latitude=%{lat}<br>Longitude=%{lon}<br>Temperature=%{marker.color}<extra></extra>",
         "lat": [
          45.8992348,
          45.1875602,
          43.7496562,
          43.5298424,
          44.0121279,
          43.8374249,
          42.52505,
          43.2130358
         ],
         "legendgroup": "",
         "lon": [
          6.1288847,
          5.7357819,
          6.3285616,
          5.4474738,
          4.4196718,
          4.3600687,
          3.0831554,
          2.3491069
         ],
         "marker": {
          "color": [
           15,
           17.299999237060547,
           11.899999618530273,
           15.800000190734863,
           15.100000381469727,
           16.5,
           17.399999618530273,
           16.700000762939453
          ],
          "coloraxis": "coloraxis",
          "size": 15
         },
         "mode": "markers+text",
         "name": "",
         "showlegend": false,
         "subplot": "mapbox",
         "text": [
          "Annecy",
          "Grenoble",
          "Gorges du Verdon",
          "Aix en Provence",
          "Uzes",
          "Nimes",
          "Collioure",
          "Carcassonne"
         ],
         "type": "scattermapbox"
        }
       ],
       "layout": {
        "coloraxis": {
         "colorbar": {
          "title": {
           "text": "Temperature"
          }
         },
         "colorscale": [
          [
           0,
           "#0d0887"
          ],
          [
           0.1111111111111111,
           "#46039f"
          ],
          [
           0.2222222222222222,
           "#7201a8"
          ],
          [
           0.3333333333333333,
           "#9c179e"
          ],
          [
           0.4444444444444444,
           "#bd3786"
          ],
          [
           0.5555555555555556,
           "#d8576b"
          ],
          [
           0.6666666666666666,
           "#ed7953"
          ],
          [
           0.7777777777777778,
           "#fb9f3a"
          ],
          [
           0.8888888888888888,
           "#fdca26"
          ],
          [
           1,
           "#f0f921"
          ]
         ]
        },
        "height": 900,
        "legend": {
         "tracegroupgap": 0
        },
        "mapbox": {
         "center": {
          "lat": 43.994241525,
          "lon": 4.7315881
         },
         "domain": {
          "x": [
           0,
           1
          ],
          "y": [
           0,
           1
          ]
         },
         "style": "open-street-map",
         "zoom": 5
        },
        "margin": {
         "b": 0,
         "l": 0,
         "r": 0,
         "t": 50
        },
        "template": {
         "data": {
          "bar": [
           {
            "error_x": {
             "color": "#2a3f5f"
            },
            "error_y": {
             "color": "#2a3f5f"
            },
            "marker": {
             "line": {
              "color": "#E5ECF6",
              "width": 0.5
             },
             "pattern": {
              "fillmode": "overlay",
              "size": 10,
              "solidity": 0.2
             }
            },
            "type": "bar"
           }
          ],
          "barpolar": [
           {
            "marker": {
             "line": {
              "color": "#E5ECF6",
              "width": 0.5
             },
             "pattern": {
              "fillmode": "overlay",
              "size": 10,
              "solidity": 0.2
             }
            },
            "type": "barpolar"
           }
          ],
          "carpet": [
           {
            "aaxis": {
             "endlinecolor": "#2a3f5f",
             "gridcolor": "white",
             "linecolor": "white",
             "minorgridcolor": "white",
             "startlinecolor": "#2a3f5f"
            },
            "baxis": {
             "endlinecolor": "#2a3f5f",
             "gridcolor": "white",
             "linecolor": "white",
             "minorgridcolor": "white",
             "startlinecolor": "#2a3f5f"
            },
            "type": "carpet"
           }
          ],
          "choropleth": [
           {
            "colorbar": {
             "outlinewidth": 0,
             "ticks": ""
            },
            "type": "choropleth"
           }
          ],
          "contour": [
           {
            "colorbar": {
             "outlinewidth": 0,
             "ticks": ""
            },
            "colorscale": [
             [
              0,
              "#0d0887"
             ],
             [
              0.1111111111111111,
              "#46039f"
             ],
             [
              0.2222222222222222,
              "#7201a8"
             ],
             [
              0.3333333333333333,
              "#9c179e"
             ],
             [
              0.4444444444444444,
              "#bd3786"
             ],
             [
              0.5555555555555556,
              "#d8576b"
             ],
             [
              0.6666666666666666,
              "#ed7953"
             ],
             [
              0.7777777777777778,
              "#fb9f3a"
             ],
             [
              0.8888888888888888,
              "#fdca26"
             ],
             [
              1,
              "#f0f921"
             ]
            ],
            "type": "contour"
           }
          ],
          "contourcarpet": [
           {
            "colorbar": {
             "outlinewidth": 0,
             "ticks": ""
            },
            "type": "contourcarpet"
           }
          ],
          "heatmap": [
           {
            "colorbar": {
             "outlinewidth": 0,
             "ticks": ""
            },
            "colorscale": [
             [
              0,
              "#0d0887"
             ],
             [
              0.1111111111111111,
              "#46039f"
             ],
             [
              0.2222222222222222,
              "#7201a8"
             ],
             [
              0.3333333333333333,
              "#9c179e"
             ],
             [
              0.4444444444444444,
              "#bd3786"
             ],
             [
              0.5555555555555556,
              "#d8576b"
             ],
             [
              0.6666666666666666,
              "#ed7953"
             ],
             [
              0.7777777777777778,
              "#fb9f3a"
             ],
             [
              0.8888888888888888,
              "#fdca26"
             ],
             [
              1,
              "#f0f921"
             ]
            ],
            "type": "heatmap"
           }
          ],
          "heatmapgl": [
           {
            "colorbar": {
             "outlinewidth": 0,
             "ticks": ""
            },
            "colorscale": [
             [
              0,
              "#0d0887"
             ],
             [
              0.1111111111111111,
              "#46039f"
             ],
             [
              0.2222222222222222,
              "#7201a8"
             ],
             [
              0.3333333333333333,
              "#9c179e"
             ],
             [
              0.4444444444444444,
              "#bd3786"
             ],
             [
              0.5555555555555556,
              "#d8576b"
             ],
             [
              0.6666666666666666,
              "#ed7953"
             ],
             [
              0.7777777777777778,
              "#fb9f3a"
             ],
             [
              0.8888888888888888,
              "#fdca26"
             ],
             [
              1,
              "#f0f921"
             ]
            ],
            "type": "heatmapgl"
           }
          ],
          "histogram": [
           {
            "marker": {
             "pattern": {
              "fillmode": "overlay",
              "size": 10,
              "solidity": 0.2
             }
            },
            "type": "histogram"
           }
          ],
          "histogram2d": [
           {
            "colorbar": {
             "outlinewidth": 0,
             "ticks": ""
            },
            "colorscale": [
             [
              0,
              "#0d0887"
             ],
             [
              0.1111111111111111,
              "#46039f"
             ],
             [
              0.2222222222222222,
              "#7201a8"
             ],
             [
              0.3333333333333333,
              "#9c179e"
             ],
             [
              0.4444444444444444,
              "#bd3786"
             ],
             [
              0.5555555555555556,
              "#d8576b"
             ],
             [
              0.6666666666666666,
              "#ed7953"
             ],
             [
              0.7777777777777778,
              "#fb9f3a"
             ],
             [
              0.8888888888888888,
              "#fdca26"
             ],
             [
              1,
              "#f0f921"
             ]
            ],
            "type": "histogram2d"
           }
          ],
          "histogram2dcontour": [
           {
            "colorbar": {
             "outlinewidth": 0,
             "ticks": ""
            },
            "colorscale": [
             [
              0,
              "#0d0887"
             ],
             [
              0.1111111111111111,
              "#46039f"
             ],
             [
              0.2222222222222222,
              "#7201a8"
             ],
             [
              0.3333333333333333,
              "#9c179e"
             ],
             [
              0.4444444444444444,
              "#bd3786"
             ],
             [
              0.5555555555555556,
              "#d8576b"
             ],
             [
              0.6666666666666666,
              "#ed7953"
             ],
             [
              0.7777777777777778,
              "#fb9f3a"
             ],
             [
              0.8888888888888888,
              "#fdca26"
             ],
             [
              1,
              "#f0f921"
             ]
            ],
            "type": "histogram2dcontour"
           }
          ],
          "mesh3d": [
           {
            "colorbar": {
             "outlinewidth": 0,
             "ticks": ""
            },
            "type": "mesh3d"
           }
          ],
          "parcoords": [
           {
            "line": {
             "colorbar": {
              "outlinewidth": 0,
              "ticks": ""
             }
            },
            "type": "parcoords"
           }
          ],
          "pie": [
           {
            "automargin": true,
            "type": "pie"
           }
          ],
          "scatter": [
           {
            "fillpattern": {
             "fillmode": "overlay",
             "size": 10,
             "solidity": 0.2
            },
            "type": "scatter"
           }
          ],
          "scatter3d": [
           {
            "line": {
             "colorbar": {
              "outlinewidth": 0,
              "ticks": ""
             }
            },
            "marker": {
             "colorbar": {
              "outlinewidth": 0,
              "ticks": ""
             }
            },
            "type": "scatter3d"
           }
          ],
          "scattercarpet": [
           {
            "marker": {
             "colorbar": {
              "outlinewidth": 0,
              "ticks": ""
             }
            },
            "type": "scattercarpet"
           }
          ],
          "scattergeo": [
           {
            "marker": {
             "colorbar": {
              "outlinewidth": 0,
              "ticks": ""
             }
            },
            "type": "scattergeo"
           }
          ],
          "scattergl": [
           {
            "marker": {
             "colorbar": {
              "outlinewidth": 0,
              "ticks": ""
             }
            },
            "type": "scattergl"
           }
          ],
          "scattermapbox": [
           {
            "marker": {
             "colorbar": {
              "outlinewidth": 0,
              "ticks": ""
             }
            },
            "type": "scattermapbox"
           }
          ],
          "scatterpolar": [
           {
            "marker": {
             "colorbar": {
              "outlinewidth": 0,
              "ticks": ""
             }
            },
            "type": "scatterpolar"
           }
          ],
          "scatterpolargl": [
           {
            "marker": {
             "colorbar": {
              "outlinewidth": 0,
              "ticks": ""
             }
            },
            "type": "scatterpolargl"
           }
          ],
          "scatterternary": [
           {
            "marker": {
             "colorbar": {
              "outlinewidth": 0,
              "ticks": ""
             }
            },
            "type": "scatterternary"
           }
          ],
          "surface": [
           {
            "colorbar": {
             "outlinewidth": 0,
             "ticks": ""
            },
            "colorscale": [
             [
              0,
              "#0d0887"
             ],
             [
              0.1111111111111111,
              "#46039f"
             ],
             [
              0.2222222222222222,
              "#7201a8"
             ],
             [
              0.3333333333333333,
              "#9c179e"
             ],
             [
              0.4444444444444444,
              "#bd3786"
             ],
             [
              0.5555555555555556,
              "#d8576b"
             ],
             [
              0.6666666666666666,
              "#ed7953"
             ],
             [
              0.7777777777777778,
              "#fb9f3a"
             ],
             [
              0.8888888888888888,
              "#fdca26"
             ],
             [
              1,
              "#f0f921"
             ]
            ],
            "type": "surface"
           }
          ],
          "table": [
           {
            "cells": {
             "fill": {
              "color": "#EBF0F8"
             },
             "line": {
              "color": "white"
             }
            },
            "header": {
             "fill": {
              "color": "#C8D4E3"
             },
             "line": {
              "color": "white"
             }
            },
            "type": "table"
           }
          ]
         },
         "layout": {
          "annotationdefaults": {
           "arrowcolor": "#2a3f5f",
           "arrowhead": 0,
           "arrowwidth": 1
          },
          "autotypenumbers": "strict",
          "coloraxis": {
           "colorbar": {
            "outlinewidth": 0,
            "ticks": ""
           }
          },
          "colorscale": {
           "diverging": [
            [
             0,
             "#8e0152"
            ],
            [
             0.1,
             "#c51b7d"
            ],
            [
             0.2,
             "#de77ae"
            ],
            [
             0.3,
             "#f1b6da"
            ],
            [
             0.4,
             "#fde0ef"
            ],
            [
             0.5,
             "#f7f7f7"
            ],
            [
             0.6,
             "#e6f5d0"
            ],
            [
             0.7,
             "#b8e186"
            ],
            [
             0.8,
             "#7fbc41"
            ],
            [
             0.9,
             "#4d9221"
            ],
            [
             1,
             "#276419"
            ]
           ],
           "sequential": [
            [
             0,
             "#0d0887"
            ],
            [
             0.1111111111111111,
             "#46039f"
            ],
            [
             0.2222222222222222,
             "#7201a8"
            ],
            [
             0.3333333333333333,
             "#9c179e"
            ],
            [
             0.4444444444444444,
             "#bd3786"
            ],
            [
             0.5555555555555556,
             "#d8576b"
            ],
            [
             0.6666666666666666,
             "#ed7953"
            ],
            [
             0.7777777777777778,
             "#fb9f3a"
            ],
            [
             0.8888888888888888,
             "#fdca26"
            ],
            [
             1,
             "#f0f921"
            ]
           ],
           "sequentialminus": [
            [
             0,
             "#0d0887"
            ],
            [
             0.1111111111111111,
             "#46039f"
            ],
            [
             0.2222222222222222,
             "#7201a8"
            ],
            [
             0.3333333333333333,
             "#9c179e"
            ],
            [
             0.4444444444444444,
             "#bd3786"
            ],
            [
             0.5555555555555556,
             "#d8576b"
            ],
            [
             0.6666666666666666,
             "#ed7953"
            ],
            [
             0.7777777777777778,
             "#fb9f3a"
            ],
            [
             0.8888888888888888,
             "#fdca26"
            ],
            [
             1,
             "#f0f921"
            ]
           ]
          },
          "colorway": [
           "#636efa",
           "#EF553B",
           "#00cc96",
           "#ab63fa",
           "#FFA15A",
           "#19d3f3",
           "#FF6692",
           "#B6E880",
           "#FF97FF",
           "#FECB52"
          ],
          "font": {
           "color": "#2a3f5f"
          },
          "geo": {
           "bgcolor": "white",
           "lakecolor": "white",
           "landcolor": "#E5ECF6",
           "showlakes": true,
           "showland": true,
           "subunitcolor": "white"
          },
          "hoverlabel": {
           "align": "left"
          },
          "hovermode": "closest",
          "mapbox": {
           "style": "light"
          },
          "paper_bgcolor": "white",
          "plot_bgcolor": "#E5ECF6",
          "polar": {
           "angularaxis": {
            "gridcolor": "white",
            "linecolor": "white",
            "ticks": ""
           },
           "bgcolor": "#E5ECF6",
           "radialaxis": {
            "gridcolor": "white",
            "linecolor": "white",
            "ticks": ""
           }
          },
          "scene": {
           "xaxis": {
            "backgroundcolor": "#E5ECF6",
            "gridcolor": "white",
            "gridwidth": 2,
            "linecolor": "white",
            "showbackground": true,
            "ticks": "",
            "zerolinecolor": "white"
           },
           "yaxis": {
            "backgroundcolor": "#E5ECF6",
            "gridcolor": "white",
            "gridwidth": 2,
            "linecolor": "white",
            "showbackground": true,
            "ticks": "",
            "zerolinecolor": "white"
           },
           "zaxis": {
            "backgroundcolor": "#E5ECF6",
            "gridcolor": "white",
            "gridwidth": 2,
            "linecolor": "white",
            "showbackground": true,
            "ticks": "",
            "zerolinecolor": "white"
           }
          },
          "shapedefaults": {
           "line": {
            "color": "#2a3f5f"
           }
          },
          "ternary": {
           "aaxis": {
            "gridcolor": "white",
            "linecolor": "white",
            "ticks": ""
           },
           "baxis": {
            "gridcolor": "white",
            "linecolor": "white",
            "ticks": ""
           },
           "bgcolor": "#E5ECF6",
           "caxis": {
            "gridcolor": "white",
            "linecolor": "white",
            "ticks": ""
           }
          },
          "title": {
           "x": 0.05
          },
          "xaxis": {
           "automargin": true,
           "gridcolor": "white",
           "linecolor": "white",
           "ticks": "",
           "title": {
            "standoff": 15
           },
           "zerolinecolor": "white",
           "zerolinewidth": 2
          },
          "yaxis": {
           "automargin": true,
           "gridcolor": "white",
           "linecolor": "white",
           "ticks": "",
           "title": {
            "standoff": 15
           },
           "zerolinecolor": "white",
           "zerolinewidth": 2
          }
         }
        },
        "title": {
         "text": "Localisation des villes à privilégier pour vos vacances",
         "x": 0.5,
         "y": 0.98
        },
        "width": 1000
       }
      }
     },
     "metadata": {},
     "output_type": "display_data"
    }
   ],
   "source": [
    "# création du graphe\n",
    "cities_results = px.scatter_mapbox(\n",
    "    dataset_cities_results,\n",
    "    title = \"Localisation des villes à privilégier pour vos vacances\",\n",
    "    lon=\"Longitude\",\n",
    "    lat=\"Latitude\",\n",
    "    color=\"Temperature\",\n",
    "    mapbox_style=\"open-street-map\",\n",
    "    text=\"City\",\n",
    "    zoom=5,\n",
    ")\n",
    "cities_results.update_layout(width=1000,height = 900, margin={\"r\":0,\"t\":50,\"l\":0,\"b\":0}, title_x = 0.5, title_y = 0.98)\n",
    "cities_results.update_traces(marker={'size': 15}) # permet de definir une taille fixe pour les points sur la carte\n",
    "cities_results.show()"
   ]
  },
  {
   "cell_type": "markdown",
   "metadata": {},
   "source": [
    "#### PART 3. Obtenir une liste d'hotels disponibles pour les destinations retenues à partir de booking.com"
   ]
  },
  {
   "cell_type": "code",
   "execution_count": 24,
   "metadata": {},
   "outputs": [
    {
     "name": "stderr",
     "output_type": "stream",
     "text": [
      "2024-03-11 11:29:34 [scrapy.utils.log] INFO: Scrapy 2.11.0 started (bot: scrapybot)\n",
      "2024-03-11 11:29:34 [scrapy.utils.log] INFO: Versions: lxml 4.9.3.0, libxml2 2.10.3, cssselect 1.2.0, parsel 1.8.1, w3lib 2.1.2, Twisted 22.10.0, Python 3.11.8 (tags/v3.11.8:db85d51, Feb  6 2024, 22:03:32) [MSC v.1937 64 bit (AMD64)], pyOpenSSL 23.3.0 (OpenSSL 3.1.4 24 Oct 2023), cryptography 41.0.7, Platform Windows-10-10.0.22631-SP0\n",
      "2024-03-11 11:29:34 [scrapy.addons] INFO: Enabled addons:\n",
      "[]\n",
      "2024-03-11 11:29:34 [py.warnings] WARNING: C:\\Users\\SD\\AppData\\Local\\Packages\\PythonSoftwareFoundation.Python.3.11_qbz5n2kfra8p0\\LocalCache\\local-packages\\Python311\\site-packages\\scrapy\\utils\\request.py:254: ScrapyDeprecationWarning:\n",
      "\n",
      "'2.6' is a deprecated value for the 'REQUEST_FINGERPRINTER_IMPLEMENTATION' setting.\n",
      "\n",
      "It is also the default value. In other words, it is normal to get this warning if you have not defined a value for the 'REQUEST_FINGERPRINTER_IMPLEMENTATION' setting. This is so for backward compatibility reasons, but it will change in a future version of Scrapy.\n",
      "\n",
      "See the documentation of the 'REQUEST_FINGERPRINTER_IMPLEMENTATION' setting for information on how to handle this deprecation.\n",
      "\n",
      "\n"
     ]
    },
    {
     "name": "stderr",
     "output_type": "stream",
     "text": [
      "2024-03-11 11:29:35 [scrapy.extensions.telnet] INFO: Telnet Password: da634122c1043261\n",
      "2024-03-11 11:29:35 [scrapy.middleware] INFO: Enabled extensions:\n",
      "['scrapy.extensions.corestats.CoreStats',\n",
      " 'scrapy.extensions.telnet.TelnetConsole',\n",
      " 'scrapy.extensions.feedexport.FeedExporter',\n",
      " 'scrapy.extensions.logstats.LogStats']\n",
      "2024-03-11 11:29:35 [scrapy.crawler] INFO: Overridden settings:\n",
      "{'FEED_EXPORT_ENCODING': 'utf-8',\n",
      " 'LOG_LEVEL': 20,\n",
      " 'USER_AGENT': 'Mozilla/5.0 (Windows NT 10.0; Win64; x64; rv:109.0) '\n",
      "               'Gecko/20100101 Firefox/114.0'}\n",
      "2024-03-11 11:29:36 [scrapy.middleware] INFO: Enabled downloader middlewares:\n",
      "['scrapy.downloadermiddlewares.httpauth.HttpAuthMiddleware',\n",
      " 'scrapy.downloadermiddlewares.downloadtimeout.DownloadTimeoutMiddleware',\n",
      " 'scrapy.downloadermiddlewares.defaultheaders.DefaultHeadersMiddleware',\n",
      " 'scrapy.downloadermiddlewares.useragent.UserAgentMiddleware',\n",
      " 'scrapy.downloadermiddlewares.retry.RetryMiddleware',\n",
      " 'scrapy.downloadermiddlewares.redirect.MetaRefreshMiddleware',\n",
      " 'scrapy.downloadermiddlewares.httpcompression.HttpCompressionMiddleware',\n",
      " 'scrapy.downloadermiddlewares.redirect.RedirectMiddleware',\n",
      " 'scrapy.downloadermiddlewares.cookies.CookiesMiddleware',\n",
      " 'scrapy.downloadermiddlewares.httpproxy.HttpProxyMiddleware',\n",
      " 'scrapy.downloadermiddlewares.stats.DownloaderStats']\n",
      "2024-03-11 11:29:36 [scrapy.middleware] INFO: Enabled spider middlewares:\n",
      "['scrapy.spidermiddlewares.httperror.HttpErrorMiddleware',\n",
      " 'scrapy.spidermiddlewares.offsite.OffsiteMiddleware',\n",
      " 'scrapy.spidermiddlewares.referer.RefererMiddleware',\n",
      " 'scrapy.spidermiddlewares.urllength.UrlLengthMiddleware',\n",
      " 'scrapy.spidermiddlewares.depth.DepthMiddleware']\n",
      "2024-03-11 11:29:36 [scrapy.middleware] INFO: Enabled item pipelines:\n",
      "[]\n",
      "2024-03-11 11:29:36 [scrapy.core.engine] INFO: Spider opened\n",
      "2024-03-11 11:29:36 [scrapy.extensions.logstats] INFO: Crawled 0 pages (at 0 pages/min), scraped 0 items (at 0 items/min)\n",
      "2024-03-11 11:29:36 [scrapy.extensions.telnet] INFO: Telnet console listening on 127.0.0.1:6023\n",
      "2024-03-11 11:30:36 [scrapy.extensions.logstats] INFO: Crawled 181 pages (at 181 pages/min), scraped 173 items (at 173 items/min)\n",
      "2024-03-11 11:30:45 [scrapy.core.engine] INFO: Closing spider (finished)\n",
      "2024-03-11 11:30:45 [scrapy.extensions.feedexport] INFO: Stored csv feed (199 items) in: booking.csv\n",
      "2024-03-11 11:30:45 [scrapy.statscollectors] INFO: Dumping Scrapy stats:\n",
      "{'downloader/request_bytes': 234534,\n",
      " 'downloader/request_count': 207,\n",
      " 'downloader/request_method_count/GET': 207,\n",
      " 'downloader/response_bytes': 74827589,\n",
      " 'downloader/response_count': 207,\n",
      " 'downloader/response_status_count/200': 207,\n",
      " 'dupefilter/filtered': 1,\n",
      " 'elapsed_time_seconds': 69.498011,\n",
      " 'feedexport/success_count/FileFeedStorage': 1,\n",
      " 'finish_reason': 'finished',\n",
      " 'finish_time': datetime.datetime(2024, 3, 11, 10, 30, 45, 633762, tzinfo=datetime.timezone.utc),\n",
      " 'httpcompression/response_bytes': 326734153,\n",
      " 'httpcompression/response_count': 207,\n",
      " 'item_scraped_count': 199,\n",
      " 'log_count/INFO': 12,\n",
      " 'log_count/WARNING': 1,\n",
      " 'request_depth_max': 1,\n",
      " 'response_received_count': 207,\n",
      " 'scheduler/dequeued': 207,\n",
      " 'scheduler/dequeued/memory': 207,\n",
      " 'scheduler/enqueued': 207,\n",
      " 'scheduler/enqueued/memory': 207,\n",
      " 'start_time': datetime.datetime(2024, 3, 11, 10, 29, 36, 135751, tzinfo=datetime.timezone.utc)}\n",
      "2024-03-11 11:30:45 [scrapy.core.engine] INFO: Spider closed (finished)\n"
     ]
    }
   ],
   "source": [
    "class booking_spider(scrapy.Spider):\n",
    "    name = \"booking\"\n",
    "    base_lien = []\n",
    "\n",
    "    def start_requests(self):\n",
    "        checkin_date = date.today() + timedelta(days=1)\n",
    "        checkout_date = checkin_date + timedelta(days=1)    \n",
    "        for city in dataset_cities_results[\"City\"] :\n",
    "            id = dataset_cities_results.loc[dataset_cities_results.City==city,\"id\"].values[0]\n",
    "            parameters_booking = {\"ss\":city, \"no_rooms\":\"1\", \"checkin\":checkin_date, \"checkout\":checkout_date, \"group_adults\":\"2\", \"group_children\":\"0\"}\n",
    "            final_url =f'{\"https://www.booking.com/searchresults.fr.html?\"}{urllib.parse.urlencode(parameters_booking)}'\n",
    "            yield scrapy.Request(url=final_url, callback=self.parse, cb_kwargs={\"id\" : id})\n",
    "\n",
    "    def parse(self, response, id):\n",
    "        links = response.xpath('//h3[@class=\"aab71f8e4e\"]/a/@href').getall()\n",
    "        for lien in links :\n",
    "            lien = str(lien).split(\"?\")[0]\n",
    "            self.base_lien.append(lien)\n",
    "            yield scrapy.Request(url=lien, callback=self.parse_detail, cb_kwargs={\"id\" : id})\n",
    "\n",
    "    def parse_detail(self, response, id) :\n",
    "        yield {\n",
    "            'id' : id,\n",
    "            'Name' : response.xpath('//h2[@class=\"d2fee87262 pp-header__title\"]/text()').get(),\n",
    "            'rating' : response.xpath('//div[@class=\"a3b8729ab1 d86cee9b25\"]/text()').get(),\n",
    "            'gps' : response.xpath('//a[@id=\"hotel_address\"]/@data-atlas-latlng').get(\"\"),\n",
    "            'url' : response.request.url,\n",
    "            'Comment' : response.xpath('//p[@class=\"a53cbfa6de b3efd73f69\"]/text()').get()\n",
    "        }\n",
    "            \n",
    "filename = \"booking.csv\"\n",
    "\n",
    "if filename in os.listdir(\"C:/Users/SD\\Desktop/Cours/Jedha/Fullstack_Datascience/4 - Data_Collection_and_Management/5 - Projet/\"):\n",
    "        os.remove(\"C:/Users/SD\\Desktop/Cours/Jedha/Fullstack_Datascience/4 - Data_Collection_and_Management/5 - Projet/\" + filename)\n",
    "\n",
    "process = CrawlerProcess(settings = {\n",
    "    'USER_AGENT': 'Mozilla/5.0 (Windows NT 10.0; Win64; x64; rv:109.0) Gecko/20100101 Firefox/114.0',\n",
    "    'LOG_LEVEL': logging.INFO,\n",
    "    'FEED_EXPORT_ENCODING' : \"utf-8\", # résoud le pb de caractères\n",
    "    \"FEEDS\": {filename : {\"format\": \"csv\"},\n",
    "    }\n",
    "})\n",
    "\n",
    "process.crawl(booking_spider)\n",
    "process.start()"
   ]
  },
  {
   "cell_type": "code",
   "execution_count": 25,
   "metadata": {},
   "outputs": [],
   "source": [
    "# chargement du dataset comprenant les hotels\n",
    "dataset_hotels = pd.read_csv(\"booking.csv\")"
   ]
  },
  {
   "cell_type": "code",
   "execution_count": 26,
   "metadata": {},
   "outputs": [
    {
     "data": {
      "text/plain": [
       "id\n",
       "25    25\n",
       "29    25\n",
       "28    25\n",
       "16    25\n",
       "15    25\n",
       "22    25\n",
       "18    25\n",
       "24    24\n",
       "Name: count, dtype: int64"
      ]
     },
     "execution_count": 26,
     "metadata": {},
     "output_type": "execute_result"
    }
   ],
   "source": [
    "dataset_hotels[\"id\"].value_counts()"
   ]
  },
  {
   "cell_type": "code",
   "execution_count": 27,
   "metadata": {},
   "outputs": [],
   "source": [
    "# conversion de la colonne \"rating\" au bon format, en remplaçant les virgules par des points\n",
    "dataset_hotels[\"rating\"] = dataset_hotels[\"rating\"].str.replace(\",\",\".\").astype(dtype=\"float\", errors=\"raise\")"
   ]
  },
  {
   "cell_type": "code",
   "execution_count": 28,
   "metadata": {},
   "outputs": [],
   "source": [
    "# création de deux colonnes latitude et longitude afin de permettre la visualisaiton sur une carte\n",
    "dataset_hotels[\"latitude\"] = dataset_hotels[\"gps\"].apply(lambda x : x.split(\",\")[0]).astype(dtype=\"float\", errors=\"raise\")\n",
    "dataset_hotels[\"longitude\"] = dataset_hotels[\"gps\"].apply(lambda x : x.split(\",\")[1]).astype(dtype=\"float\", errors=\"raise\")"
   ]
  },
  {
   "cell_type": "code",
   "execution_count": 47,
   "metadata": {},
   "outputs": [
    {
     "data": {
      "text/html": [
       "<div>\n",
       "<style scoped>\n",
       "    .dataframe tbody tr th:only-of-type {\n",
       "        vertical-align: middle;\n",
       "    }\n",
       "\n",
       "    .dataframe tbody tr th {\n",
       "        vertical-align: top;\n",
       "    }\n",
       "\n",
       "    .dataframe thead th {\n",
       "        text-align: right;\n",
       "    }\n",
       "</style>\n",
       "<table border=\"1\" class=\"dataframe\">\n",
       "  <thead>\n",
       "    <tr style=\"text-align: right;\">\n",
       "      <th></th>\n",
       "      <th>id</th>\n",
       "      <th>Name</th>\n",
       "      <th>rating</th>\n",
       "      <th>url</th>\n",
       "      <th>Comment</th>\n",
       "      <th>latitude</th>\n",
       "      <th>longitude</th>\n",
       "    </tr>\n",
       "  </thead>\n",
       "  <tbody>\n",
       "    <tr>\n",
       "      <th>0</th>\n",
       "      <td>25</td>\n",
       "      <td>Les Madones</td>\n",
       "      <td>8.5</td>\n",
       "      <td>https://www.booking.com/hotel/fr/les-madones-n...</td>\n",
       "      <td>Situé à Nîmes, à moins de 29 km du parc des ex...</td>\n",
       "      <td>43.764623</td>\n",
       "      <td>4.360898</td>\n",
       "    </tr>\n",
       "    <tr>\n",
       "      <th>1</th>\n",
       "      <td>25</td>\n",
       "      <td>Abyad - A 300 m des Arènes</td>\n",
       "      <td>7.2</td>\n",
       "      <td>https://www.booking.com/hotel/fr/abyad-booking...</td>\n",
       "      <td>Idéalement situé dans le centre-ville de Nîmes...</td>\n",
       "      <td>43.836847</td>\n",
       "      <td>4.362033</td>\n",
       "    </tr>\n",
       "    <tr>\n",
       "      <th>2</th>\n",
       "      <td>25</td>\n",
       "      <td>Royal Hôtel</td>\n",
       "      <td>8.3</td>\n",
       "      <td>https://www.booking.com/hotel/fr/royal.fr.html</td>\n",
       "      <td>Situé au cœur de Nîmes, le Royal Hôtel dispose...</td>\n",
       "      <td>43.838815</td>\n",
       "      <td>4.354818</td>\n",
       "    </tr>\n",
       "    <tr>\n",
       "      <th>3</th>\n",
       "      <td>29</td>\n",
       "      <td>**Auberge de l'Aude**</td>\n",
       "      <td>8.5</td>\n",
       "      <td>https://www.booking.com/hotel/fr/auberge-de-l-...</td>\n",
       "      <td>Offrant une vue sur la cour intérieure, **Aube...</td>\n",
       "      <td>43.209820</td>\n",
       "      <td>2.348549</td>\n",
       "    </tr>\n",
       "    <tr>\n",
       "      <th>4</th>\n",
       "      <td>25</td>\n",
       "      <td>Hotel Mas De Galoffre</td>\n",
       "      <td>7.6</td>\n",
       "      <td>https://www.booking.com/hotel/fr/mas-de-galoff...</td>\n",
       "      <td>Situé à 5 minutes en voiture du centre de Nîme...</td>\n",
       "      <td>43.788452</td>\n",
       "      <td>4.353842</td>\n",
       "    </tr>\n",
       "    <tr>\n",
       "      <th>5</th>\n",
       "      <td>25</td>\n",
       "      <td>Zenitude Hôtel-Résidences Nîmes Centre</td>\n",
       "      <td>7.9</td>\n",
       "      <td>https://www.booking.com/hotel/fr/adagio-access...</td>\n",
       "      <td>Le Zenitude Hôtel-Résidences Nîmes Centre est ...</td>\n",
       "      <td>43.832493</td>\n",
       "      <td>4.367857</td>\n",
       "    </tr>\n",
       "    <tr>\n",
       "      <th>6</th>\n",
       "      <td>25</td>\n",
       "      <td>Empire Hôtel</td>\n",
       "      <td>7.4</td>\n",
       "      <td>https://www.booking.com/hotel/fr/empire-nimes....</td>\n",
       "      <td>L'Empire Hôtel est situé au cœur de Nîmes, en ...</td>\n",
       "      <td>43.840301</td>\n",
       "      <td>4.363149</td>\n",
       "    </tr>\n",
       "    <tr>\n",
       "      <th>7</th>\n",
       "      <td>25</td>\n",
       "      <td>Studio Nîmes Centre</td>\n",
       "      <td>8.3</td>\n",
       "      <td>https://www.booking.com/hotel/fr/studio-boucar...</td>\n",
       "      <td>Le Studio Nîmes Centre propose des hébergement...</td>\n",
       "      <td>43.839763</td>\n",
       "      <td>4.356942</td>\n",
       "    </tr>\n",
       "    <tr>\n",
       "      <th>8</th>\n",
       "      <td>25</td>\n",
       "      <td>Margaret - Hôtel Chouleur</td>\n",
       "      <td>9.3</td>\n",
       "      <td>https://www.booking.com/hotel/fr/margaret-chou...</td>\n",
       "      <td>Idéalement situé à Nîmes, le Margaret - Hôtel ...</td>\n",
       "      <td>43.837117</td>\n",
       "      <td>4.357898</td>\n",
       "    </tr>\n",
       "    <tr>\n",
       "      <th>9</th>\n",
       "      <td>28</td>\n",
       "      <td>Appartement unique! 3 pieces au coeur de Colli...</td>\n",
       "      <td>6.6</td>\n",
       "      <td>https://www.booking.com/hotel/fr/appartement-u...</td>\n",
       "      <td>Appartement unique! Le 3 pieces au coeur de Co...</td>\n",
       "      <td>42.525772</td>\n",
       "      <td>3.080866</td>\n",
       "    </tr>\n",
       "  </tbody>\n",
       "</table>\n",
       "</div>"
      ],
      "text/plain": [
       "   id                                               Name  rating  \\\n",
       "0  25                                        Les Madones     8.5   \n",
       "1  25                         Abyad - A 300 m des Arènes     7.2   \n",
       "2  25                                        Royal Hôtel     8.3   \n",
       "3  29                              **Auberge de l'Aude**     8.5   \n",
       "4  25                              Hotel Mas De Galoffre     7.6   \n",
       "5  25             Zenitude Hôtel-Résidences Nîmes Centre     7.9   \n",
       "6  25                                       Empire Hôtel     7.4   \n",
       "7  25                                Studio Nîmes Centre     8.3   \n",
       "8  25                          Margaret - Hôtel Chouleur     9.3   \n",
       "9  28  Appartement unique! 3 pieces au coeur de Colli...     6.6   \n",
       "\n",
       "                                                 url  \\\n",
       "0  https://www.booking.com/hotel/fr/les-madones-n...   \n",
       "1  https://www.booking.com/hotel/fr/abyad-booking...   \n",
       "2     https://www.booking.com/hotel/fr/royal.fr.html   \n",
       "3  https://www.booking.com/hotel/fr/auberge-de-l-...   \n",
       "4  https://www.booking.com/hotel/fr/mas-de-galoff...   \n",
       "5  https://www.booking.com/hotel/fr/adagio-access...   \n",
       "6  https://www.booking.com/hotel/fr/empire-nimes....   \n",
       "7  https://www.booking.com/hotel/fr/studio-boucar...   \n",
       "8  https://www.booking.com/hotel/fr/margaret-chou...   \n",
       "9  https://www.booking.com/hotel/fr/appartement-u...   \n",
       "\n",
       "                                             Comment   latitude  longitude  \n",
       "0  Situé à Nîmes, à moins de 29 km du parc des ex...  43.764623   4.360898  \n",
       "1  Idéalement situé dans le centre-ville de Nîmes...  43.836847   4.362033  \n",
       "2  Situé au cœur de Nîmes, le Royal Hôtel dispose...  43.838815   4.354818  \n",
       "3  Offrant une vue sur la cour intérieure, **Aube...  43.209820   2.348549  \n",
       "4  Situé à 5 minutes en voiture du centre de Nîme...  43.788452   4.353842  \n",
       "5  Le Zenitude Hôtel-Résidences Nîmes Centre est ...  43.832493   4.367857  \n",
       "6  L'Empire Hôtel est situé au cœur de Nîmes, en ...  43.840301   4.363149  \n",
       "7  Le Studio Nîmes Centre propose des hébergement...  43.839763   4.356942  \n",
       "8  Idéalement situé à Nîmes, le Margaret - Hôtel ...  43.837117   4.357898  \n",
       "9  Appartement unique! Le 3 pieces au coeur de Co...  42.525772   3.080866  "
      ]
     },
     "execution_count": 47,
     "metadata": {},
     "output_type": "execute_result"
    }
   ],
   "source": [
    "# overview of the dataset\n",
    "dataset_hotels.head(10)"
   ]
  },
  {
   "cell_type": "code",
   "execution_count": 29,
   "metadata": {},
   "outputs": [
    {
     "data": {
      "application/vnd.plotly.v1+json": {
       "config": {
        "plotlyServerURL": "https://plot.ly"
       },
       "data": [
        {
         "hovertemplate": "Name=%{text}<br>latitude=%{lat}<br>longitude=%{lon}<br>rating=%{marker.color}<extra></extra>",
         "lat": [
          43.7646229,
          43.8368472,
          43.8388151,
          43.2098203,
          43.78845189,
          43.83249328,
          43.84030089,
          43.8397628,
          43.837117,
          42.52577158,
          43.83612815,
          43.20754846,
          42.515473,
          43.22829222,
          42.523056,
          43.82057675,
          45.1737136,
          45.1907933,
          45.189093,
          45.186804,
          45.192898,
          45.1913214,
          45.1888577,
          45.192873,
          45.1975119,
          45.1804695,
          45.18543211,
          45.16191002,
          45.1867729,
          45.189522,
          45.186911,
          45.19051921,
          45.18960902,
          45.1920997,
          45.18495018,
          45.18346987,
          45.192873,
          45.19581084,
          45.19081504,
          45.19056363,
          42.5211841,
          42.5238629,
          42.5273128,
          42.52397231,
          45.15999038,
          42.526744,
          42.52851789,
          42.52417281,
          42.52396992,
          42.5244311,
          42.52328654,
          42.5268578,
          42.52439,
          42.52876467,
          42.52411449,
          42.5211169,
          42.5236262,
          42.52666546,
          42.52591431,
          42.52616733,
          42.52638625,
          43.88996671,
          44.1097655,
          42.52371617,
          43.953235,
          44.0098724,
          44.0099414,
          44.0103512,
          43.99962207,
          44.01205156,
          44.011246,
          44.01954473,
          44.0121421,
          44.00924515,
          44.0132239,
          44.0195447,
          43.99277827,
          44.0138461,
          43.99228663,
          44.01263259,
          44.012765,
          44.00284485,
          44.0108258,
          44.014659,
          44.00964195,
          45.89771607,
          45.90760295,
          45.90098238,
          45.89832176,
          45.90551449,
          45.90218661,
          45.89719347,
          45.90034806,
          45.89344692,
          45.89917377,
          45.90205968,
          45.8982388,
          45.88008995,
          45.9061192,
          45.90249645,
          45.890749,
          45.90074937,
          45.89714929,
          45.90122721,
          45.90374699,
          45.88972625,
          45.897015,
          45.89789347,
          42.52534777,
          45.905699,
          44.01246437,
          45.90163038,
          43.49249327,
          43.52133318,
          43.5205148,
          43.53004967,
          43.5285445,
          43.54358226,
          43.530003,
          43.508036,
          43.52356201,
          43.5280311,
          43.52191762,
          43.5249088,
          43.52879731,
          43.51191632,
          43.52332474,
          43.52684969,
          43.52890621,
          43.52891205,
          43.51126943,
          43.5255987,
          43.52461222,
          43.52624048,
          43.52693137,
          43.52688664,
          43.83739795,
          43.77985125,
          43.52724,
          43.7505928,
          43.84704036,
          43.8259598,
          43.75869671,
          43.82929852,
          43.77626437,
          43.75767577,
          43.70967197,
          43.77998629,
          43.7327862,
          43.758087,
          43.84653793,
          43.8482777,
          43.77663547,
          43.844018,
          43.77470787,
          43.716616,
          43.77764446,
          43.79274242,
          43.85192409,
          43.75813877,
          43.760622,
          43.21030573,
          43.20734201,
          43.757202,
          43.21085,
          43.2114488,
          43.20478378,
          43.20706635,
          43.20895683,
          43.20661669,
          43.2156776,
          43.20528921,
          43.2064642,
          43.21157055,
          43.2108783,
          43.20765481,
          43.21755413,
          43.2071641,
          43.2063078,
          43.20779948,
          43.21548434,
          43.2083547,
          43.2082374,
          43.815334,
          43.83887217,
          43.21103244,
          43.81470735,
          43.81557635,
          43.83406187,
          43.83581534,
          43.815377,
          43.78858215,
          43.837032,
          43.83959476,
          43.83899502,
          43.82158549,
          43.83436329,
          43.83387353,
          43.83866613
         ],
         "legendgroup": "",
         "lon": [
          4.360898,
          4.362033,
          4.35481846,
          2.3485489,
          4.35384233,
          4.36785668,
          4.36314873,
          4.35694199,
          4.357898,
          3.08086633,
          4.36126995,
          2.3726145,
          3.105115,
          2.36018702,
          3.101111,
          4.31912698,
          5.7158218,
          5.71669668,
          5.7124557,
          5.73157,
          5.71739092,
          5.7304155,
          5.7098014,
          5.711917,
          5.7413948,
          5.732078,
          5.74399642,
          5.71498275,
          5.7322614,
          5.716226,
          5.731293,
          5.71601942,
          5.7121785,
          5.72396229,
          5.72598981,
          5.72433829,
          5.711917,
          5.72544678,
          5.72854802,
          5.72448447,
          3.0821823,
          3.0849085,
          3.0847519,
          3.08488488,
          5.73111087,
          3.0837672,
          3.07862499,
          3.08931068,
          3.07731113,
          3.09031585,
          3.0813629,
          3.080574,
          3.082726,
          3.07865426,
          3.08936566,
          3.07730913,
          3.0840962,
          3.08394089,
          3.0826816,
          3.08235571,
          3.08325659,
          4.67573814,
          4.41591612,
          3.08713473,
          4.476395,
          4.4180049,
          4.4180238,
          4.42219754,
          4.37326884,
          4.41961161,
          4.418813,
          4.42851484,
          4.4190328,
          4.41617399,
          4.4222682,
          4.4285148,
          4.42427516,
          4.4126277,
          4.43396687,
          4.41414893,
          4.414323,
          4.41645205,
          4.4177601,
          4.4200515,
          4.41788524,
          6.13013095,
          6.10762596,
          6.11903339,
          6.12479564,
          6.14412814,
          6.12380505,
          6.11080974,
          6.1223942,
          6.08693406,
          6.11749018,
          6.12464726,
          6.12250954,
          6.09713048,
          6.15546584,
          6.12611979,
          6.107753,
          6.10030085,
          6.12265885,
          6.12507373,
          6.14469409,
          6.13854915,
          6.131543,
          6.12520516,
          3.09032446,
          6.151953,
          4.42180011,
          6.12292528,
          5.35120279,
          5.44477701,
          5.4471929,
          5.44414669,
          5.42601228,
          5.37343823,
          5.42569578,
          5.439455,
          5.44593707,
          5.43435931,
          5.45787156,
          5.45042306,
          5.42567968,
          5.43665394,
          5.44972569,
          5.44901088,
          5.44086903,
          5.43827534,
          5.48701439,
          5.4517208,
          5.45375437,
          5.43820493,
          5.44626698,
          5.44727147,
          6.21899128,
          6.35586177,
          5.404795,
          6.4707211,
          6.22068909,
          6.12769536,
          5.88205487,
          6.22796471,
          5.97387757,
          5.89748293,
          6.50855184,
          6.09911418,
          6.16152227,
          5.890188,
          6.51394978,
          6.51043475,
          6.10618643,
          6.506425,
          6.21553659,
          6.133971,
          6.10667191,
          6.2324607,
          6.50941283,
          5.89472026,
          5.888974,
          2.3577556,
          2.36651301,
          5.89661,
          2.357769,
          2.3462993,
          2.36022029,
          2.36708701,
          2.36843884,
          2.31279239,
          2.34974384,
          2.40765542,
          2.36363366,
          2.35732913,
          2.3680532,
          2.37880826,
          2.35417351,
          2.36981213,
          2.38369122,
          2.36734718,
          2.35207307,
          2.36776024,
          2.36704409,
          4.344052,
          4.36974764,
          2.35819995,
          4.3448326,
          4.34660353,
          4.35899065,
          4.35914017,
          4.345905,
          4.35380258,
          4.363037,
          4.3610841,
          4.36281145,
          4.3645978,
          4.36533675,
          4.36143396,
          4.35276791
         ],
         "marker": {
          "color": [
           8.5,
           7.2,
           8.3,
           8.5,
           7.6,
           7.9,
           7.4,
           8.3,
           9.3,
           6.6,
           6.8,
           7.7,
           9.3,
           7.6,
           8,
           8.3,
           8.7,
           8.3,
           7,
           8.5,
           7.4,
           7.7,
           7.6,
           7.8,
           9.3,
           8.8,
           8.2,
           6.7,
           8.3,
           7.9,
           8.4,
           7.8,
           7.3,
           7.5,
           8.1,
           7.7,
           7.4,
           8.6,
           8.4,
           7.5,
           null,
           8.5,
           null,
           9,
           7.2,
           8.2,
           9,
           8.8,
           8.6,
           9.2,
           7.7,
           8,
           9.3,
           9,
           8.3,
           8.8,
           9.1,
           8,
           8,
           8.9,
           8.3,
           9.5,
           9,
           7.2,
           9.5,
           9.4,
           9.2,
           9.1,
           8,
           7.8,
           8.8,
           8.1,
           9.7,
           8.8,
           9.5,
           8.2,
           8.4,
           8.6,
           8.3,
           7.5,
           8.8,
           7.7,
           9.1,
           8.6,
           8.9,
           8.4,
           7.3,
           7.2,
           9.2,
           8.4,
           8.8,
           7.6,
           8.4,
           7.6,
           7.4,
           8.4,
           8.3,
           8.1,
           7.7,
           8.6,
           7.5,
           7.7,
           7.7,
           8.3,
           8.6,
           8.1,
           8.8,
           8.5,
           9.1,
           8.9,
           8.9,
           8.5,
           7.4,
           8,
           8.6,
           8.5,
           7.2,
           9.3,
           7.7,
           7.8,
           8.2,
           7.8,
           8.4,
           8.1,
           8,
           7.3,
           8,
           8.3,
           8.4,
           7.3,
           7.2,
           8.5,
           7.8,
           8.4,
           7.6,
           8.1,
           8.8,
           7,
           7.1,
           9,
           8,
           8.8,
           8.8,
           8,
           8.7,
           8,
           8,
           9.2,
           8,
           8.5,
           7.8,
           8.6,
           8.3,
           8.3,
           8.2,
           9.4,
           8.6,
           9.4,
           9,
           7.8,
           8.7,
           8,
           8.4,
           7.4,
           8.2,
           9.6,
           7.5,
           8.2,
           8.2,
           7,
           7.9,
           8,
           8.3,
           7.2,
           8.3,
           7.8,
           8.1,
           8.3,
           8,
           8.3,
           7,
           8.4,
           8.5,
           6.5,
           7.5,
           8.3,
           7.6,
           7.7,
           8.8,
           8.2,
           7.4,
           8.2,
           8.7,
           8,
           7.4,
           7.1,
           8.3,
           8.6,
           9.1
          ],
          "coloraxis": "coloraxis",
          "size": 15
         },
         "mode": "markers+text",
         "name": "",
         "showlegend": false,
         "subplot": "mapbox",
         "text": [
          "Les Madones",
          "Abyad - A 300 m des Arènes",
          "Royal Hôtel",
          "**Auberge de l'Aude**",
          "Hotel Mas De Galoffre",
          "Zenitude Hôtel-Résidences Nîmes Centre",
          "Empire Hôtel",
          "Studio Nîmes Centre",
          "Margaret - Hôtel Chouleur",
          "Appartement unique! 3 pieces au coeur de Collioure",
          "Hotel Concorde",
          "Cerise Carcassonne Sud",
          "Intense Boutik-Hôtel",
          "Zenitude Hôtel-Résidences Carcassonne",
          "Ibis Styles Collioure Port Vendres",
          "Hôtel & Spa Vatel",
          "Le Meney",
          "Maison Barbillon Grenoble",
          "Europole 1 Gare de Grenoble & Centre Ville",
          "RockyPop Grenoble Appartements",
          "ibis Grenoble Gare",
          "Studio cosy Hyper Centre Grenoble",
          "le BOHO / Rent4night Grenoble",
          "Apparthotel Le Hüb Grenoble",
          "Villa atmosphère à l'ile verte",
          "Chez Flo",
          "Esprit Bistrot / Rent4night Grenoble",
          "B&B HOTEL Grenoble Centre Verlaine",
          "Sweet Loft Grenoble-Love Room avec jacuzzi & sauna",
          "Hotel Lux",
          "RockyPop Grenoble Hotel",
          "Brit Hotel Suisse et Bordeaux - Centre Gare",
          "Adagio Grenoble Centre",
          "Résidence Le Patricia",
          "Okko Hotels Grenoble Jardin Hoche",
          "Residhome Grenoble Caserne De Bonne",
          "Hostel Le Hüb Grenoble",
          "Les Appartements de Grenoble",
          "Le Grand Hôtel Grenoble, BW Premier Collection by Best Western",
          "Residhotel Grenette",
          "Appartement T2 et terrasse 30m2",
          "Charmante maison de village Collioure",
          "T2 au coeur de Collioure",
          "Pieds dans l’eau à Collioure",
          "Appartéa Grenoble Alpexpo",
          "Duplex quartier piéton",
          "Le 15-Appartments Collioure",
          "Le Relais Des Trois Mas",
          "Les Chênes-lièges d'Ambeille",
          "Canta la Mar - Vue exceptionnelle",
          "Le Clos Saint Elme",
          "La roussette",
          "Les Suites de Collioure",
          "Le Madeloc Hôtel & Spa",
          "Hotel Le Bon Port",
          "La Chambre De Salome",
          "Les Appartements de Collioure",
          "Hôtel des Templiers",
          "Hôtel Princes de Catalogne",
          "Hôtel La Casa Pairal",
          "La Frégate",
          "Le mazet de l'Amathye",
          "Les Romarins B&B, 10 min d'Uzès, piscine et grand jardin, Table d'hôte",
          "Hôtel Triton",
          "Château de Collias",
          "Ma Lou",
          "Comme Chez Soi",
          "Mazet de Mô",
          "La Closerie du Château",
          "Uzes duplex atypique calme",
          "appartement a 50 m de la place aux herbes",
          "Appart'17-Domaine de la source",
          "Appartement-Terrasse Centre Historique",
          "Hostellerie Provençale",
          "Appartement Ulysse",
          "APPART'18 - DOMAINE DE LA SOURCE",
          "LOGIS HOTEL RESTAURANT L' Auberge d'Uzes",
          "Uzès Appart'S",
          "Le Mas du Lac",
          "UZES APPART HOTEL Résidence Le Mas des Oliviers",
          "appartement 3 min a pied du centre d'Uzès parking piscine",
          "Logis Hotel Restaurant Uzès Pont du Gard",
          "La petite hostellerie",
          "La Taverne",
          "Le trente trois",
          "Le Boutik Hotel",
          "Ibis Annecy - Cran-Gevrier",
          "LP Anne",
          "Le Luxury Design de la Vieille Ville",
          "Hôtel Catalpa",
          "Allobroges Park Hôtel",
          "Séjours & Affaires Annecy Le Pont Neuf",
          "Best Western Plus Hotel Carlton Annecy",
          "greet hôtel Annecy Cran-Gevrier",
          "LPA",
          "Hôtel du Nord",
          "ibis Annecy Centre Vieille Ville",
          "Ace Hotel Annecy",
          "Hôtel Les Muses",
          "Hôtel Le Pré Carré",
          "Zenitude Hôtel-Résidences Les Hauts d'Annecy",
          "Sure Hotel by Best Western Annecy",
          "Icône Hôtel - Annecy",
          "Atipik Hôtel",
          "Impérial Palace",
          "Hotel des Marquisats",
          "Le Pélican",
          "Hôtel du Château",
          "Les Roches Brunes",
          "Rivage Hôtel & Spa Annecy",
          "Boutique Hôtel Entraigues",
          "Hôtel des Alpes",
          "Appart'City Classic Aix-en-Provence - La Duranne",
          "Odalys City Aix en Provence Les Floridianes",
          "The Originals Résidence Aix Schuman",
          "Hôtel Escaletto",
          "City Résidence Aix-en-Provence",
          "Studios Nuitée en Provence",
          "Odalys City Aix en Provence Le Clos de la Chartreuse",
          "HOTEL RESTAURANT OLYMPE",
          "Hôtel Cézanne Boutique-Hôtel",
          "Best Western Le Galice Centre Ville",
          "Hôtel Le Mozart",
          "Les Quatre Dauphins",
          "Golden Tulip Aix en Provence",
          "Campanile Aix-en-Provence Sud - Pont de l'Arc",
          "Grand Hôtel Roi René Aix en Provence Centre - MGallery",
          "Negrecoste Hôtel & Spa",
          "Aparthotel Adagio Aix-en-Provence Centre",
          "Hôtel Vendôme",
          "B&B HOTEL Aix-en-Provence Le Tholonet",
          "Hotel Cardinal",
          "Le Concorde",
          "Renaissance Aix-en-Provence Hotel",
          "Hôtel de France",
          "Hôtel des Augustins",
          "Le Jas Du Colombier",
          "Auberge des crêtes",
          "Résidence Les Académies Aixoise",
          "Le Priolat des Anges aux portes des gorges du Verdon",
          "Hôtel Particulier des Lumières",
          "Le Romulus",
          "Hôtel des Alpes",
          "Maison d'Hôtes à Angouire",
          "Mazet de vacances residence l espai",
          "Le Mas de La Crémaillère",
          "Logis Grand Hotel Bain",
          "Le Jasmin",
          "Hotel Les Cavalets",
          "Villa Castellane",
          "Hôtel du Roc",
          "Aqui Sian Ben",
          "Gorges du Verdon - Lac Sainte-Croix",
          "Le long du Verdon",
          "Les Jardins de l'Ermitage",
          "Le Chardon 2",
          "Loft avec mezzanine",
          "\" LE CHABASSOLE \" CHAMBRES D'HÔTES - Massages - Jacuzzi - Sauna - GORGES DU VERDON",
          "Maison Castellane Chambre d'Hotes B&B",
          "Villa Borghese, The Originals Relais",
          "Lou Paradou",
          "Tribe Carcassonne",
          "Hôtel du Château & Spa - Teritoria",
          "Terres de France - Résidence Côté Provence",
          "Hotel du Roi & Spa by SOWELL COLLECTION",
          "SalutBB Chambre d'hote",
          "Adonis Carcassonne",
          "Hôtel Montmorency & Spa",
          "Hôtel De L'octroi",
          "Premiere Classe Carcassonne",
          "Hotel De La Bastide",
          "Audotel",
          "Hôtel Le Donjon - Cœur de La Cité Médiévale",
          "ibis Carcassonne Centre - La Cité",
          "LOFT SPA - Côté château.",
          "ibis budget Carcassonne La Cité",
          "Hotel Astoria",
          "Mercure Carcassonne La Cité",
          "Brit Hotel Bosquet Carcassonne Cité",
          "Hôtel l'Aragon",
          "Apartments Les 5 LYS - Quartier La Bastide",
          "Hotel Espace Cite",
          "La Rapière",
          "hotelF1 Nîmes Ouest",
          "Hotel Cote Patio",
          "SOWELL HOTELS Les Chevaliers",
          "Kyriad Nîmes Ouest A9",
          "Logis NIMOTEL Hôtel Cosy",
          "Odalys City Nîmes Arènes",
          "Hôtel De L'Amphithéâtre",
          "HÔTEL C SUITES chambres spacieuses",
          "Hôtel Le Pré Galoffre",
          "SQUARE HOTEL",
          "Best Western Marquis de la Baume",
          "Central Hotel",
          "Appart'City Classic Nîmes",
          "Hotel Majestic",
          "Appart'City Collection Nîmes Arènes",
          "Maison Albar Hotels L’Imperator"
         ],
         "type": "scattermapbox"
        }
       ],
       "layout": {
        "coloraxis": {
         "colorbar": {
          "title": {
           "text": "rating"
          }
         },
         "colorscale": [
          [
           0,
           "#0d0887"
          ],
          [
           0.1111111111111111,
           "#46039f"
          ],
          [
           0.2222222222222222,
           "#7201a8"
          ],
          [
           0.3333333333333333,
           "#9c179e"
          ],
          [
           0.4444444444444444,
           "#bd3786"
          ],
          [
           0.5555555555555556,
           "#d8576b"
          ],
          [
           0.6666666666666666,
           "#ed7953"
          ],
          [
           0.7777777777777778,
           "#fb9f3a"
          ],
          [
           0.8888888888888888,
           "#fdca26"
          ],
          [
           1,
           "#f0f921"
          ]
         ]
        },
        "height": 900,
        "legend": {
         "tracegroupgap": 0
        },
        "mapbox": {
         "center": {
          "lat": 43.99518025030151,
          "lon": 4.713939797487437
         },
         "domain": {
          "x": [
           0,
           1
          ],
          "y": [
           0,
           1
          ]
         },
         "style": "open-street-map",
         "zoom": 5
        },
        "margin": {
         "b": 0,
         "l": 0,
         "r": 0,
         "t": 50
        },
        "template": {
         "data": {
          "bar": [
           {
            "error_x": {
             "color": "#2a3f5f"
            },
            "error_y": {
             "color": "#2a3f5f"
            },
            "marker": {
             "line": {
              "color": "#E5ECF6",
              "width": 0.5
             },
             "pattern": {
              "fillmode": "overlay",
              "size": 10,
              "solidity": 0.2
             }
            },
            "type": "bar"
           }
          ],
          "barpolar": [
           {
            "marker": {
             "line": {
              "color": "#E5ECF6",
              "width": 0.5
             },
             "pattern": {
              "fillmode": "overlay",
              "size": 10,
              "solidity": 0.2
             }
            },
            "type": "barpolar"
           }
          ],
          "carpet": [
           {
            "aaxis": {
             "endlinecolor": "#2a3f5f",
             "gridcolor": "white",
             "linecolor": "white",
             "minorgridcolor": "white",
             "startlinecolor": "#2a3f5f"
            },
            "baxis": {
             "endlinecolor": "#2a3f5f",
             "gridcolor": "white",
             "linecolor": "white",
             "minorgridcolor": "white",
             "startlinecolor": "#2a3f5f"
            },
            "type": "carpet"
           }
          ],
          "choropleth": [
           {
            "colorbar": {
             "outlinewidth": 0,
             "ticks": ""
            },
            "type": "choropleth"
           }
          ],
          "contour": [
           {
            "colorbar": {
             "outlinewidth": 0,
             "ticks": ""
            },
            "colorscale": [
             [
              0,
              "#0d0887"
             ],
             [
              0.1111111111111111,
              "#46039f"
             ],
             [
              0.2222222222222222,
              "#7201a8"
             ],
             [
              0.3333333333333333,
              "#9c179e"
             ],
             [
              0.4444444444444444,
              "#bd3786"
             ],
             [
              0.5555555555555556,
              "#d8576b"
             ],
             [
              0.6666666666666666,
              "#ed7953"
             ],
             [
              0.7777777777777778,
              "#fb9f3a"
             ],
             [
              0.8888888888888888,
              "#fdca26"
             ],
             [
              1,
              "#f0f921"
             ]
            ],
            "type": "contour"
           }
          ],
          "contourcarpet": [
           {
            "colorbar": {
             "outlinewidth": 0,
             "ticks": ""
            },
            "type": "contourcarpet"
           }
          ],
          "heatmap": [
           {
            "colorbar": {
             "outlinewidth": 0,
             "ticks": ""
            },
            "colorscale": [
             [
              0,
              "#0d0887"
             ],
             [
              0.1111111111111111,
              "#46039f"
             ],
             [
              0.2222222222222222,
              "#7201a8"
             ],
             [
              0.3333333333333333,
              "#9c179e"
             ],
             [
              0.4444444444444444,
              "#bd3786"
             ],
             [
              0.5555555555555556,
              "#d8576b"
             ],
             [
              0.6666666666666666,
              "#ed7953"
             ],
             [
              0.7777777777777778,
              "#fb9f3a"
             ],
             [
              0.8888888888888888,
              "#fdca26"
             ],
             [
              1,
              "#f0f921"
             ]
            ],
            "type": "heatmap"
           }
          ],
          "heatmapgl": [
           {
            "colorbar": {
             "outlinewidth": 0,
             "ticks": ""
            },
            "colorscale": [
             [
              0,
              "#0d0887"
             ],
             [
              0.1111111111111111,
              "#46039f"
             ],
             [
              0.2222222222222222,
              "#7201a8"
             ],
             [
              0.3333333333333333,
              "#9c179e"
             ],
             [
              0.4444444444444444,
              "#bd3786"
             ],
             [
              0.5555555555555556,
              "#d8576b"
             ],
             [
              0.6666666666666666,
              "#ed7953"
             ],
             [
              0.7777777777777778,
              "#fb9f3a"
             ],
             [
              0.8888888888888888,
              "#fdca26"
             ],
             [
              1,
              "#f0f921"
             ]
            ],
            "type": "heatmapgl"
           }
          ],
          "histogram": [
           {
            "marker": {
             "pattern": {
              "fillmode": "overlay",
              "size": 10,
              "solidity": 0.2
             }
            },
            "type": "histogram"
           }
          ],
          "histogram2d": [
           {
            "colorbar": {
             "outlinewidth": 0,
             "ticks": ""
            },
            "colorscale": [
             [
              0,
              "#0d0887"
             ],
             [
              0.1111111111111111,
              "#46039f"
             ],
             [
              0.2222222222222222,
              "#7201a8"
             ],
             [
              0.3333333333333333,
              "#9c179e"
             ],
             [
              0.4444444444444444,
              "#bd3786"
             ],
             [
              0.5555555555555556,
              "#d8576b"
             ],
             [
              0.6666666666666666,
              "#ed7953"
             ],
             [
              0.7777777777777778,
              "#fb9f3a"
             ],
             [
              0.8888888888888888,
              "#fdca26"
             ],
             [
              1,
              "#f0f921"
             ]
            ],
            "type": "histogram2d"
           }
          ],
          "histogram2dcontour": [
           {
            "colorbar": {
             "outlinewidth": 0,
             "ticks": ""
            },
            "colorscale": [
             [
              0,
              "#0d0887"
             ],
             [
              0.1111111111111111,
              "#46039f"
             ],
             [
              0.2222222222222222,
              "#7201a8"
             ],
             [
              0.3333333333333333,
              "#9c179e"
             ],
             [
              0.4444444444444444,
              "#bd3786"
             ],
             [
              0.5555555555555556,
              "#d8576b"
             ],
             [
              0.6666666666666666,
              "#ed7953"
             ],
             [
              0.7777777777777778,
              "#fb9f3a"
             ],
             [
              0.8888888888888888,
              "#fdca26"
             ],
             [
              1,
              "#f0f921"
             ]
            ],
            "type": "histogram2dcontour"
           }
          ],
          "mesh3d": [
           {
            "colorbar": {
             "outlinewidth": 0,
             "ticks": ""
            },
            "type": "mesh3d"
           }
          ],
          "parcoords": [
           {
            "line": {
             "colorbar": {
              "outlinewidth": 0,
              "ticks": ""
             }
            },
            "type": "parcoords"
           }
          ],
          "pie": [
           {
            "automargin": true,
            "type": "pie"
           }
          ],
          "scatter": [
           {
            "fillpattern": {
             "fillmode": "overlay",
             "size": 10,
             "solidity": 0.2
            },
            "type": "scatter"
           }
          ],
          "scatter3d": [
           {
            "line": {
             "colorbar": {
              "outlinewidth": 0,
              "ticks": ""
             }
            },
            "marker": {
             "colorbar": {
              "outlinewidth": 0,
              "ticks": ""
             }
            },
            "type": "scatter3d"
           }
          ],
          "scattercarpet": [
           {
            "marker": {
             "colorbar": {
              "outlinewidth": 0,
              "ticks": ""
             }
            },
            "type": "scattercarpet"
           }
          ],
          "scattergeo": [
           {
            "marker": {
             "colorbar": {
              "outlinewidth": 0,
              "ticks": ""
             }
            },
            "type": "scattergeo"
           }
          ],
          "scattergl": [
           {
            "marker": {
             "colorbar": {
              "outlinewidth": 0,
              "ticks": ""
             }
            },
            "type": "scattergl"
           }
          ],
          "scattermapbox": [
           {
            "marker": {
             "colorbar": {
              "outlinewidth": 0,
              "ticks": ""
             }
            },
            "type": "scattermapbox"
           }
          ],
          "scatterpolar": [
           {
            "marker": {
             "colorbar": {
              "outlinewidth": 0,
              "ticks": ""
             }
            },
            "type": "scatterpolar"
           }
          ],
          "scatterpolargl": [
           {
            "marker": {
             "colorbar": {
              "outlinewidth": 0,
              "ticks": ""
             }
            },
            "type": "scatterpolargl"
           }
          ],
          "scatterternary": [
           {
            "marker": {
             "colorbar": {
              "outlinewidth": 0,
              "ticks": ""
             }
            },
            "type": "scatterternary"
           }
          ],
          "surface": [
           {
            "colorbar": {
             "outlinewidth": 0,
             "ticks": ""
            },
            "colorscale": [
             [
              0,
              "#0d0887"
             ],
             [
              0.1111111111111111,
              "#46039f"
             ],
             [
              0.2222222222222222,
              "#7201a8"
             ],
             [
              0.3333333333333333,
              "#9c179e"
             ],
             [
              0.4444444444444444,
              "#bd3786"
             ],
             [
              0.5555555555555556,
              "#d8576b"
             ],
             [
              0.6666666666666666,
              "#ed7953"
             ],
             [
              0.7777777777777778,
              "#fb9f3a"
             ],
             [
              0.8888888888888888,
              "#fdca26"
             ],
             [
              1,
              "#f0f921"
             ]
            ],
            "type": "surface"
           }
          ],
          "table": [
           {
            "cells": {
             "fill": {
              "color": "#EBF0F8"
             },
             "line": {
              "color": "white"
             }
            },
            "header": {
             "fill": {
              "color": "#C8D4E3"
             },
             "line": {
              "color": "white"
             }
            },
            "type": "table"
           }
          ]
         },
         "layout": {
          "annotationdefaults": {
           "arrowcolor": "#2a3f5f",
           "arrowhead": 0,
           "arrowwidth": 1
          },
          "autotypenumbers": "strict",
          "coloraxis": {
           "colorbar": {
            "outlinewidth": 0,
            "ticks": ""
           }
          },
          "colorscale": {
           "diverging": [
            [
             0,
             "#8e0152"
            ],
            [
             0.1,
             "#c51b7d"
            ],
            [
             0.2,
             "#de77ae"
            ],
            [
             0.3,
             "#f1b6da"
            ],
            [
             0.4,
             "#fde0ef"
            ],
            [
             0.5,
             "#f7f7f7"
            ],
            [
             0.6,
             "#e6f5d0"
            ],
            [
             0.7,
             "#b8e186"
            ],
            [
             0.8,
             "#7fbc41"
            ],
            [
             0.9,
             "#4d9221"
            ],
            [
             1,
             "#276419"
            ]
           ],
           "sequential": [
            [
             0,
             "#0d0887"
            ],
            [
             0.1111111111111111,
             "#46039f"
            ],
            [
             0.2222222222222222,
             "#7201a8"
            ],
            [
             0.3333333333333333,
             "#9c179e"
            ],
            [
             0.4444444444444444,
             "#bd3786"
            ],
            [
             0.5555555555555556,
             "#d8576b"
            ],
            [
             0.6666666666666666,
             "#ed7953"
            ],
            [
             0.7777777777777778,
             "#fb9f3a"
            ],
            [
             0.8888888888888888,
             "#fdca26"
            ],
            [
             1,
             "#f0f921"
            ]
           ],
           "sequentialminus": [
            [
             0,
             "#0d0887"
            ],
            [
             0.1111111111111111,
             "#46039f"
            ],
            [
             0.2222222222222222,
             "#7201a8"
            ],
            [
             0.3333333333333333,
             "#9c179e"
            ],
            [
             0.4444444444444444,
             "#bd3786"
            ],
            [
             0.5555555555555556,
             "#d8576b"
            ],
            [
             0.6666666666666666,
             "#ed7953"
            ],
            [
             0.7777777777777778,
             "#fb9f3a"
            ],
            [
             0.8888888888888888,
             "#fdca26"
            ],
            [
             1,
             "#f0f921"
            ]
           ]
          },
          "colorway": [
           "#636efa",
           "#EF553B",
           "#00cc96",
           "#ab63fa",
           "#FFA15A",
           "#19d3f3",
           "#FF6692",
           "#B6E880",
           "#FF97FF",
           "#FECB52"
          ],
          "font": {
           "color": "#2a3f5f"
          },
          "geo": {
           "bgcolor": "white",
           "lakecolor": "white",
           "landcolor": "#E5ECF6",
           "showlakes": true,
           "showland": true,
           "subunitcolor": "white"
          },
          "hoverlabel": {
           "align": "left"
          },
          "hovermode": "closest",
          "mapbox": {
           "style": "light"
          },
          "paper_bgcolor": "white",
          "plot_bgcolor": "#E5ECF6",
          "polar": {
           "angularaxis": {
            "gridcolor": "white",
            "linecolor": "white",
            "ticks": ""
           },
           "bgcolor": "#E5ECF6",
           "radialaxis": {
            "gridcolor": "white",
            "linecolor": "white",
            "ticks": ""
           }
          },
          "scene": {
           "xaxis": {
            "backgroundcolor": "#E5ECF6",
            "gridcolor": "white",
            "gridwidth": 2,
            "linecolor": "white",
            "showbackground": true,
            "ticks": "",
            "zerolinecolor": "white"
           },
           "yaxis": {
            "backgroundcolor": "#E5ECF6",
            "gridcolor": "white",
            "gridwidth": 2,
            "linecolor": "white",
            "showbackground": true,
            "ticks": "",
            "zerolinecolor": "white"
           },
           "zaxis": {
            "backgroundcolor": "#E5ECF6",
            "gridcolor": "white",
            "gridwidth": 2,
            "linecolor": "white",
            "showbackground": true,
            "ticks": "",
            "zerolinecolor": "white"
           }
          },
          "shapedefaults": {
           "line": {
            "color": "#2a3f5f"
           }
          },
          "ternary": {
           "aaxis": {
            "gridcolor": "white",
            "linecolor": "white",
            "ticks": ""
           },
           "baxis": {
            "gridcolor": "white",
            "linecolor": "white",
            "ticks": ""
           },
           "bgcolor": "#E5ECF6",
           "caxis": {
            "gridcolor": "white",
            "linecolor": "white",
            "ticks": ""
           }
          },
          "title": {
           "x": 0.05
          },
          "xaxis": {
           "automargin": true,
           "gridcolor": "white",
           "linecolor": "white",
           "ticks": "",
           "title": {
            "standoff": 15
           },
           "zerolinecolor": "white",
           "zerolinewidth": 2
          },
          "yaxis": {
           "automargin": true,
           "gridcolor": "white",
           "linecolor": "white",
           "ticks": "",
           "title": {
            "standoff": 15
           },
           "zerolinecolor": "white",
           "zerolinewidth": 2
          }
         }
        },
        "title": {
         "text": "Localisation des hôtels dans les villes à privilégier pour vos vacances",
         "x": 0.5,
         "y": 0.98
        },
        "width": 1000
       }
      }
     },
     "metadata": {},
     "output_type": "display_data"
    }
   ],
   "source": [
    "# création du graphe\n",
    "hotels_results = px.scatter_mapbox(\n",
    "    dataset_hotels,\n",
    "    title = \"Localisation des hôtels dans les villes à privilégier pour vos vacances\",\n",
    "    lon=\"longitude\",\n",
    "    lat=\"latitude\",\n",
    "    color=\"rating\",\n",
    "    mapbox_style=\"open-street-map\",\n",
    "    text=\"Name\",\n",
    "    zoom=5,\n",
    ")\n",
    "hotels_results.update_layout(width=1000,height = 900, margin={\"r\":0,\"t\":50,\"l\":0,\"b\":0}, title_x = 0.5, title_y = 0.98)\n",
    "hotels_results.update_traces(marker={'size': 15}) # permet de definir une taille fixe pour les points sur la carte\n",
    "hotels_results.show()"
   ]
  },
  {
   "cell_type": "code",
   "execution_count": 30,
   "metadata": {},
   "outputs": [],
   "source": [
    "# sauvegarde liste des hotels nettoyée\n",
    "dataset_hotels.to_csv(\"dataset_hotels.csv\", index=False)"
   ]
  },
  {
   "cell_type": "code",
   "execution_count": 31,
   "metadata": {},
   "outputs": [],
   "source": [
    "# fonction créée avec l'aide d'exemple trouvés sur internet (notamment stackoverfflow) mais je n'ai malheuresuement pas noté le lien\n",
    "\n",
    "def read_credentials(file_path):\n",
    "    \"\"\"\n",
    "    fonction qui permet d'aller chercher les codes d'accès à AWS dans un fichier txt situé au même emplacement que le script\n",
    "    Args:\n",
    "        file_path (string): chemin d'accès et nom du fichier\n",
    "    Returns:\n",
    "        un dictionnaire avec les credentials sous forme de clé(s)/valeur(s)\n",
    "    \"\"\"\n",
    "    credentials = {}\n",
    "    with open(file_path, 'r') as file:\n",
    "        for line in file:\n",
    "            key, value = line.strip().split('=')\n",
    "            credentials[key] = value\n",
    "    return credentials\n",
    "\n",
    "# Détermination du chemin et/ou nom du fichier où sont les credentials\n",
    "credentials_path = \"access.txt\"\n",
    "\n",
    "# Lecture des credentials à partir du fichier\n",
    "credentials = read_credentials(credentials_path)\n",
    "\n",
    "# Affectation à deux variables des credentials\n",
    "access_key = credentials[\"access_key\"]\n",
    "secret_key = credentials[\"secret_key\"]"
   ]
  },
  {
   "cell_type": "code",
   "execution_count": 32,
   "metadata": {},
   "outputs": [],
   "source": [
    "# sauvegarde des fichiers sur S3\n",
    "session = boto3.Session(aws_access_key_id=access_key, aws_secret_access_key=secret_key)\n",
    "\n",
    "# créer une session \"ressource\"\n",
    "s3 = session.resource(\"s3\")\n",
    "\n",
    "# connection a un bucket existant sur AWS-S3\n",
    "bucket = s3.Bucket(\"myprojet-kayak\") \n",
    "\n",
    "# mettre les fichiers dans le bucket créé sur S3\n",
    "bucket.upload_file(\"dataset_cities.csv\",\"dataset_cities.csv\")\n",
    "bucket.upload_file(\"booking.json\",\"booking.json\")\n",
    "bucket.upload_file(\"dataset_hotels.csv\",\"dataset_hotels.csv\")"
   ]
  },
  {
   "cell_type": "markdown",
   "metadata": {},
   "source": [
    "#### PART 4. RDS"
   ]
  },
  {
   "cell_type": "code",
   "execution_count": null,
   "metadata": {},
   "outputs": [],
   "source": [
    "# !pip install psycopg2-binary"
   ]
  },
  {
   "cell_type": "code",
   "execution_count": 34,
   "metadata": {},
   "outputs": [],
   "source": [
    "# Importation librairies\n",
    "from sqlalchemy import create_engine, text, Column, Integer, String, Float, URL, select\n",
    "from sqlalchemy.orm import declarative_base, sessionmaker\n",
    "from sqlalchemy.sql import text\n",
    "import psycopg2"
   ]
  },
  {
   "cell_type": "markdown",
   "metadata": {},
   "source": [
    "#### A. Création des tables"
   ]
  },
  {
   "cell_type": "code",
   "execution_count": 70,
   "metadata": {},
   "outputs": [],
   "source": [
    "# chemin et nom du fichier où se trouve les données d'accès\n",
    "credentials_path = \"rds.txt\"\n",
    "\n",
    "# utlisation de la fonction read_credentials\n",
    "credentials = read_credentials(credentials_path)"
   ]
  },
  {
   "cell_type": "code",
   "execution_count": 71,
   "metadata": {},
   "outputs": [],
   "source": [
    "# Creation d'une connection à RDS\n",
    "url_rds = URL.create(\n",
    "    \"postgresql+psycopg2\",\n",
    "    username=credentials[\"username\"],\n",
    "    password=credentials[\"mdp\"],\n",
    "    host=credentials[\"hostname\"],\n",
    "    port = credentials[\"port\"],\n",
    "    database= \"postgres\"\n",
    ")\n",
    "engine = create_engine(url_rds, echo=True)"
   ]
  },
  {
   "cell_type": "code",
   "execution_count": 52,
   "metadata": {},
   "outputs": [],
   "source": [
    "# instanciation d'une base declarative qui sera utlisée ensuite\n",
    "Base = declarative_base()"
   ]
  },
  {
   "cell_type": "code",
   "execution_count": 53,
   "metadata": {},
   "outputs": [],
   "source": [
    "# création d'une première table qui va accueillir les données concernant les villes \n",
    "\n",
    "class User(Base):\n",
    "    __tablename__ = \"data_citiesv2\"\n",
    "    #__table_args__ = {'extend_existing': True}\n",
    "\n",
    "    # chaque paramètre correspond à une colonne dans la table, avec le format de la donnée\n",
    "    id = Column(Integer, primary_key=True)\n",
    "    City = Column(String)\n",
    "    Latitude = Column(Float)\n",
    "    Longitude = Column(Float)\n",
    "    Temperature = Column(Float)\n",
    "    Humidity = Column(Float)\n",
    "    Wind = Column(Float)\n",
    "    Rain = Column(Float)\n",
    "\n",
    "    def __repr__(self):\n",
    "        return \"<User(City='{}', Latitude='{}', Longitude='{}', Temperature='{}', Humidity='{}', Wind='{}', Rain='{}')>\".format(self.City, self.Latitude, self.Longitude, self.Temperature, self.Humidity, self.Wind, self.Rain)"
   ]
  },
  {
   "cell_type": "code",
   "execution_count": 54,
   "metadata": {},
   "outputs": [
    {
     "name": "stdout",
     "output_type": "stream",
     "text": [
      "2024-03-11 12:33:07,191 INFO sqlalchemy.engine.Engine select pg_catalog.version()\n"
     ]
    },
    {
     "name": "stderr",
     "output_type": "stream",
     "text": [
      "2024-03-11 12:33:07 [sqlalchemy.engine.Engine] INFO: select pg_catalog.version()\n"
     ]
    },
    {
     "name": "stdout",
     "output_type": "stream",
     "text": [
      "2024-03-11 12:33:07,193 INFO sqlalchemy.engine.Engine [raw sql] {}\n"
     ]
    },
    {
     "name": "stderr",
     "output_type": "stream",
     "text": [
      "2024-03-11 12:33:07 [sqlalchemy.engine.Engine] INFO: [raw sql] {}\n"
     ]
    },
    {
     "name": "stdout",
     "output_type": "stream",
     "text": [
      "2024-03-11 12:33:07,285 INFO sqlalchemy.engine.Engine select current_schema()\n"
     ]
    },
    {
     "name": "stderr",
     "output_type": "stream",
     "text": [
      "2024-03-11 12:33:07 [sqlalchemy.engine.Engine] INFO: select current_schema()\n"
     ]
    },
    {
     "name": "stdout",
     "output_type": "stream",
     "text": [
      "2024-03-11 12:33:07,286 INFO sqlalchemy.engine.Engine [raw sql] {}\n"
     ]
    },
    {
     "name": "stderr",
     "output_type": "stream",
     "text": [
      "2024-03-11 12:33:07 [sqlalchemy.engine.Engine] INFO: [raw sql] {}\n"
     ]
    },
    {
     "name": "stdout",
     "output_type": "stream",
     "text": [
      "2024-03-11 12:33:07,374 INFO sqlalchemy.engine.Engine show standard_conforming_strings\n"
     ]
    },
    {
     "name": "stderr",
     "output_type": "stream",
     "text": [
      "2024-03-11 12:33:07 [sqlalchemy.engine.Engine] INFO: show standard_conforming_strings\n"
     ]
    },
    {
     "name": "stdout",
     "output_type": "stream",
     "text": [
      "2024-03-11 12:33:07,374 INFO sqlalchemy.engine.Engine [raw sql] {}\n"
     ]
    },
    {
     "name": "stderr",
     "output_type": "stream",
     "text": [
      "2024-03-11 12:33:07 [sqlalchemy.engine.Engine] INFO: [raw sql] {}\n"
     ]
    },
    {
     "name": "stdout",
     "output_type": "stream",
     "text": [
      "2024-03-11 12:33:07,473 INFO sqlalchemy.engine.Engine BEGIN (implicit)\n"
     ]
    },
    {
     "name": "stderr",
     "output_type": "stream",
     "text": [
      "2024-03-11 12:33:07 [sqlalchemy.engine.Engine] INFO: BEGIN (implicit)\n"
     ]
    },
    {
     "name": "stdout",
     "output_type": "stream",
     "text": [
      "2024-03-11 12:33:07,473 INFO sqlalchemy.engine.Engine SELECT pg_catalog.pg_class.relname \n",
      "FROM pg_catalog.pg_class JOIN pg_catalog.pg_namespace ON pg_catalog.pg_namespace.oid = pg_catalog.pg_class.relnamespace \n",
      "WHERE pg_catalog.pg_class.relname = %(table_name)s AND pg_catalog.pg_class.relkind = ANY (ARRAY[%(param_1)s, %(param_2)s, %(param_3)s, %(param_4)s, %(param_5)s]) AND pg_catalog.pg_table_is_visible(pg_catalog.pg_class.oid) AND pg_catalog.pg_namespace.nspname != %(nspname_1)s\n"
     ]
    },
    {
     "name": "stderr",
     "output_type": "stream",
     "text": [
      "2024-03-11 12:33:07 [sqlalchemy.engine.Engine] INFO: SELECT pg_catalog.pg_class.relname \n",
      "FROM pg_catalog.pg_class JOIN pg_catalog.pg_namespace ON pg_catalog.pg_namespace.oid = pg_catalog.pg_class.relnamespace \n",
      "WHERE pg_catalog.pg_class.relname = %(table_name)s AND pg_catalog.pg_class.relkind = ANY (ARRAY[%(param_1)s, %(param_2)s, %(param_3)s, %(param_4)s, %(param_5)s]) AND pg_catalog.pg_table_is_visible(pg_catalog.pg_class.oid) AND pg_catalog.pg_namespace.nspname != %(nspname_1)s\n"
     ]
    },
    {
     "name": "stdout",
     "output_type": "stream",
     "text": [
      "2024-03-11 12:33:07,473 INFO sqlalchemy.engine.Engine [generated in 0.00172s] {'table_name': 'data_citiesv2', 'param_1': 'r', 'param_2': 'p', 'param_3': 'f', 'param_4': 'v', 'param_5': 'm', 'nspname_1': 'pg_catalog'}\n"
     ]
    },
    {
     "name": "stderr",
     "output_type": "stream",
     "text": [
      "2024-03-11 12:33:07 [sqlalchemy.engine.Engine] INFO: [generated in 0.00172s] {'table_name': 'data_citiesv2', 'param_1': 'r', 'param_2': 'p', 'param_3': 'f', 'param_4': 'v', 'param_5': 'm', 'nspname_1': 'pg_catalog'}\n"
     ]
    },
    {
     "name": "stdout",
     "output_type": "stream",
     "text": [
      "2024-03-11 12:33:07,574 INFO sqlalchemy.engine.Engine \n",
      "CREATE TABLE data_citiesv2 (\n",
      "\tid SERIAL NOT NULL, \n",
      "\t\"City\" VARCHAR, \n",
      "\t\"Latitude\" FLOAT, \n",
      "\t\"Longitude\" FLOAT, \n",
      "\t\"Temperature\" FLOAT, \n",
      "\t\"Humidity\" FLOAT, \n",
      "\t\"Wind\" FLOAT, \n",
      "\t\"Rain\" FLOAT, \n",
      "\tPRIMARY KEY (id)\n",
      ")\n",
      "\n",
      "\n"
     ]
    },
    {
     "name": "stderr",
     "output_type": "stream",
     "text": [
      "2024-03-11 12:33:07 [sqlalchemy.engine.Engine] INFO: \n",
      "CREATE TABLE data_citiesv2 (\n",
      "\tid SERIAL NOT NULL, \n",
      "\t\"City\" VARCHAR, \n",
      "\t\"Latitude\" FLOAT, \n",
      "\t\"Longitude\" FLOAT, \n",
      "\t\"Temperature\" FLOAT, \n",
      "\t\"Humidity\" FLOAT, \n",
      "\t\"Wind\" FLOAT, \n",
      "\t\"Rain\" FLOAT, \n",
      "\tPRIMARY KEY (id)\n",
      ")\n",
      "\n",
      "\n"
     ]
    },
    {
     "name": "stdout",
     "output_type": "stream",
     "text": [
      "2024-03-11 12:33:07,577 INFO sqlalchemy.engine.Engine [no key 0.00241s] {}\n"
     ]
    },
    {
     "name": "stderr",
     "output_type": "stream",
     "text": [
      "2024-03-11 12:33:07 [sqlalchemy.engine.Engine] INFO: [no key 0.00241s] {}\n"
     ]
    },
    {
     "name": "stdout",
     "output_type": "stream",
     "text": [
      "2024-03-11 12:33:07,658 INFO sqlalchemy.engine.Engine COMMIT\n"
     ]
    },
    {
     "name": "stderr",
     "output_type": "stream",
     "text": [
      "2024-03-11 12:33:07 [sqlalchemy.engine.Engine] INFO: COMMIT\n"
     ]
    }
   ],
   "source": [
    "# Creation de la 1ère table\n",
    "Base.metadata.create_all(engine)"
   ]
  },
  {
   "cell_type": "code",
   "execution_count": 55,
   "metadata": {},
   "outputs": [
    {
     "name": "stdout",
     "output_type": "stream",
     "text": [
      "2024-03-11 12:33:29,597 INFO sqlalchemy.engine.Engine BEGIN (implicit)\n"
     ]
    },
    {
     "name": "stderr",
     "output_type": "stream",
     "text": [
      "2024-03-11 12:33:29 [sqlalchemy.engine.Engine] INFO: BEGIN (implicit)\n"
     ]
    },
    {
     "name": "stdout",
     "output_type": "stream",
     "text": [
      "2024-03-11 12:33:29,602 INFO sqlalchemy.engine.Engine SELECT pg_catalog.pg_class.relname \n",
      "FROM pg_catalog.pg_class JOIN pg_catalog.pg_namespace ON pg_catalog.pg_namespace.oid = pg_catalog.pg_class.relnamespace \n",
      "WHERE pg_catalog.pg_class.relname = %(table_name)s AND pg_catalog.pg_class.relkind = ANY (ARRAY[%(param_1)s, %(param_2)s, %(param_3)s, %(param_4)s, %(param_5)s]) AND pg_catalog.pg_table_is_visible(pg_catalog.pg_class.oid) AND pg_catalog.pg_namespace.nspname != %(nspname_1)s\n"
     ]
    },
    {
     "name": "stderr",
     "output_type": "stream",
     "text": [
      "2024-03-11 12:33:29 [sqlalchemy.engine.Engine] INFO: SELECT pg_catalog.pg_class.relname \n",
      "FROM pg_catalog.pg_class JOIN pg_catalog.pg_namespace ON pg_catalog.pg_namespace.oid = pg_catalog.pg_class.relnamespace \n",
      "WHERE pg_catalog.pg_class.relname = %(table_name)s AND pg_catalog.pg_class.relkind = ANY (ARRAY[%(param_1)s, %(param_2)s, %(param_3)s, %(param_4)s, %(param_5)s]) AND pg_catalog.pg_table_is_visible(pg_catalog.pg_class.oid) AND pg_catalog.pg_namespace.nspname != %(nspname_1)s\n"
     ]
    },
    {
     "name": "stdout",
     "output_type": "stream",
     "text": [
      "2024-03-11 12:33:29,604 INFO sqlalchemy.engine.Engine [cached since 22.13s ago] {'table_name': 'data_citiesv2', 'param_1': 'r', 'param_2': 'p', 'param_3': 'f', 'param_4': 'v', 'param_5': 'm', 'nspname_1': 'pg_catalog'}\n"
     ]
    },
    {
     "name": "stderr",
     "output_type": "stream",
     "text": [
      "2024-03-11 12:33:29 [sqlalchemy.engine.Engine] INFO: [cached since 22.13s ago] {'table_name': 'data_citiesv2', 'param_1': 'r', 'param_2': 'p', 'param_3': 'f', 'param_4': 'v', 'param_5': 'm', 'nspname_1': 'pg_catalog'}\n"
     ]
    },
    {
     "name": "stdout",
     "output_type": "stream",
     "text": [
      "2024-03-11 12:33:29,714 INFO sqlalchemy.engine.Engine INSERT INTO data_citiesv2 (id, \"City\", \"Latitude\", \"Longitude\", \"Temperature\", \"Humidity\", \"Wind\", \"Rain\") VALUES (%(id__0)s, %(City__0)s, %(Latitude__0)s, %(Longitude__0)s, %(Temperature__0)s, %(Humidity__0)s, %(Wind__0)s, %(Rain__0)s), (%(id__1)s,  ... 4302 characters truncated ... atitude__34)s, %(Longitude__34)s, %(Temperature__34)s, %(Humidity__34)s, %(Wind__34)s, %(Rain__34)s)\n"
     ]
    },
    {
     "name": "stderr",
     "output_type": "stream",
     "text": [
      "2024-03-11 12:33:29 [sqlalchemy.engine.Engine] INFO: INSERT INTO data_citiesv2 (id, \"City\", \"Latitude\", \"Longitude\", \"Temperature\", \"Humidity\", \"Wind\", \"Rain\") VALUES (%(id__0)s, %(City__0)s, %(Latitude__0)s, %(Longitude__0)s, %(Temperature__0)s, %(Humidity__0)s, %(Wind__0)s, %(Rain__0)s), (%(id__1)s,  ... 4302 characters truncated ... atitude__34)s, %(Longitude__34)s, %(Temperature__34)s, %(Humidity__34)s, %(Wind__34)s, %(Rain__34)s)\n"
     ]
    },
    {
     "name": "stdout",
     "output_type": "stream",
     "text": [
      "2024-03-11 12:33:29,716 INFO sqlalchemy.engine.Engine [generated in 0.00024s (insertmanyvalues) 1/1 (unordered)] {'id__0': 1, 'City__0': 'Mont Saint Michel', 'Temperature__0': 13.800000190734863, 'Longitude__0': '-1.511459954959514', 'Humidity__0': 82.0, 'Latitude__0': '48.6359541', 'Wind__0': 6.400000095367432, 'Rain__0': 0.699999988079071, 'id__1': 2, 'City__1': 'St Malo', 'Temperature__1': 13.600000381469727, 'Longitude__1': '-2.0260409', 'Humidity__1': 79.0, 'Latitude__1': '48.649518', 'Wind__1': 7.099999904632568, 'Rain__1': 0.20000000298023224, 'id__2': 3, 'City__2': 'Bayeux', 'Temperature__2': 14.100000381469727, 'Longitude__2': '-0.7024738', 'Humidity__2': 78.0, 'Latitude__2': '49.2764624', 'Wind__2': 6.599999904632568, 'Rain__2': 0.800000011920929, 'id__3': 4, 'City__3': 'Le Havre', 'Temperature__3': 11.399999618530273, 'Longitude__3': '0.1079732', 'Humidity__3': 87.0, 'Latitude__3': '49.4938975', 'Wind__3': 6.400000095367432, 'Rain__3': 1.899999976158142, 'id__4': 5, 'City__4': 'Rouen', 'Temperature__4': 13.600000381469727, 'Longitude__4': '1.0939658', 'Humidity__4': 81.0, 'Latitude__4': '49.4404591', 'Wind__4': 5.5, 'Rain__4': 1.899999976158142, 'id__5': 6, 'City__5': 'Paris', 'Temperature__5': 14.899999618530273, 'Longitude__5': '2.3200410217200766', 'Humidity__5': 60.0, 'Latitude__5': '48.8588897', 'Wind__5': 3.799999952316284, 'Rain__5': 0.6000000238418579, 'id__6': 7, 'City__6': 'Amiens' ... 180 parameters truncated ... 'Wind__28': 4.699999809265137, 'Rain__28': 0.0, 'id__29': 30, 'City__29': 'Ariege', 'Temperature__29': 16.5, 'Longitude__29': '1.6124975', 'Humidity__29': 61.0, 'Latitude__29': '42.9927428', 'Wind__29': 2.4000000953674316, 'Rain__29': 0.0, 'id__30': 31, 'City__30': 'Toulouse', 'Temperature__30': 16.200000762939453, 'Longitude__30': '1.4442469', 'Humidity__30': 65.0, 'Latitude__30': '43.6044622', 'Wind__30': 4.199999809265137, 'Rain__30': 0.10000000149011612, 'id__31': 32, 'City__31': 'Montauban', 'Temperature__31': 16.0, 'Longitude__31': '1.3549991', 'Humidity__31': 65.0, 'Latitude__31': '44.0175835', 'Wind__31': 4.099999904632568, 'Rain__31': 0.4000000059604645, 'id__32': 33, 'City__32': 'Biarritz', 'Temperature__32': 16.100000381469727, 'Longitude__32': '-1.5592776', 'Humidity__32': 70.0, 'Latitude__32': '43.4832523', 'Wind__32': 4.300000190734863, 'Rain__32': 2.299999952316284, 'id__33': 34, 'City__33': 'Bayonne', 'Temperature__33': 16.799999237060547, 'Longitude__33': '-1.4736657', 'Humidity__33': 67.0, 'Latitude__33': '43.4945144', 'Wind__33': 3.5, 'Rain__33': 1.7999999523162842, 'id__34': 35, 'City__34': 'La Rochelle', 'Temperature__34': 12.100000381469727, 'Longitude__34': '-1.1520434', 'Humidity__34': 79.0, 'Latitude__34': '46.1591126', 'Wind__34': 5.699999809265137, 'Rain__34': 0.699999988079071}\n"
     ]
    },
    {
     "name": "stderr",
     "output_type": "stream",
     "text": [
      "2024-03-11 12:33:29 [sqlalchemy.engine.Engine] INFO: [generated in 0.00024s (insertmanyvalues) 1/1 (unordered)] {'id__0': 1, 'City__0': 'Mont Saint Michel', 'Temperature__0': 13.800000190734863, 'Longitude__0': '-1.511459954959514', 'Humidity__0': 82.0, 'Latitude__0': '48.6359541', 'Wind__0': 6.400000095367432, 'Rain__0': 0.699999988079071, 'id__1': 2, 'City__1': 'St Malo', 'Temperature__1': 13.600000381469727, 'Longitude__1': '-2.0260409', 'Humidity__1': 79.0, 'Latitude__1': '48.649518', 'Wind__1': 7.099999904632568, 'Rain__1': 0.20000000298023224, 'id__2': 3, 'City__2': 'Bayeux', 'Temperature__2': 14.100000381469727, 'Longitude__2': '-0.7024738', 'Humidity__2': 78.0, 'Latitude__2': '49.2764624', 'Wind__2': 6.599999904632568, 'Rain__2': 0.800000011920929, 'id__3': 4, 'City__3': 'Le Havre', 'Temperature__3': 11.399999618530273, 'Longitude__3': '0.1079732', 'Humidity__3': 87.0, 'Latitude__3': '49.4938975', 'Wind__3': 6.400000095367432, 'Rain__3': 1.899999976158142, 'id__4': 5, 'City__4': 'Rouen', 'Temperature__4': 13.600000381469727, 'Longitude__4': '1.0939658', 'Humidity__4': 81.0, 'Latitude__4': '49.4404591', 'Wind__4': 5.5, 'Rain__4': 1.899999976158142, 'id__5': 6, 'City__5': 'Paris', 'Temperature__5': 14.899999618530273, 'Longitude__5': '2.3200410217200766', 'Humidity__5': 60.0, 'Latitude__5': '48.8588897', 'Wind__5': 3.799999952316284, 'Rain__5': 0.6000000238418579, 'id__6': 7, 'City__6': 'Amiens' ... 180 parameters truncated ... 'Wind__28': 4.699999809265137, 'Rain__28': 0.0, 'id__29': 30, 'City__29': 'Ariege', 'Temperature__29': 16.5, 'Longitude__29': '1.6124975', 'Humidity__29': 61.0, 'Latitude__29': '42.9927428', 'Wind__29': 2.4000000953674316, 'Rain__29': 0.0, 'id__30': 31, 'City__30': 'Toulouse', 'Temperature__30': 16.200000762939453, 'Longitude__30': '1.4442469', 'Humidity__30': 65.0, 'Latitude__30': '43.6044622', 'Wind__30': 4.199999809265137, 'Rain__30': 0.10000000149011612, 'id__31': 32, 'City__31': 'Montauban', 'Temperature__31': 16.0, 'Longitude__31': '1.3549991', 'Humidity__31': 65.0, 'Latitude__31': '44.0175835', 'Wind__31': 4.099999904632568, 'Rain__31': 0.4000000059604645, 'id__32': 33, 'City__32': 'Biarritz', 'Temperature__32': 16.100000381469727, 'Longitude__32': '-1.5592776', 'Humidity__32': 70.0, 'Latitude__32': '43.4832523', 'Wind__32': 4.300000190734863, 'Rain__32': 2.299999952316284, 'id__33': 34, 'City__33': 'Bayonne', 'Temperature__33': 16.799999237060547, 'Longitude__33': '-1.4736657', 'Humidity__33': 67.0, 'Latitude__33': '43.4945144', 'Wind__33': 3.5, 'Rain__33': 1.7999999523162842, 'id__34': 35, 'City__34': 'La Rochelle', 'Temperature__34': 12.100000381469727, 'Longitude__34': '-1.1520434', 'Humidity__34': 79.0, 'Latitude__34': '46.1591126', 'Wind__34': 5.699999809265137, 'Rain__34': 0.699999988079071}\n"
     ]
    },
    {
     "name": "stdout",
     "output_type": "stream",
     "text": [
      "2024-03-11 12:33:29,775 INFO sqlalchemy.engine.Engine COMMIT\n"
     ]
    },
    {
     "name": "stderr",
     "output_type": "stream",
     "text": [
      "2024-03-11 12:33:29 [sqlalchemy.engine.Engine] INFO: COMMIT\n"
     ]
    },
    {
     "data": {
      "text/plain": [
       "35"
      ]
     },
     "execution_count": 55,
     "metadata": {},
     "output_type": "execute_result"
    }
   ],
   "source": [
    "# Insertion de notre dataframe sur les villes dans la table créée auparavant, en y ajoutant les données\n",
    "dataset_cities.to_sql(\"data_citiesv2\", engine, if_exists=\"append\", index=False)"
   ]
  },
  {
   "cell_type": "code",
   "execution_count": null,
   "metadata": {},
   "outputs": [],
   "source": [
    "# suppression de la colonne \"gps\" inutile\n",
    "dataset_hotels = dataset_hotels.drop(\"gps\", axis=1)"
   ]
  },
  {
   "cell_type": "code",
   "execution_count": 60,
   "metadata": {},
   "outputs": [
    {
     "name": "stderr",
     "output_type": "stream",
     "text": [
      "2024-03-11 12:35:03 [py.warnings] WARNING: C:\\Users\\SD\\AppData\\Local\\Temp\\ipykernel_28252\\882514365.py:3: SAWarning:\n",
      "\n",
      "This declarative base already contains a class with the same class name and module name as __main__.User, and will be replaced in the string-lookup table.\n",
      "\n",
      "\n"
     ]
    }
   ],
   "source": [
    "# création d'une deuxième table qui va accueillir les données concernant les hôtels\n",
    "\n",
    "class User(Base):\n",
    "    __tablename__ = \"data_hotelsv2\"\n",
    "    #__table_args__ = {'extend_existing': True}\n",
    "\n",
    "    # chaque paramètre correspond à une colonne dans la table, avec le format de la donnée\n",
    "    id = Column(Integer, primary_key=True) # permettra de faire la jointure avec la table cities\n",
    "    Name = Column(String)\n",
    "    Rating = Column(Float)\n",
    "    Url = Column(String)\n",
    "    Comment = Column(String)\n",
    "    Latitude = Column(Float)\n",
    "    Longitude = Column(Float)\n",
    "\n",
    "    def __repr__(self):\n",
    "        return \"<User(Name='{}', Rating='{}', Url='{}', Comment='{}', Latitude='{}', Longitude='{}')>\".format(self.Name, self.Rating, self.Url, self.Comment, self.Latitude, self.Longitude)"
   ]
  },
  {
   "cell_type": "code",
   "execution_count": 61,
   "metadata": {},
   "outputs": [
    {
     "name": "stdout",
     "output_type": "stream",
     "text": [
      "2024-03-11 12:35:05,829 INFO sqlalchemy.engine.Engine BEGIN (implicit)\n"
     ]
    },
    {
     "name": "stderr",
     "output_type": "stream",
     "text": [
      "2024-03-11 12:35:05 [sqlalchemy.engine.Engine] INFO: BEGIN (implicit)\n"
     ]
    },
    {
     "name": "stdout",
     "output_type": "stream",
     "text": [
      "2024-03-11 12:35:05,840 INFO sqlalchemy.engine.Engine SELECT pg_catalog.pg_class.relname \n",
      "FROM pg_catalog.pg_class JOIN pg_catalog.pg_namespace ON pg_catalog.pg_namespace.oid = pg_catalog.pg_class.relnamespace \n",
      "WHERE pg_catalog.pg_class.relname = %(table_name)s AND pg_catalog.pg_class.relkind = ANY (ARRAY[%(param_1)s, %(param_2)s, %(param_3)s, %(param_4)s, %(param_5)s]) AND pg_catalog.pg_table_is_visible(pg_catalog.pg_class.oid) AND pg_catalog.pg_namespace.nspname != %(nspname_1)s\n"
     ]
    },
    {
     "name": "stderr",
     "output_type": "stream",
     "text": [
      "2024-03-11 12:35:05 [sqlalchemy.engine.Engine] INFO: SELECT pg_catalog.pg_class.relname \n",
      "FROM pg_catalog.pg_class JOIN pg_catalog.pg_namespace ON pg_catalog.pg_namespace.oid = pg_catalog.pg_class.relnamespace \n",
      "WHERE pg_catalog.pg_class.relname = %(table_name)s AND pg_catalog.pg_class.relkind = ANY (ARRAY[%(param_1)s, %(param_2)s, %(param_3)s, %(param_4)s, %(param_5)s]) AND pg_catalog.pg_table_is_visible(pg_catalog.pg_class.oid) AND pg_catalog.pg_namespace.nspname != %(nspname_1)s\n"
     ]
    },
    {
     "name": "stdout",
     "output_type": "stream",
     "text": [
      "2024-03-11 12:35:05,848 INFO sqlalchemy.engine.Engine [cached since 118.4s ago] {'table_name': 'data_hotelsv2', 'param_1': 'r', 'param_2': 'p', 'param_3': 'f', 'param_4': 'v', 'param_5': 'm', 'nspname_1': 'pg_catalog'}\n"
     ]
    },
    {
     "name": "stderr",
     "output_type": "stream",
     "text": [
      "2024-03-11 12:35:05 [sqlalchemy.engine.Engine] INFO: [cached since 118.4s ago] {'table_name': 'data_hotelsv2', 'param_1': 'r', 'param_2': 'p', 'param_3': 'f', 'param_4': 'v', 'param_5': 'm', 'nspname_1': 'pg_catalog'}\n"
     ]
    },
    {
     "name": "stdout",
     "output_type": "stream",
     "text": [
      "2024-03-11 12:35:05,971 INFO sqlalchemy.engine.Engine \n",
      "CREATE TABLE data_hotelsv2 (\n",
      "\tid BIGINT, \n",
      "\t\"Name\" TEXT, \n",
      "\trating FLOAT(53), \n",
      "\turl TEXT, \n",
      "\t\"Comment\" TEXT, \n",
      "\tlatitude FLOAT(53), \n",
      "\tlongitude FLOAT(53)\n",
      ")\n",
      "\n",
      "\n"
     ]
    },
    {
     "name": "stderr",
     "output_type": "stream",
     "text": [
      "2024-03-11 12:35:05 [sqlalchemy.engine.Engine] INFO: \n",
      "CREATE TABLE data_hotelsv2 (\n",
      "\tid BIGINT, \n",
      "\t\"Name\" TEXT, \n",
      "\trating FLOAT(53), \n",
      "\turl TEXT, \n",
      "\t\"Comment\" TEXT, \n",
      "\tlatitude FLOAT(53), \n",
      "\tlongitude FLOAT(53)\n",
      ")\n",
      "\n",
      "\n"
     ]
    },
    {
     "name": "stdout",
     "output_type": "stream",
     "text": [
      "2024-03-11 12:35:05,979 INFO sqlalchemy.engine.Engine [no key 0.00874s] {}\n"
     ]
    },
    {
     "name": "stderr",
     "output_type": "stream",
     "text": [
      "2024-03-11 12:35:05 [sqlalchemy.engine.Engine] INFO: [no key 0.00874s] {}\n"
     ]
    },
    {
     "name": "stdout",
     "output_type": "stream",
     "text": [
      "2024-03-11 12:35:06,036 INFO sqlalchemy.engine.Engine INSERT INTO data_hotelsv2 (id, \"Name\", rating, url, \"Comment\", latitude, longitude) VALUES (%(id__0)s, %(Name__0)s, %(rating__0)s, %(url__0)s, %(Comment__0)s, %(latitude__0)s, %(longitude__0)s), (%(id__1)s, %(Name__1)s, %(rating__1)s, %(url__1)s, %(C ... 22451 characters truncated ... Name__198)s, %(rating__198)s, %(url__198)s, %(Comment__198)s, %(latitude__198)s, %(longitude__198)s)\n"
     ]
    },
    {
     "name": "stderr",
     "output_type": "stream",
     "text": [
      "2024-03-11 12:35:06 [sqlalchemy.engine.Engine] INFO: INSERT INTO data_hotelsv2 (id, \"Name\", rating, url, \"Comment\", latitude, longitude) VALUES (%(id__0)s, %(Name__0)s, %(rating__0)s, %(url__0)s, %(Comment__0)s, %(latitude__0)s, %(longitude__0)s), (%(id__1)s, %(Name__1)s, %(rating__1)s, %(url__1)s, %(C ... 22451 characters truncated ... Name__198)s, %(rating__198)s, %(url__198)s, %(Comment__198)s, %(latitude__198)s, %(longitude__198)s)\n"
     ]
    },
    {
     "name": "stdout",
     "output_type": "stream",
     "text": [
      "2024-03-11 12:35:06,037 INFO sqlalchemy.engine.Engine [generated in 0.00079s (insertmanyvalues) 1/1 (unordered)] {'rating__0': 8.5, 'longitude__0': 4.360898, 'id__0': 25, 'url__0': 'https://www.booking.com/hotel/fr/les-madones-nimes1.fr.html', 'Name__0': 'Les Madones', 'latitude__0': 43.7646229, 'Comment__0': \"Situé à Nîmes, à moins de 29 km du parc des expositions et à 37 km de l'amphithéâtre d'Arles, l'établissement Les Madones propose des hébergements av ... (259 characters truncated) ... une télévision à écran plat, d'une cuisine entièrement équipée et d'une terrasse.\\n\\nL'aéroport de Nîmes-Garons, le plus proche, est implanté à 5 km.\", 'rating__1': 7.2, 'longitude__1': 4.362033, 'id__1': 25, 'url__1': 'https://www.booking.com/hotel/fr/abyad-booking-cosy-dans-l-hyper-centre-de-nimes.fr.html', 'Name__1': 'Abyad - A 300 m des Arènes', 'latitude__1': 43.8368472, 'Comment__1': \"Idéalement situé dans le centre-ville de Nîmes, l'Abyad - A 300 mètres des Arènes se trouve à 34 km de l'amphithéâtre d'Arles, à 44 km de la gare cen ... (458 characters truncated) ... 'un sèche-cheveux. Tous les logements comprennent une armoire et une bouilloire.\\n\\nL'aéroport de Nîmes-Garons, le plus proche, est implanté à 10 km.\", 'rating__2': 8.3, 'longitude__2': 4.35481846, 'id__2': 25, 'url__2': 'https://www.booking.com/hotel/fr/royal.fr.html', 'Name__2': 'Royal Hôtel', 'latitude__2': 43.8388151, 'Comment__2': \"Situé au cœur de Nîmes, le Royal Hôtel dispose d'un restaurant sur place, La Bodéguita, qui s'ouvre sur la place Assas. L'hôtel se trouve à moins de  ... (886 characters truncated) ... sés sur la place.\\n\\nLe parc des expositions de Nîmes se trouve à 2,7 km du Royal Hôtel. L'aéroport de Montpellier-Méditerranée est implanté à 53 km.\", 'rating__3': 8.5, 'longitude__3': 2.3485489, 'id__3': 29, 'url__3': 'https://www.booking.com/hotel/fr/auberge-de-l-aude.fr.html', 'Name__3': \"**Auberge de l'Aude**\", 'latitude__3': 43.2098203, 'Comment__3': \"Offrant une vue sur la cour intérieure, **Auberge de l'AudeLe ** est un hébergement situé à Carcassonne, à 300 mètres de la cathédrale et à 600 mètre ... (686 characters truncated) ... cation de voitures est assuré sur place.\\n\\nVous séjournerez à 1,9 km du château de Comtal.**. L'aéroport de Carcassonne, le plus proche, est à 3 km.\", 'rating__4': 7.6, 'longitude__4': 4.35384233, 'id__4': 25, 'url__4': 'https://www.booking.com/hotel/fr/mas-de-galoffre.fr.html', 'Name__4': 'Hotel Mas De Galoffre', 'latitude__4': 43.78845189, 'Comment__4': \"Situé à 5 minutes en voiture du centre de Nîmes et de la Camargue, l'Hotel Mas de Galoffre, niché au cœur d'un domaine provençal, constitue un point  ... (457 characters truncated) ... bles à proximité.\\n\\nLe restaurant sur place propose une cuisine régionale, qui peut être servie sur la terrasse donnant sur le jardin ou la piscine.\", 'rating__5': 7.9, 'longitude__5': 4.36785668, 'id__5': 25, 'url__5': 'https://www.booking.com/hotel/fr/adagio-access-nimes.fr.html', 'Name__5': 'Zenitude Hôtel-Résidences Nîmes Centre', 'latitude__5': 43.83249328, 'Comment__5': \"Le Zenitude Hôtel-Résidences Nîmes Centre est une résidence respectueuse de l’environnement située à Nîmes. Le parc des expositions vous attend à 1,6 ... (462 characters truncated) ... vé sur place, sous réserve de disponibilité.\\n\\nVous pourrez choisir parmi une large sélection de plats et vous détendre autour d'un délicieux repas.\", 'rating__6': 7.4, 'longitude__6': 4.36314873, 'id__6': 25, 'url__6': 'https://www.booking.com/hotel/fr/empire-nimes.fr.html', 'Name__6': 'Empire Hôtel', 'latitude__6': 43.84030089, 'Comment__6': \"L'Empire Hôtel est situé au cœur de Nîmes, en face de la cathédrale et à 800 mètres des arènes romaines. Une connexion Wi-Fi est disponible gratuitem ... (83 characters truncated) ... ureau et d'une salle de bains privative.\\n\\nLa gare TGV de Nîmes se trouve à seulement 1 km de l'Empire. Le musée Carré d'Art se trouve à 800 mètres.\", 'rating__7': 8.3 ... 1293 parameters truncated ... 'Comment__191': 'L’Hôtel Le Pré Galoffre bénéficie d’un emplacement paisible dans un cadre rural à 10\\xa0minutes de route du centre de Nîmes. L’établissement possède  ... (818 characters truncated) ... es est à 15\\xa0minutes de route.\\n\\nDes conditions différentes et des suppléments peuvent s’appliquer pour les réservations de plus de 4\\xa0chambres.', 'rating__192': 8.7, 'longitude__192': 4.363037, 'id__192': 25, 'url__192': 'https://www.booking.com/hotel/fr/square-nimes.fr.html', 'Name__192': 'SQUARE HOTEL', 'latitude__192': 43.837032, 'Comment__192': \"Situé à Nîmes, à moins de 13 km du parc des expositions, le SQUARE HOTEL propose un salon commun, des chambres non-fumeurs, une connexion Wi-Fi gratu ... (511 characters truncated) ... nerez à 34 km de l'amphithéâtre d'Arles et à 43 km de la gare centrale d'Avignon. L'aéroport le plus proche, celui de Nîmes-Garons, est situé à 9 km.\", 'rating__193': 8.0, 'longitude__193': 4.3610841, 'id__193': 25, 'url__193': 'https://www.booking.com/hotel/fr/ha-tel-la-baume.fr.html', 'Name__193': 'Best Western Marquis de la Baume', 'latitude__193': 43.83959476, 'Comment__193': \"Situé dans le centre de la ville historique de Nîmes, le Best Western Marquis de la Baume occupe une maison de ville du XVIIe siècle, à seulement 3,7 ... (558 characters truncated) ... ption ouverte 24h/24 et un bar.\\n\\nL'hôtel n'est qu'à 10 minutes à pied du Colisée et de la tour Magne. Un parking public est disponible à proximité.\", 'rating__194': 7.4, 'longitude__194': 4.36281145, 'id__194': 25, 'url__194': 'https://www.booking.com/hotel/fr/central-nimes.fr.html', 'Name__194': 'Central Hotel', 'latitude__194': 43.83899502, 'Comment__194': \"Le Central Hotel occupe un bâtiment rénové du XVIIIe siècle dans le centre historique de Nîmes, juste derrière l'ancien site romain de la porte d'Aug ... (678 characters truncated) ... sservant l'aéroport de Nîmes et à moins de 10 minutes à pied de la gare TGV de Nîmes. La cathédrale Notre-Dame-et-Saint-Castor se situe à 280 mètres.\", 'rating__195': 7.1, 'longitude__195': 4.3645978, 'id__195': 25, 'url__195': 'https://www.booking.com/hotel/fr/appart-city-nimes.fr.html', 'Name__195': \"Appart'City Classic Nîmes\", 'latitude__195': 43.82158549, 'Comment__195': \"L’Appart'City Nîmes est situé à Nîmes, à 500 mètres du centre sportif et parc des expositions Le Parnasse, ainsi qu’à 20\\xa0minutes à pied des arènes ... (506 characters truncated) ...  fruits ainsi que de fromages et de yaourts.\\n\\nUn parking privé est disponible sur place. Vous séjournerez à 10\\xa0km de l’aéroport de Nîmes-Garons.\", 'rating__196': 8.3, 'longitude__196': 4.36533675, 'id__196': 25, 'url__196': 'https://www.booking.com/hotel/fr/majestic-nimes.fr.html', 'Name__196': 'Hotel Majestic', 'latitude__196': 43.83436329, 'Comment__196': \"Rénové en 2019, l'Hotel Majestic est situé à Nîmes, à seulement 320 mètres des arènes et du centre-ville de Nîmes. Vous serez aussi à 600 mètres du m ... (515 characters truncated) ... n.\\n\\nL'Hotel Majestic se trouve à seulement 300 mètres de la gare TGV de Nîmes. Enfin, vous serez à 52 km de l'aéroport de Montpellier-Méditerranée.\", 'rating__197': 8.6, 'longitude__197': 4.36143396, 'id__197': 25, 'url__197': 'https://www.booking.com/hotel/fr/appart-39-city-nimes.fr.html', 'Name__197': \"Appart'City Collection Nîmes Arènes\", 'latitude__197': 43.83387353, 'Comment__197': \"L'Appart'City Confort Nîmes Arenes est situé dans le centre historique de Nîmes, à 1 minute à pied des arènes, à 300 mètres de la gare et à proximité ... (538 characters truncated) ... galement proposés.\\n\\nEnfin, l'aéroport de Nîmes-Garons, le plus proche, est à Garons/Saint-Gilles, à 12 km de l'Appart'City Collection Nîmes Arènes.\", 'rating__198': 9.1, 'longitude__198': 4.35276791, 'id__198': 25, 'url__198': 'https://www.booking.com/hotel/fr/imperator-nimes.fr.html', 'Name__198': 'Maison Albar Hotels L’Imperator', 'latitude__198': 43.83866613, 'Comment__198': \"La Maison Albar Hotels L’Imperator est un hôtel de luxe situé dans la ville de Nîmes, en bordure du jardin de la Fontaine et à moins de 5 minutes à p ... (1438 characters truncated) ... \\n\\nUn parking privé est accessible sur place, sur réservation. La gare TGV de Nîmes se trouve à moins de 2 km de la Maison Albar Hotels L’Imperator.\"}\n"
     ]
    },
    {
     "name": "stderr",
     "output_type": "stream",
     "text": [
      "2024-03-11 12:35:06 [sqlalchemy.engine.Engine] INFO: [generated in 0.00079s (insertmanyvalues) 1/1 (unordered)] {'rating__0': 8.5, 'longitude__0': 4.360898, 'id__0': 25, 'url__0': 'https://www.booking.com/hotel/fr/les-madones-nimes1.fr.html', 'Name__0': 'Les Madones', 'latitude__0': 43.7646229, 'Comment__0': \"Situé à Nîmes, à moins de 29 km du parc des expositions et à 37 km de l'amphithéâtre d'Arles, l'établissement Les Madones propose des hébergements av ... (259 characters truncated) ... une télévision à écran plat, d'une cuisine entièrement équipée et d'une terrasse.\\n\\nL'aéroport de Nîmes-Garons, le plus proche, est implanté à 5 km.\", 'rating__1': 7.2, 'longitude__1': 4.362033, 'id__1': 25, 'url__1': 'https://www.booking.com/hotel/fr/abyad-booking-cosy-dans-l-hyper-centre-de-nimes.fr.html', 'Name__1': 'Abyad - A 300 m des Arènes', 'latitude__1': 43.8368472, 'Comment__1': \"Idéalement situé dans le centre-ville de Nîmes, l'Abyad - A 300 mètres des Arènes se trouve à 34 km de l'amphithéâtre d'Arles, à 44 km de la gare cen ... (458 characters truncated) ... 'un sèche-cheveux. Tous les logements comprennent une armoire et une bouilloire.\\n\\nL'aéroport de Nîmes-Garons, le plus proche, est implanté à 10 km.\", 'rating__2': 8.3, 'longitude__2': 4.35481846, 'id__2': 25, 'url__2': 'https://www.booking.com/hotel/fr/royal.fr.html', 'Name__2': 'Royal Hôtel', 'latitude__2': 43.8388151, 'Comment__2': \"Situé au cœur de Nîmes, le Royal Hôtel dispose d'un restaurant sur place, La Bodéguita, qui s'ouvre sur la place Assas. L'hôtel se trouve à moins de  ... (886 characters truncated) ... sés sur la place.\\n\\nLe parc des expositions de Nîmes se trouve à 2,7 km du Royal Hôtel. L'aéroport de Montpellier-Méditerranée est implanté à 53 km.\", 'rating__3': 8.5, 'longitude__3': 2.3485489, 'id__3': 29, 'url__3': 'https://www.booking.com/hotel/fr/auberge-de-l-aude.fr.html', 'Name__3': \"**Auberge de l'Aude**\", 'latitude__3': 43.2098203, 'Comment__3': \"Offrant une vue sur la cour intérieure, **Auberge de l'AudeLe ** est un hébergement situé à Carcassonne, à 300 mètres de la cathédrale et à 600 mètre ... (686 characters truncated) ... cation de voitures est assuré sur place.\\n\\nVous séjournerez à 1,9 km du château de Comtal.**. L'aéroport de Carcassonne, le plus proche, est à 3 km.\", 'rating__4': 7.6, 'longitude__4': 4.35384233, 'id__4': 25, 'url__4': 'https://www.booking.com/hotel/fr/mas-de-galoffre.fr.html', 'Name__4': 'Hotel Mas De Galoffre', 'latitude__4': 43.78845189, 'Comment__4': \"Situé à 5 minutes en voiture du centre de Nîmes et de la Camargue, l'Hotel Mas de Galoffre, niché au cœur d'un domaine provençal, constitue un point  ... (457 characters truncated) ... bles à proximité.\\n\\nLe restaurant sur place propose une cuisine régionale, qui peut être servie sur la terrasse donnant sur le jardin ou la piscine.\", 'rating__5': 7.9, 'longitude__5': 4.36785668, 'id__5': 25, 'url__5': 'https://www.booking.com/hotel/fr/adagio-access-nimes.fr.html', 'Name__5': 'Zenitude Hôtel-Résidences Nîmes Centre', 'latitude__5': 43.83249328, 'Comment__5': \"Le Zenitude Hôtel-Résidences Nîmes Centre est une résidence respectueuse de l’environnement située à Nîmes. Le parc des expositions vous attend à 1,6 ... (462 characters truncated) ... vé sur place, sous réserve de disponibilité.\\n\\nVous pourrez choisir parmi une large sélection de plats et vous détendre autour d'un délicieux repas.\", 'rating__6': 7.4, 'longitude__6': 4.36314873, 'id__6': 25, 'url__6': 'https://www.booking.com/hotel/fr/empire-nimes.fr.html', 'Name__6': 'Empire Hôtel', 'latitude__6': 43.84030089, 'Comment__6': \"L'Empire Hôtel est situé au cœur de Nîmes, en face de la cathédrale et à 800 mètres des arènes romaines. Une connexion Wi-Fi est disponible gratuitem ... (83 characters truncated) ... ureau et d'une salle de bains privative.\\n\\nLa gare TGV de Nîmes se trouve à seulement 1 km de l'Empire. Le musée Carré d'Art se trouve à 800 mètres.\", 'rating__7': 8.3 ... 1293 parameters truncated ... 'Comment__191': 'L’Hôtel Le Pré Galoffre bénéficie d’un emplacement paisible dans un cadre rural à 10\\xa0minutes de route du centre de Nîmes. L’établissement possède  ... (818 characters truncated) ... es est à 15\\xa0minutes de route.\\n\\nDes conditions différentes et des suppléments peuvent s’appliquer pour les réservations de plus de 4\\xa0chambres.', 'rating__192': 8.7, 'longitude__192': 4.363037, 'id__192': 25, 'url__192': 'https://www.booking.com/hotel/fr/square-nimes.fr.html', 'Name__192': 'SQUARE HOTEL', 'latitude__192': 43.837032, 'Comment__192': \"Situé à Nîmes, à moins de 13 km du parc des expositions, le SQUARE HOTEL propose un salon commun, des chambres non-fumeurs, une connexion Wi-Fi gratu ... (511 characters truncated) ... nerez à 34 km de l'amphithéâtre d'Arles et à 43 km de la gare centrale d'Avignon. L'aéroport le plus proche, celui de Nîmes-Garons, est situé à 9 km.\", 'rating__193': 8.0, 'longitude__193': 4.3610841, 'id__193': 25, 'url__193': 'https://www.booking.com/hotel/fr/ha-tel-la-baume.fr.html', 'Name__193': 'Best Western Marquis de la Baume', 'latitude__193': 43.83959476, 'Comment__193': \"Situé dans le centre de la ville historique de Nîmes, le Best Western Marquis de la Baume occupe une maison de ville du XVIIe siècle, à seulement 3,7 ... (558 characters truncated) ... ption ouverte 24h/24 et un bar.\\n\\nL'hôtel n'est qu'à 10 minutes à pied du Colisée et de la tour Magne. Un parking public est disponible à proximité.\", 'rating__194': 7.4, 'longitude__194': 4.36281145, 'id__194': 25, 'url__194': 'https://www.booking.com/hotel/fr/central-nimes.fr.html', 'Name__194': 'Central Hotel', 'latitude__194': 43.83899502, 'Comment__194': \"Le Central Hotel occupe un bâtiment rénové du XVIIIe siècle dans le centre historique de Nîmes, juste derrière l'ancien site romain de la porte d'Aug ... (678 characters truncated) ... sservant l'aéroport de Nîmes et à moins de 10 minutes à pied de la gare TGV de Nîmes. La cathédrale Notre-Dame-et-Saint-Castor se situe à 280 mètres.\", 'rating__195': 7.1, 'longitude__195': 4.3645978, 'id__195': 25, 'url__195': 'https://www.booking.com/hotel/fr/appart-city-nimes.fr.html', 'Name__195': \"Appart'City Classic Nîmes\", 'latitude__195': 43.82158549, 'Comment__195': \"L’Appart'City Nîmes est situé à Nîmes, à 500 mètres du centre sportif et parc des expositions Le Parnasse, ainsi qu’à 20\\xa0minutes à pied des arènes ... (506 characters truncated) ...  fruits ainsi que de fromages et de yaourts.\\n\\nUn parking privé est disponible sur place. Vous séjournerez à 10\\xa0km de l’aéroport de Nîmes-Garons.\", 'rating__196': 8.3, 'longitude__196': 4.36533675, 'id__196': 25, 'url__196': 'https://www.booking.com/hotel/fr/majestic-nimes.fr.html', 'Name__196': 'Hotel Majestic', 'latitude__196': 43.83436329, 'Comment__196': \"Rénové en 2019, l'Hotel Majestic est situé à Nîmes, à seulement 320 mètres des arènes et du centre-ville de Nîmes. Vous serez aussi à 600 mètres du m ... (515 characters truncated) ... n.\\n\\nL'Hotel Majestic se trouve à seulement 300 mètres de la gare TGV de Nîmes. Enfin, vous serez à 52 km de l'aéroport de Montpellier-Méditerranée.\", 'rating__197': 8.6, 'longitude__197': 4.36143396, 'id__197': 25, 'url__197': 'https://www.booking.com/hotel/fr/appart-39-city-nimes.fr.html', 'Name__197': \"Appart'City Collection Nîmes Arènes\", 'latitude__197': 43.83387353, 'Comment__197': \"L'Appart'City Confort Nîmes Arenes est situé dans le centre historique de Nîmes, à 1 minute à pied des arènes, à 300 mètres de la gare et à proximité ... (538 characters truncated) ... galement proposés.\\n\\nEnfin, l'aéroport de Nîmes-Garons, le plus proche, est à Garons/Saint-Gilles, à 12 km de l'Appart'City Collection Nîmes Arènes.\", 'rating__198': 9.1, 'longitude__198': 4.35276791, 'id__198': 25, 'url__198': 'https://www.booking.com/hotel/fr/imperator-nimes.fr.html', 'Name__198': 'Maison Albar Hotels L’Imperator', 'latitude__198': 43.83866613, 'Comment__198': \"La Maison Albar Hotels L’Imperator est un hôtel de luxe situé dans la ville de Nîmes, en bordure du jardin de la Fontaine et à moins de 5 minutes à p ... (1438 characters truncated) ... \\n\\nUn parking privé est accessible sur place, sur réservation. La gare TGV de Nîmes se trouve à moins de 2 km de la Maison Albar Hotels L’Imperator.\"}\n"
     ]
    },
    {
     "name": "stdout",
     "output_type": "stream",
     "text": [
      "2024-03-11 12:35:06,235 INFO sqlalchemy.engine.Engine COMMIT\n"
     ]
    },
    {
     "name": "stderr",
     "output_type": "stream",
     "text": [
      "2024-03-11 12:35:06 [sqlalchemy.engine.Engine] INFO: COMMIT\n"
     ]
    },
    {
     "data": {
      "text/plain": [
       "199"
      ]
     },
     "execution_count": 61,
     "metadata": {},
     "output_type": "execute_result"
    }
   ],
   "source": [
    "# Insertion de notre dataframe sur les hôtels dans la table créée auparavant, en y ajoutant les données\n",
    "dataset_hotels.to_sql(\"data_hotelsv2\", engine, if_exists=\"append\", index=False)"
   ]
  },
  {
   "cell_type": "markdown",
   "metadata": {},
   "source": [
    "#### B. Test de requêtes sur les tables"
   ]
  },
  {
   "cell_type": "code",
   "execution_count": 111,
   "metadata": {},
   "outputs": [],
   "source": [
    "# création d'une connexion à la base de données en utilisant l'objet engine\n",
    "conn = engine.connect()"
   ]
  },
  {
   "cell_type": "code",
   "execution_count": 106,
   "metadata": {},
   "outputs": [
    {
     "name": "stdout",
     "output_type": "stream",
     "text": [
      "2024-03-11 13:16:56,103 INFO sqlalchemy.engine.Engine BEGIN (implicit)\n"
     ]
    },
    {
     "name": "stderr",
     "output_type": "stream",
     "text": [
      "2024-03-11 13:16:56 [sqlalchemy.engine.Engine] INFO: BEGIN (implicit)\n"
     ]
    },
    {
     "name": "stdout",
     "output_type": "stream",
     "text": [
      "2024-03-11 13:16:56,106 INFO sqlalchemy.engine.Engine SELECT *                 FROM data_citiesv2                 WHERE id>10 AND id<20\n"
     ]
    },
    {
     "name": "stderr",
     "output_type": "stream",
     "text": [
      "2024-03-11 13:16:56 [sqlalchemy.engine.Engine] INFO: SELECT *                 FROM data_citiesv2                 WHERE id>10 AND id<20\n"
     ]
    },
    {
     "name": "stdout",
     "output_type": "stream",
     "text": [
      "2024-03-11 13:16:56,108 INFO sqlalchemy.engine.Engine [cached since 1278s ago] {}\n"
     ]
    },
    {
     "name": "stderr",
     "output_type": "stream",
     "text": [
      "2024-03-11 13:16:56 [sqlalchemy.engine.Engine] INFO: [cached since 1278s ago] {}\n"
     ]
    },
    {
     "data": {
      "text/plain": [
       "[(11, 'Colmar', 48.0777517, 7.3579641, 14.600000381469727, 61.0, 2.5999999046325684, 0.5),\n",
       " (12, 'Eguisheim', 48.0447968, 7.3079618, 14.300000190734863, 61.0, 2.5, 0.30000001192092896),\n",
       " (13, 'Besancon', 47.2380222, 6.0243622, 11.899999618530273, 82.0, 3.4000000953674316, 1.2000000476837158),\n",
       " (14, 'Dijon', 47.3215806, 5.0414701, 11.300000190734863, 88.0, 3.5, 1.5),\n",
       " (15, 'Annecy', 45.8992348, 6.1288847, 15.0, 60.0, 1.899999976158142, 0.20000000298023224),\n",
       " (16, 'Grenoble', 45.1875602, 5.7357819, 17.299999237060547, 57.0, 2.0999999046325684, 0.4000000059604645),\n",
       " (17, 'Lyon', 45.7578137, 4.8320114, 12.699999809265137, 65.0, 2.299999952316284, 0.10000000149011612),\n",
       " (18, 'Gorges du Verdon', 43.7496562, 6.3285616, 11.899999618530273, 53.0, 3.0, 0.0),\n",
       " (19, 'Bormes les Mimosas', 43.1506968, 6.3419285, 14.399999618530273, 63.0, 4.099999904632568, 0.0)]"
      ]
     },
     "execution_count": 106,
     "metadata": {},
     "output_type": "execute_result"
    }
   ],
   "source": [
    "# 1ère requête sur la table Cities\n",
    "statement = text(\"SELECT * \\\n",
    "                FROM data_citiesv2 \\\n",
    "                WHERE id>10 AND id<20\")\n",
    "result = conn.execute(statement)\n",
    "result.fetchall()"
   ]
  },
  {
   "cell_type": "code",
   "execution_count": 112,
   "metadata": {},
   "outputs": [
    {
     "name": "stdout",
     "output_type": "stream",
     "text": [
      "2024-03-11 13:19:42,426 INFO sqlalchemy.engine.Engine BEGIN (implicit)\n"
     ]
    },
    {
     "name": "stderr",
     "output_type": "stream",
     "text": [
      "2024-03-11 13:19:42 [sqlalchemy.engine.Engine] INFO: BEGIN (implicit)\n"
     ]
    },
    {
     "name": "stdout",
     "output_type": "stream",
     "text": [
      "2024-03-11 13:19:42,429 INFO sqlalchemy.engine.Engine SELECT *                 FROM data_hotelsv2                 WHERE id=25                 ORDER BY Rating DESC                 LIMIT 10\n"
     ]
    },
    {
     "name": "stderr",
     "output_type": "stream",
     "text": [
      "2024-03-11 13:19:42 [sqlalchemy.engine.Engine] INFO: SELECT *                 FROM data_hotelsv2                 WHERE id=25                 ORDER BY Rating DESC                 LIMIT 10\n"
     ]
    },
    {
     "name": "stdout",
     "output_type": "stream",
     "text": [
      "2024-03-11 13:19:42,434 INFO sqlalchemy.engine.Engine [cached since 10.57s ago] {}\n"
     ]
    },
    {
     "name": "stderr",
     "output_type": "stream",
     "text": [
      "2024-03-11 13:19:42 [sqlalchemy.engine.Engine] INFO: [cached since 10.57s ago] {}\n"
     ]
    },
    {
     "data": {
      "text/plain": [
       "[(25, 'Margaret - Hôtel Chouleur', 9.3, 'https://www.booking.com/hotel/fr/margaret-chouleur.fr.html', \"Idéalement situé à Nîmes, le Margaret - Hôtel Chouleur propose des chambres climatisées, une piscine extérieure ouverte en saison, une connexion Wi-F ... (716 characters truncated) ... éroport le plus proche, celui de Nîmes-Garons, est situé à 9 km. Un service de navette aéroport peut être assuré moyennant des frais supplémentaires.\", 43.837117, 4.357898),\n",
       " (25, 'Maison Albar Hotels L’Imperator', 9.1, 'https://www.booking.com/hotel/fr/imperator-nimes.fr.html', \"La Maison Albar Hotels L’Imperator est un hôtel de luxe situé dans la ville de Nîmes, en bordure du jardin de la Fontaine et à moins de 5 minutes à p ... (1438 characters truncated) ... \\n\\nUn parking privé est accessible sur place, sur réservation. La gare TGV de Nîmes se trouve à moins de 2 km de la Maison Albar Hotels L’Imperator.\", 43.83866613, 4.35276791),\n",
       " (25, 'Odalys City Nîmes Arènes', 8.8, 'https://www.booking.com/hotel/fr/odalys-city-nimes-arenes.fr.html', \"L'Odalys City Nîmes Arènes propose un hammam et des hébergements climatisés à Nîmes, à 14 km du parc des expositions, à 33 km de l'amphithéâtre d'Arl ... (622 characters truncated) ... ous séjournerez à 47 km du Zénith Sud de Montpellier et de la gare TGV d'Avignon. L'aéroport le plus proche, celui de Nîmes-Garons, est situé à 8 km.\", 43.83406187, 4.35899065),\n",
       " (25, 'SQUARE HOTEL', 8.7, 'https://www.booking.com/hotel/fr/square-nimes.fr.html', \"Situé à Nîmes, à moins de 13 km du parc des expositions, le SQUARE HOTEL propose un salon commun, des chambres non-fumeurs, une connexion Wi-Fi gratu ... (511 characters truncated) ... nerez à 34 km de l'amphithéâtre d'Arles et à 43 km de la gare centrale d'Avignon. L'aéroport le plus proche, celui de Nîmes-Garons, est situé à 9 km.\", 43.837032, 4.363037),\n",
       " (25, \"Appart'City Collection Nîmes Arènes\", 8.6, 'https://www.booking.com/hotel/fr/appart-39-city-nimes.fr.html', \"L'Appart'City Confort Nîmes Arenes est situé dans le centre historique de Nîmes, à 1 minute à pied des arènes, à 300 mètres de la gare et à proximité ... (538 characters truncated) ... galement proposés.\\n\\nEnfin, l'aéroport de Nîmes-Garons, le plus proche, est à Garons/Saint-Gilles, à 12 km de l'Appart'City Collection Nîmes Arènes.\", 43.83387353, 4.36143396),\n",
       " (25, 'Les Madones', 8.5, 'https://www.booking.com/hotel/fr/les-madones-nimes1.fr.html', \"Situé à Nîmes, à moins de 29 km du parc des expositions et à 37 km de l'amphithéâtre d'Arles, l'établissement Les Madones propose des hébergements av ... (259 characters truncated) ... une télévision à écran plat, d'une cuisine entièrement équipée et d'une terrasse.\\n\\nL'aéroport de Nîmes-Garons, le plus proche, est implanté à 5 km.\", 43.7646229, 4.360898),\n",
       " (25, 'Studio Nîmes Centre', 8.3, 'https://www.booking.com/hotel/fr/studio-boucarie.fr.html', \"Le Studio Nîmes Centre propose des hébergements à Nîmes, à 2,5 km du parc des expositions et à 200 mètres de la bibliothèque du Carré d'art. L'hôtel  ... (480 characters truncated) ...  400 mètres du Studio Nîmes Centre tandis que le palais de justice de Nîmes est à 1,1 km. L'aéroport de Montpellier-Méditerranée se situe à 43\\xa0km.\", 43.8397628, 4.35694199),\n",
       " (25, 'Royal Hôtel', 8.3, 'https://www.booking.com/hotel/fr/royal.fr.html', \"Situé au cœur de Nîmes, le Royal Hôtel dispose d'un restaurant sur place, La Bodéguita, qui s'ouvre sur la place Assas. L'hôtel se trouve à moins de  ... (886 characters truncated) ... sés sur la place.\\n\\nLe parc des expositions de Nîmes se trouve à 2,7 km du Royal Hôtel. L'aéroport de Montpellier-Méditerranée est implanté à 53 km.\", 43.8388151, 4.35481846),\n",
       " (25, 'Hôtel & Spa Vatel', 8.3, 'https://www.booking.com/hotel/fr/vatel.fr.html', 'L’Hôtel\\xa0& Spa Vatel vous accueille à 10\\xa0minutes de route du centre-ville de Nîmes et à 15\\xa0km de l’aéroport de Nîmes Alès Camargue Cévennes.  ... (449 characters truncated) ... e d’hôtellerie et de gestion de Vatel.\\n\\nDoté d’un parking privé gratuit, l’établissement se trouve à 5\\xa0minutes en voiture de l’autoroute E15/A9.', 43.82057675, 4.31912698),\n",
       " (25, 'Hotel Majestic', 8.3, 'https://www.booking.com/hotel/fr/majestic-nimes.fr.html', \"Rénové en 2019, l'Hotel Majestic est situé à Nîmes, à seulement 320 mètres des arènes et du centre-ville de Nîmes. Vous serez aussi à 600 mètres du m ... (515 characters truncated) ... n.\\n\\nL'Hotel Majestic se trouve à seulement 300 mètres de la gare TGV de Nîmes. Enfin, vous serez à 52 km de l'aéroport de Montpellier-Méditerranée.\", 43.83436329, 4.36533675)]"
      ]
     },
     "execution_count": 112,
     "metadata": {},
     "output_type": "execute_result"
    }
   ],
   "source": [
    "# 2ème requête sur la table hôtels\n",
    "statement = text(\"SELECT * \\\n",
    "                FROM data_hotelsv2 \\\n",
    "                WHERE id=25 \\\n",
    "                ORDER BY Rating DESC \\\n",
    "                LIMIT 10\")\n",
    "result = conn.execute(statement)\n",
    "result.fetchall()"
   ]
  },
  {
   "cell_type": "markdown",
   "metadata": {},
   "source": [
    "#### PART 5. Pour aller plus loin"
   ]
  },
  {
   "cell_type": "markdown",
   "metadata": {},
   "source": [
    "Avec plus de temps, nous aurions souhaiter notamment :\n",
    "- mieux documenter les fonctions (descriptif des variables, objectif de la fonction)\n",
    "- nettoyer les données scrapées du site booking.com, et les présenter sous un format plus adaptées\n",
    "- filtrer le nombre d'hôtels renvoyés afin d'en limiter le nombre, à partir d'un ou plusieurs critères (par ex top 5 rating ou prix)\n",
    "- approfondir le travail concernant la création de base de données avec RDS\n",
    "- créer un dashboard avec streamlit par exemple afin de présenter l'ensemble du travail"
   ]
  }
 ],
 "metadata": {
  "kernelspec": {
   "display_name": "base",
   "language": "python",
   "name": "python3"
  },
  "language_info": {
   "codemirror_mode": {
    "name": "ipython",
    "version": 3
   },
   "file_extension": ".py",
   "mimetype": "text/x-python",
   "name": "python",
   "nbconvert_exporter": "python",
   "pygments_lexer": "ipython3",
   "version": "3.11.8"
  },
  "orig_nbformat": 4
 },
 "nbformat": 4,
 "nbformat_minor": 2
}
