{
 "cells": [
  {
   "cell_type": "markdown",
   "metadata": {},
   "source": [
    "#### PART 1. Obtenir les coordoonées geographiques des viles"
   ]
  },
  {
   "cell_type": "code",
   "execution_count": 1,
   "metadata": {},
   "outputs": [],
   "source": [
    "# Importation des librairies\n",
    "import requests\n",
    "import pandas as pd\n",
    "import json\n",
    "from datetime import datetime, timedelta\n",
    "\n",
    "import plotly.express as px\n",
    "\n",
    "import scrapy\n",
    "from scrapy.crawler import CrawlerProcess\n",
    "from scrapy.spiders import CrawlSpider, Rule\n",
    "from scrapy.linkextractors import LinkExtractor\n",
    "import os\n",
    "import logging\n",
    "import urllib"
   ]
  },
  {
   "cell_type": "code",
   "execution_count": 2,
   "metadata": {},
   "outputs": [],
   "source": [
    "# liste donnée des villes\n",
    "cities = [\"Mont Saint Michel\",\n",
    "\"St Malo\",\n",
    "\"Bayeux\",\n",
    "\"Le Havre\",\n",
    "\"Rouen\",\n",
    "\"Paris\",\n",
    "\"Amiens\",\n",
    "\"Lille\",\n",
    "\"Strasbourg\",\n",
    "\"Chateau du Haut Koenigsbourg\",\n",
    "\"Colmar\",\n",
    "\"Eguisheim\",\n",
    "\"Besancon\",\n",
    "\"Dijon\",\n",
    "\"Annecy\",\n",
    "\"Grenoble\",\n",
    "\"Lyon\",\n",
    "\"Gorges du Verdon\",\n",
    "\"Bormes les Mimosas\",\n",
    "\"Cassis\",\n",
    "\"Marseille\",\n",
    "\"Aix en Provence\",\n",
    "\"Avignon\",\n",
    "\"Uzes\",\n",
    "\"Nimes\",\n",
    "\"Aigues Mortes\",\n",
    "\"Saintes Maries de la mer\",\n",
    "\"Collioure\",\n",
    "\"Carcassonne\",\n",
    "\"Ariege\",\n",
    "\"Toulouse\",\n",
    "\"Montauban\",\n",
    "\"Biarritz\",\n",
    "\"Bayonne\",\n",
    "\"La Rochelle\"]"
   ]
  },
  {
   "cell_type": "code",
   "execution_count": 3,
   "metadata": {},
   "outputs": [],
   "source": [
    "# création d'une fonction afin de recuper au format json les informations sur une ville, à partir de son nom passée en paramètre\n",
    "# utlisation de l'API du site nominatim avec des critères en paramètre (format de sortie + nom ville)\n",
    "# utilisation d'un try/except car certaines noms dans la liste renvoi une erreur. Dans ce cas nous passons l'erreur et affectons une valeur vide aux données recherchés\n",
    "def city_gps(city_name):\n",
    "    url_nominatim = \"https://nominatim.openstreetmap.org/search\"\n",
    "    criteria_nominatim = {\"format\":\"json\", \"city\":city_name, \"country\":\"France\"}\n",
    "    r = requests.get(url_nominatim, params=criteria_nominatim)\n",
    "    r.json()\n",
    "    try :\n",
    "        city_lon = r.json()[0][\"lon\"]\n",
    "        city_lat = r.json()[0][\"lat\"]\n",
    "    except :\n",
    "        city_lon = \"\"\n",
    "        city_lat = \"\"\n",
    "    return city_lon, city_lat"
   ]
  },
  {
   "cell_type": "code",
   "execution_count": 4,
   "metadata": {},
   "outputs": [],
   "source": [
    "#création d'un dataframe à partir du nom\n",
    "dataset_cities = pd.DataFrame({\"City\":cities})\n",
    "\n",
    "# ajout de deux colonnes avec les coordonnées gps (latitude & longitude)\n",
    "dataset_cities[\"Latitude\"] = dataset_cities[\"City\"].apply(lambda x: city_gps(x)[0])\n",
    "dataset_cities[\"Longitude\"] = dataset_cities[\"City\"].apply(lambda x: city_gps(x)[1])"
   ]
  },
  {
   "cell_type": "code",
   "execution_count": 5,
   "metadata": {},
   "outputs": [
    {
     "data": {
      "text/html": [
       "<div>\n",
       "<style scoped>\n",
       "    .dataframe tbody tr th:only-of-type {\n",
       "        vertical-align: middle;\n",
       "    }\n",
       "\n",
       "    .dataframe tbody tr th {\n",
       "        vertical-align: top;\n",
       "    }\n",
       "\n",
       "    .dataframe thead th {\n",
       "        text-align: right;\n",
       "    }\n",
       "</style>\n",
       "<table border=\"1\" class=\"dataframe\">\n",
       "  <thead>\n",
       "    <tr style=\"text-align: right;\">\n",
       "      <th></th>\n",
       "      <th>City</th>\n",
       "      <th>Latitude</th>\n",
       "      <th>Longitude</th>\n",
       "    </tr>\n",
       "  </thead>\n",
       "  <tbody>\n",
       "    <tr>\n",
       "      <th>0</th>\n",
       "      <td>Mont Saint Michel</td>\n",
       "      <td>-1.511459954959514</td>\n",
       "      <td>48.6359541</td>\n",
       "    </tr>\n",
       "    <tr>\n",
       "      <th>1</th>\n",
       "      <td>St Malo</td>\n",
       "      <td>-2.0260409</td>\n",
       "      <td>48.649518</td>\n",
       "    </tr>\n",
       "    <tr>\n",
       "      <th>2</th>\n",
       "      <td>Bayeux</td>\n",
       "      <td>-0.7024738</td>\n",
       "      <td>49.2764624</td>\n",
       "    </tr>\n",
       "    <tr>\n",
       "      <th>3</th>\n",
       "      <td>Le Havre</td>\n",
       "      <td>0.1079732</td>\n",
       "      <td>49.4938975</td>\n",
       "    </tr>\n",
       "    <tr>\n",
       "      <th>4</th>\n",
       "      <td>Rouen</td>\n",
       "      <td>1.0939658</td>\n",
       "      <td>49.4404591</td>\n",
       "    </tr>\n",
       "    <tr>\n",
       "      <th>5</th>\n",
       "      <td>Paris</td>\n",
       "      <td>2.3483915</td>\n",
       "      <td>48.8534951</td>\n",
       "    </tr>\n",
       "    <tr>\n",
       "      <th>6</th>\n",
       "      <td>Amiens</td>\n",
       "      <td>2.2956951</td>\n",
       "      <td>49.8941708</td>\n",
       "    </tr>\n",
       "    <tr>\n",
       "      <th>7</th>\n",
       "      <td>Lille</td>\n",
       "      <td>3.0635282</td>\n",
       "      <td>50.6365654</td>\n",
       "    </tr>\n",
       "    <tr>\n",
       "      <th>8</th>\n",
       "      <td>Strasbourg</td>\n",
       "      <td>7.7507127</td>\n",
       "      <td>48.584614</td>\n",
       "    </tr>\n",
       "    <tr>\n",
       "      <th>9</th>\n",
       "      <td>Chateau du Haut Koenigsbourg</td>\n",
       "      <td>7.3454923</td>\n",
       "      <td>48.2495226</td>\n",
       "    </tr>\n",
       "    <tr>\n",
       "      <th>10</th>\n",
       "      <td>Colmar</td>\n",
       "      <td>7.3579641</td>\n",
       "      <td>48.0777517</td>\n",
       "    </tr>\n",
       "    <tr>\n",
       "      <th>11</th>\n",
       "      <td>Eguisheim</td>\n",
       "      <td>7.3079618</td>\n",
       "      <td>48.0447968</td>\n",
       "    </tr>\n",
       "    <tr>\n",
       "      <th>12</th>\n",
       "      <td>Besancon</td>\n",
       "      <td>6.0243622</td>\n",
       "      <td>47.2380222</td>\n",
       "    </tr>\n",
       "    <tr>\n",
       "      <th>13</th>\n",
       "      <td>Dijon</td>\n",
       "      <td>5.0414701</td>\n",
       "      <td>47.3215806</td>\n",
       "    </tr>\n",
       "    <tr>\n",
       "      <th>14</th>\n",
       "      <td>Annecy</td>\n",
       "      <td>6.1288847</td>\n",
       "      <td>45.8992348</td>\n",
       "    </tr>\n",
       "    <tr>\n",
       "      <th>15</th>\n",
       "      <td>Grenoble</td>\n",
       "      <td>5.7357819</td>\n",
       "      <td>45.1875602</td>\n",
       "    </tr>\n",
       "    <tr>\n",
       "      <th>16</th>\n",
       "      <td>Lyon</td>\n",
       "      <td>4.8320114</td>\n",
       "      <td>45.7578137</td>\n",
       "    </tr>\n",
       "    <tr>\n",
       "      <th>17</th>\n",
       "      <td>Gorges du Verdon</td>\n",
       "      <td>6.3285616</td>\n",
       "      <td>43.7496562</td>\n",
       "    </tr>\n",
       "    <tr>\n",
       "      <th>18</th>\n",
       "      <td>Bormes les Mimosas</td>\n",
       "      <td>6.3419285</td>\n",
       "      <td>43.1506968</td>\n",
       "    </tr>\n",
       "    <tr>\n",
       "      <th>19</th>\n",
       "      <td>Cassis</td>\n",
       "      <td>5.5396318</td>\n",
       "      <td>43.2140359</td>\n",
       "    </tr>\n",
       "    <tr>\n",
       "      <th>20</th>\n",
       "      <td>Marseille</td>\n",
       "      <td>5.3699525</td>\n",
       "      <td>43.2961743</td>\n",
       "    </tr>\n",
       "    <tr>\n",
       "      <th>21</th>\n",
       "      <td>Aix en Provence</td>\n",
       "      <td>5.4474738</td>\n",
       "      <td>43.5298424</td>\n",
       "    </tr>\n",
       "    <tr>\n",
       "      <th>22</th>\n",
       "      <td>Avignon</td>\n",
       "      <td>4.8059012</td>\n",
       "      <td>43.9492493</td>\n",
       "    </tr>\n",
       "    <tr>\n",
       "      <th>23</th>\n",
       "      <td>Uzes</td>\n",
       "      <td>4.4196718</td>\n",
       "      <td>44.0121279</td>\n",
       "    </tr>\n",
       "    <tr>\n",
       "      <th>24</th>\n",
       "      <td>Nimes</td>\n",
       "      <td>4.3600687</td>\n",
       "      <td>43.8374249</td>\n",
       "    </tr>\n",
       "    <tr>\n",
       "      <th>25</th>\n",
       "      <td>Aigues Mortes</td>\n",
       "      <td>4.19154</td>\n",
       "      <td>43.5661521</td>\n",
       "    </tr>\n",
       "    <tr>\n",
       "      <th>26</th>\n",
       "      <td>Saintes Maries de la mer</td>\n",
       "      <td>4.4277202</td>\n",
       "      <td>43.4515922</td>\n",
       "    </tr>\n",
       "    <tr>\n",
       "      <th>27</th>\n",
       "      <td>Collioure</td>\n",
       "      <td>3.0831554</td>\n",
       "      <td>42.52505</td>\n",
       "    </tr>\n",
       "    <tr>\n",
       "      <th>28</th>\n",
       "      <td>Carcassonne</td>\n",
       "      <td>2.3491069</td>\n",
       "      <td>43.2130358</td>\n",
       "    </tr>\n",
       "    <tr>\n",
       "      <th>29</th>\n",
       "      <td>Ariege</td>\n",
       "      <td>1.6124975</td>\n",
       "      <td>42.9927428</td>\n",
       "    </tr>\n",
       "    <tr>\n",
       "      <th>30</th>\n",
       "      <td>Toulouse</td>\n",
       "      <td>1.4442469</td>\n",
       "      <td>43.6044622</td>\n",
       "    </tr>\n",
       "    <tr>\n",
       "      <th>31</th>\n",
       "      <td>Montauban</td>\n",
       "      <td>1.3549991</td>\n",
       "      <td>44.0175835</td>\n",
       "    </tr>\n",
       "    <tr>\n",
       "      <th>32</th>\n",
       "      <td>Biarritz</td>\n",
       "      <td>-1.5592776</td>\n",
       "      <td>43.4832523</td>\n",
       "    </tr>\n",
       "    <tr>\n",
       "      <th>33</th>\n",
       "      <td>Bayonne</td>\n",
       "      <td>-1.4736657</td>\n",
       "      <td>43.4945144</td>\n",
       "    </tr>\n",
       "    <tr>\n",
       "      <th>34</th>\n",
       "      <td>La Rochelle</td>\n",
       "      <td>-1.1520434</td>\n",
       "      <td>46.1591126</td>\n",
       "    </tr>\n",
       "  </tbody>\n",
       "</table>\n",
       "</div>"
      ],
      "text/plain": [
       "                            City            Latitude   Longitude\n",
       "0              Mont Saint Michel  -1.511459954959514  48.6359541\n",
       "1                        St Malo          -2.0260409   48.649518\n",
       "2                         Bayeux          -0.7024738  49.2764624\n",
       "3                       Le Havre           0.1079732  49.4938975\n",
       "4                          Rouen           1.0939658  49.4404591\n",
       "5                          Paris           2.3483915  48.8534951\n",
       "6                         Amiens           2.2956951  49.8941708\n",
       "7                          Lille           3.0635282  50.6365654\n",
       "8                     Strasbourg           7.7507127   48.584614\n",
       "9   Chateau du Haut Koenigsbourg           7.3454923  48.2495226\n",
       "10                        Colmar           7.3579641  48.0777517\n",
       "11                     Eguisheim           7.3079618  48.0447968\n",
       "12                      Besancon           6.0243622  47.2380222\n",
       "13                         Dijon           5.0414701  47.3215806\n",
       "14                        Annecy           6.1288847  45.8992348\n",
       "15                      Grenoble           5.7357819  45.1875602\n",
       "16                          Lyon           4.8320114  45.7578137\n",
       "17              Gorges du Verdon           6.3285616  43.7496562\n",
       "18            Bormes les Mimosas           6.3419285  43.1506968\n",
       "19                        Cassis           5.5396318  43.2140359\n",
       "20                     Marseille           5.3699525  43.2961743\n",
       "21               Aix en Provence           5.4474738  43.5298424\n",
       "22                       Avignon           4.8059012  43.9492493\n",
       "23                          Uzes           4.4196718  44.0121279\n",
       "24                         Nimes           4.3600687  43.8374249\n",
       "25                 Aigues Mortes             4.19154  43.5661521\n",
       "26      Saintes Maries de la mer           4.4277202  43.4515922\n",
       "27                     Collioure           3.0831554    42.52505\n",
       "28                   Carcassonne           2.3491069  43.2130358\n",
       "29                        Ariege           1.6124975  42.9927428\n",
       "30                      Toulouse           1.4442469  43.6044622\n",
       "31                     Montauban           1.3549991  44.0175835\n",
       "32                      Biarritz          -1.5592776  43.4832523\n",
       "33                       Bayonne          -1.4736657  43.4945144\n",
       "34                   La Rochelle          -1.1520434  46.1591126"
      ]
     },
     "execution_count": 5,
     "metadata": {},
     "output_type": "execute_result"
    }
   ],
   "source": [
    "# verification du résultat du Dataframe\n",
    "dataset_cities"
   ]
  },
  {
   "cell_type": "code",
   "execution_count": 6,
   "metadata": {},
   "outputs": [],
   "source": [
    "#ajout d'un id pour chaque ville, insertion de la colonne en 1ère position avec la méthode \"insert\" car sinon l'ajout se fait en fin de dataframe\n",
    "dataset_cities.insert(0, \"id\", [i for i in range(1,36)])"
   ]
  },
  {
   "cell_type": "code",
   "execution_count": 7,
   "metadata": {},
   "outputs": [
    {
     "data": {
      "text/html": [
       "<div>\n",
       "<style scoped>\n",
       "    .dataframe tbody tr th:only-of-type {\n",
       "        vertical-align: middle;\n",
       "    }\n",
       "\n",
       "    .dataframe tbody tr th {\n",
       "        vertical-align: top;\n",
       "    }\n",
       "\n",
       "    .dataframe thead th {\n",
       "        text-align: right;\n",
       "    }\n",
       "</style>\n",
       "<table border=\"1\" class=\"dataframe\">\n",
       "  <thead>\n",
       "    <tr style=\"text-align: right;\">\n",
       "      <th></th>\n",
       "      <th>id</th>\n",
       "      <th>City</th>\n",
       "      <th>Latitude</th>\n",
       "      <th>Longitude</th>\n",
       "    </tr>\n",
       "  </thead>\n",
       "  <tbody>\n",
       "    <tr>\n",
       "      <th>0</th>\n",
       "      <td>1</td>\n",
       "      <td>Mont Saint Michel</td>\n",
       "      <td>-1.511459954959514</td>\n",
       "      <td>48.6359541</td>\n",
       "    </tr>\n",
       "    <tr>\n",
       "      <th>1</th>\n",
       "      <td>2</td>\n",
       "      <td>St Malo</td>\n",
       "      <td>-2.0260409</td>\n",
       "      <td>48.649518</td>\n",
       "    </tr>\n",
       "    <tr>\n",
       "      <th>2</th>\n",
       "      <td>3</td>\n",
       "      <td>Bayeux</td>\n",
       "      <td>-0.7024738</td>\n",
       "      <td>49.2764624</td>\n",
       "    </tr>\n",
       "    <tr>\n",
       "      <th>3</th>\n",
       "      <td>4</td>\n",
       "      <td>Le Havre</td>\n",
       "      <td>0.1079732</td>\n",
       "      <td>49.4938975</td>\n",
       "    </tr>\n",
       "    <tr>\n",
       "      <th>4</th>\n",
       "      <td>5</td>\n",
       "      <td>Rouen</td>\n",
       "      <td>1.0939658</td>\n",
       "      <td>49.4404591</td>\n",
       "    </tr>\n",
       "    <tr>\n",
       "      <th>5</th>\n",
       "      <td>6</td>\n",
       "      <td>Paris</td>\n",
       "      <td>2.3483915</td>\n",
       "      <td>48.8534951</td>\n",
       "    </tr>\n",
       "    <tr>\n",
       "      <th>6</th>\n",
       "      <td>7</td>\n",
       "      <td>Amiens</td>\n",
       "      <td>2.2956951</td>\n",
       "      <td>49.8941708</td>\n",
       "    </tr>\n",
       "    <tr>\n",
       "      <th>7</th>\n",
       "      <td>8</td>\n",
       "      <td>Lille</td>\n",
       "      <td>3.0635282</td>\n",
       "      <td>50.6365654</td>\n",
       "    </tr>\n",
       "    <tr>\n",
       "      <th>8</th>\n",
       "      <td>9</td>\n",
       "      <td>Strasbourg</td>\n",
       "      <td>7.7507127</td>\n",
       "      <td>48.584614</td>\n",
       "    </tr>\n",
       "    <tr>\n",
       "      <th>9</th>\n",
       "      <td>10</td>\n",
       "      <td>Chateau du Haut Koenigsbourg</td>\n",
       "      <td>7.3454923</td>\n",
       "      <td>48.2495226</td>\n",
       "    </tr>\n",
       "    <tr>\n",
       "      <th>10</th>\n",
       "      <td>11</td>\n",
       "      <td>Colmar</td>\n",
       "      <td>7.3579641</td>\n",
       "      <td>48.0777517</td>\n",
       "    </tr>\n",
       "    <tr>\n",
       "      <th>11</th>\n",
       "      <td>12</td>\n",
       "      <td>Eguisheim</td>\n",
       "      <td>7.3079618</td>\n",
       "      <td>48.0447968</td>\n",
       "    </tr>\n",
       "    <tr>\n",
       "      <th>12</th>\n",
       "      <td>13</td>\n",
       "      <td>Besancon</td>\n",
       "      <td>6.0243622</td>\n",
       "      <td>47.2380222</td>\n",
       "    </tr>\n",
       "    <tr>\n",
       "      <th>13</th>\n",
       "      <td>14</td>\n",
       "      <td>Dijon</td>\n",
       "      <td>5.0414701</td>\n",
       "      <td>47.3215806</td>\n",
       "    </tr>\n",
       "    <tr>\n",
       "      <th>14</th>\n",
       "      <td>15</td>\n",
       "      <td>Annecy</td>\n",
       "      <td>6.1288847</td>\n",
       "      <td>45.8992348</td>\n",
       "    </tr>\n",
       "    <tr>\n",
       "      <th>15</th>\n",
       "      <td>16</td>\n",
       "      <td>Grenoble</td>\n",
       "      <td>5.7357819</td>\n",
       "      <td>45.1875602</td>\n",
       "    </tr>\n",
       "    <tr>\n",
       "      <th>16</th>\n",
       "      <td>17</td>\n",
       "      <td>Lyon</td>\n",
       "      <td>4.8320114</td>\n",
       "      <td>45.7578137</td>\n",
       "    </tr>\n",
       "    <tr>\n",
       "      <th>17</th>\n",
       "      <td>18</td>\n",
       "      <td>Gorges du Verdon</td>\n",
       "      <td>6.3285616</td>\n",
       "      <td>43.7496562</td>\n",
       "    </tr>\n",
       "    <tr>\n",
       "      <th>18</th>\n",
       "      <td>19</td>\n",
       "      <td>Bormes les Mimosas</td>\n",
       "      <td>6.3419285</td>\n",
       "      <td>43.1506968</td>\n",
       "    </tr>\n",
       "    <tr>\n",
       "      <th>19</th>\n",
       "      <td>20</td>\n",
       "      <td>Cassis</td>\n",
       "      <td>5.5396318</td>\n",
       "      <td>43.2140359</td>\n",
       "    </tr>\n",
       "    <tr>\n",
       "      <th>20</th>\n",
       "      <td>21</td>\n",
       "      <td>Marseille</td>\n",
       "      <td>5.3699525</td>\n",
       "      <td>43.2961743</td>\n",
       "    </tr>\n",
       "    <tr>\n",
       "      <th>21</th>\n",
       "      <td>22</td>\n",
       "      <td>Aix en Provence</td>\n",
       "      <td>5.4474738</td>\n",
       "      <td>43.5298424</td>\n",
       "    </tr>\n",
       "    <tr>\n",
       "      <th>22</th>\n",
       "      <td>23</td>\n",
       "      <td>Avignon</td>\n",
       "      <td>4.8059012</td>\n",
       "      <td>43.9492493</td>\n",
       "    </tr>\n",
       "    <tr>\n",
       "      <th>23</th>\n",
       "      <td>24</td>\n",
       "      <td>Uzes</td>\n",
       "      <td>4.4196718</td>\n",
       "      <td>44.0121279</td>\n",
       "    </tr>\n",
       "    <tr>\n",
       "      <th>24</th>\n",
       "      <td>25</td>\n",
       "      <td>Nimes</td>\n",
       "      <td>4.3600687</td>\n",
       "      <td>43.8374249</td>\n",
       "    </tr>\n",
       "    <tr>\n",
       "      <th>25</th>\n",
       "      <td>26</td>\n",
       "      <td>Aigues Mortes</td>\n",
       "      <td>4.19154</td>\n",
       "      <td>43.5661521</td>\n",
       "    </tr>\n",
       "    <tr>\n",
       "      <th>26</th>\n",
       "      <td>27</td>\n",
       "      <td>Saintes Maries de la mer</td>\n",
       "      <td>4.4277202</td>\n",
       "      <td>43.4515922</td>\n",
       "    </tr>\n",
       "    <tr>\n",
       "      <th>27</th>\n",
       "      <td>28</td>\n",
       "      <td>Collioure</td>\n",
       "      <td>3.0831554</td>\n",
       "      <td>42.52505</td>\n",
       "    </tr>\n",
       "    <tr>\n",
       "      <th>28</th>\n",
       "      <td>29</td>\n",
       "      <td>Carcassonne</td>\n",
       "      <td>2.3491069</td>\n",
       "      <td>43.2130358</td>\n",
       "    </tr>\n",
       "    <tr>\n",
       "      <th>29</th>\n",
       "      <td>30</td>\n",
       "      <td>Ariege</td>\n",
       "      <td>1.6124975</td>\n",
       "      <td>42.9927428</td>\n",
       "    </tr>\n",
       "    <tr>\n",
       "      <th>30</th>\n",
       "      <td>31</td>\n",
       "      <td>Toulouse</td>\n",
       "      <td>1.4442469</td>\n",
       "      <td>43.6044622</td>\n",
       "    </tr>\n",
       "    <tr>\n",
       "      <th>31</th>\n",
       "      <td>32</td>\n",
       "      <td>Montauban</td>\n",
       "      <td>1.3549991</td>\n",
       "      <td>44.0175835</td>\n",
       "    </tr>\n",
       "    <tr>\n",
       "      <th>32</th>\n",
       "      <td>33</td>\n",
       "      <td>Biarritz</td>\n",
       "      <td>-1.5592776</td>\n",
       "      <td>43.4832523</td>\n",
       "    </tr>\n",
       "    <tr>\n",
       "      <th>33</th>\n",
       "      <td>34</td>\n",
       "      <td>Bayonne</td>\n",
       "      <td>-1.4736657</td>\n",
       "      <td>43.4945144</td>\n",
       "    </tr>\n",
       "    <tr>\n",
       "      <th>34</th>\n",
       "      <td>35</td>\n",
       "      <td>La Rochelle</td>\n",
       "      <td>-1.1520434</td>\n",
       "      <td>46.1591126</td>\n",
       "    </tr>\n",
       "  </tbody>\n",
       "</table>\n",
       "</div>"
      ],
      "text/plain": [
       "    id                          City            Latitude   Longitude\n",
       "0    1             Mont Saint Michel  -1.511459954959514  48.6359541\n",
       "1    2                       St Malo          -2.0260409   48.649518\n",
       "2    3                        Bayeux          -0.7024738  49.2764624\n",
       "3    4                      Le Havre           0.1079732  49.4938975\n",
       "4    5                         Rouen           1.0939658  49.4404591\n",
       "5    6                         Paris           2.3483915  48.8534951\n",
       "6    7                        Amiens           2.2956951  49.8941708\n",
       "7    8                         Lille           3.0635282  50.6365654\n",
       "8    9                    Strasbourg           7.7507127   48.584614\n",
       "9   10  Chateau du Haut Koenigsbourg           7.3454923  48.2495226\n",
       "10  11                        Colmar           7.3579641  48.0777517\n",
       "11  12                     Eguisheim           7.3079618  48.0447968\n",
       "12  13                      Besancon           6.0243622  47.2380222\n",
       "13  14                         Dijon           5.0414701  47.3215806\n",
       "14  15                        Annecy           6.1288847  45.8992348\n",
       "15  16                      Grenoble           5.7357819  45.1875602\n",
       "16  17                          Lyon           4.8320114  45.7578137\n",
       "17  18              Gorges du Verdon           6.3285616  43.7496562\n",
       "18  19            Bormes les Mimosas           6.3419285  43.1506968\n",
       "19  20                        Cassis           5.5396318  43.2140359\n",
       "20  21                     Marseille           5.3699525  43.2961743\n",
       "21  22               Aix en Provence           5.4474738  43.5298424\n",
       "22  23                       Avignon           4.8059012  43.9492493\n",
       "23  24                          Uzes           4.4196718  44.0121279\n",
       "24  25                         Nimes           4.3600687  43.8374249\n",
       "25  26                 Aigues Mortes             4.19154  43.5661521\n",
       "26  27      Saintes Maries de la mer           4.4277202  43.4515922\n",
       "27  28                     Collioure           3.0831554    42.52505\n",
       "28  29                   Carcassonne           2.3491069  43.2130358\n",
       "29  30                        Ariege           1.6124975  42.9927428\n",
       "30  31                      Toulouse           1.4442469  43.6044622\n",
       "31  32                     Montauban           1.3549991  44.0175835\n",
       "32  33                      Biarritz          -1.5592776  43.4832523\n",
       "33  34                       Bayonne          -1.4736657  43.4945144\n",
       "34  35                   La Rochelle          -1.1520434  46.1591126"
      ]
     },
     "execution_count": 7,
     "metadata": {},
     "output_type": "execute_result"
    }
   ],
   "source": [
    "# vérification des résultats\n",
    "dataset_cities"
   ]
  },
  {
   "cell_type": "markdown",
   "metadata": {},
   "source": [
    "#### PART 2. Obteniur les données météologiques concernant les villes"
   ]
  },
  {
   "cell_type": "markdown",
   "metadata": {},
   "source": [
    "Le site openweathermap renvoi à partir de coordonnées GPS un jeu de données trés etoffés qui comprend des données courantes, et des prévisions par minutes, heures, et jours.\n",
    "Nous avons fait le choix de ne garder que les données concernant les prévisions journalières, qui sont sur 7 jours.\n",
    "Les données journalières étant également nombreuses, nous n'avons également retenu que certaines d'entre elles :\n",
    "- le date du jour en question\n",
    "- la temperature (en degré celsius)\n",
    "- le taux d'humidité (e n%)\n",
    "- la vitesse du vent (en m/seconde)\n",
    "- la pluie (en mm par jour)"
   ]
  },
  {
   "cell_type": "code",
   "execution_count": 11,
   "metadata": {},
   "outputs": [],
   "source": [
    "# création d'une fonction qui renvoie des infos clés sur la météo prévisionnelle.\n",
    "# la fonction à trois paramètres : les coordonnées gps (latitude/longitude) et le jour pour lequel nous souhaitons les données\n",
    "# utlisation de l'API du site openweathermap (owm) avec des critères passés en paramètres : la clé de l'API, les coordonnées GPS, l'exclusion de certaines données (exclude) et le choix des unités (units)\n",
    "# a noter également deux points :\n",
    "# i)nous avons transformé la date qui n'est pas au bon format\n",
    "# ii) et nous avons utilisé un try/except pour gerer l'absence de la donnée sur la pluie liée au fait qu'il ne pleut pas. Dans ce cas nous afffectons la valeur 0\n",
    "\n",
    "def city_weather(lat, lon, day):\n",
    "    url_owm = \"https://api.openweathermap.org/data/3.0/onecall?\"\n",
    "    criteria_owm = {\"lat\":lat, \"lon\":lon, \"appid\":\"1d7498fefc66d74c38e726701b5fd131\", \"exclude\":\"current,minutely,hourly\", \"units\":\"metric\"}\n",
    "    data_forecast = requests.get(url_owm, params = criteria_owm).json()\n",
    "    day_date = data_forecast[\"daily\"][day][\"dt\"]\n",
    "    day_date = datetime.fromtimestamp(day_date).strftime(\"%x\")\n",
    "    day_temp = data_forecast[\"daily\"][day][\"temp\"][\"day\"]\n",
    "    day_humidity = data_forecast[\"daily\"][day][\"humidity\"]\n",
    "    day_wind = data_forecast[\"daily\"][day][\"wind_speed\"]\n",
    "    try :\n",
    "        day_rain = data_forecast[\"daily\"][day][\"rain\"]\n",
    "    except :\n",
    "        day_rain=0\n",
    "    return [day_date, day_temp, day_humidity, day_wind, day_rain]"
   ]
  },
  {
   "cell_type": "code",
   "execution_count": 12,
   "metadata": {},
   "outputs": [
    {
     "data": {
      "text/html": [
       "<div>\n",
       "<style scoped>\n",
       "    .dataframe tbody tr th:only-of-type {\n",
       "        vertical-align: middle;\n",
       "    }\n",
       "\n",
       "    .dataframe tbody tr th {\n",
       "        vertical-align: top;\n",
       "    }\n",
       "\n",
       "    .dataframe thead th {\n",
       "        text-align: right;\n",
       "    }\n",
       "</style>\n",
       "<table border=\"1\" class=\"dataframe\">\n",
       "  <thead>\n",
       "    <tr style=\"text-align: right;\">\n",
       "      <th></th>\n",
       "      <th>id</th>\n",
       "      <th>Date</th>\n",
       "      <th>Temperature</th>\n",
       "      <th>Humidity</th>\n",
       "      <th>Wind</th>\n",
       "      <th>Rain</th>\n",
       "    </tr>\n",
       "  </thead>\n",
       "  <tbody>\n",
       "  </tbody>\n",
       "</table>\n",
       "</div>"
      ],
      "text/plain": [
       "Empty DataFrame\n",
       "Columns: [id, Date, Temperature, Humidity, Wind, Rain]\n",
       "Index: []"
      ]
     },
     "execution_count": 12,
     "metadata": {},
     "output_type": "execute_result"
    }
   ],
   "source": [
    "#création d'un dataframe concernant les prévisions météo à partir des coordonnées gps\n",
    "# les colonnes correspndent aux données météo prévisionnelles\n",
    "# les lignes correspondent aux villes et aux jours (donc plusieurs lignes pour une même ville)\n",
    "dataset_forecast = pd.DataFrame(columns = [\"id\", \"Date\", \"Temperature\", \"Humidity\", \"Wind\", \"Rain\"])\n",
    "dataset_forecast"
   ]
  },
  {
   "cell_type": "code",
   "execution_count": 13,
   "metadata": {},
   "outputs": [
    {
     "name": "stderr",
     "output_type": "stream",
     "text": [
      "C:\\Users\\SD\\AppData\\Local\\Temp\\ipykernel_24628\\4114757548.py:10: FutureWarning: The behavior of DataFrame concatenation with empty or all-NA entries is deprecated. In a future version, this will no longer exclude empty or all-NA columns when determining the result dtypes. To retain the old behavior, exclude the relevant entries before the concat operation.\n",
      "  dataset_forecast = pd.concat([dataset_forecast, dataset_forecast_bis], ignore_index=True)\n"
     ]
    }
   ],
   "source": [
    "#itération sur les villes (35 villes) et les prévisions journalières (7 jours) pour compléter le dataset\n",
    "# nous aurions pu remplacer les chiffres par une valeur variable en fonction des résultats précédent (len par exemple)\n",
    "# nous utilisons la fonction city_weather créée précédemment\n",
    "# nous créons un dataframe temporaire pour y affecter les données renvoyées par la fonction\n",
    "# nous concaténons ce dataframe temporaire au dataframe principal\n",
    "for city in range(len(dataset_cities)):\n",
    "    for i in range(7):\n",
    "        response = city_weather(dataset_cities[\"Latitude\"][city], dataset_cities[\"Longitude\"][city], i)\n",
    "        dataset_forecast_bis = pd.DataFrame({\"id\":city+1, \"Date\":response[0], \"Temperature\":response[1], \"Humidity\":response[2], \"Wind\":response[3], \"Rain\":response[4]}, index=[i+7*city])\n",
    "        dataset_forecast = pd.concat([dataset_forecast, dataset_forecast_bis], ignore_index=True)"
   ]
  },
  {
   "cell_type": "code",
   "execution_count": 14,
   "metadata": {},
   "outputs": [
    {
     "data": {
      "text/plain": [
       "(245, 6)"
      ]
     },
     "execution_count": 14,
     "metadata": {},
     "output_type": "execute_result"
    }
   ],
   "source": [
    "# la visualisation du dataframe permet de confirmer les résultats. nous avons 245 lignes soit 35 villes x 7 jours\n",
    "dataset_forecast.shape"
   ]
  },
  {
   "cell_type": "code",
   "execution_count": 15,
   "metadata": {},
   "outputs": [
    {
     "data": {
      "text/html": [
       "<div>\n",
       "<style scoped>\n",
       "    .dataframe tbody tr th:only-of-type {\n",
       "        vertical-align: middle;\n",
       "    }\n",
       "\n",
       "    .dataframe tbody tr th {\n",
       "        vertical-align: top;\n",
       "    }\n",
       "\n",
       "    .dataframe thead th {\n",
       "        text-align: right;\n",
       "    }\n",
       "</style>\n",
       "<table border=\"1\" class=\"dataframe\">\n",
       "  <thead>\n",
       "    <tr style=\"text-align: right;\">\n",
       "      <th></th>\n",
       "      <th>id</th>\n",
       "      <th>Date</th>\n",
       "      <th>Temperature</th>\n",
       "      <th>Humidity</th>\n",
       "      <th>Wind</th>\n",
       "      <th>Rain</th>\n",
       "    </tr>\n",
       "  </thead>\n",
       "  <tbody>\n",
       "    <tr>\n",
       "      <th>0</th>\n",
       "      <td>1</td>\n",
       "      <td>12/17/23</td>\n",
       "      <td>28.15</td>\n",
       "      <td>80</td>\n",
       "      <td>8.28</td>\n",
       "      <td>15.94</td>\n",
       "    </tr>\n",
       "    <tr>\n",
       "      <th>1</th>\n",
       "      <td>1</td>\n",
       "      <td>12/18/23</td>\n",
       "      <td>27.68</td>\n",
       "      <td>81</td>\n",
       "      <td>8.28</td>\n",
       "      <td>32.09</td>\n",
       "    </tr>\n",
       "    <tr>\n",
       "      <th>2</th>\n",
       "      <td>1</td>\n",
       "      <td>12/19/23</td>\n",
       "      <td>26.91</td>\n",
       "      <td>84</td>\n",
       "      <td>7.41</td>\n",
       "      <td>40.21</td>\n",
       "    </tr>\n",
       "    <tr>\n",
       "      <th>3</th>\n",
       "      <td>1</td>\n",
       "      <td>12/20/23</td>\n",
       "      <td>25.28</td>\n",
       "      <td>93</td>\n",
       "      <td>8.03</td>\n",
       "      <td>88.39</td>\n",
       "    </tr>\n",
       "    <tr>\n",
       "      <th>4</th>\n",
       "      <td>1</td>\n",
       "      <td>12/21/23</td>\n",
       "      <td>28.40</td>\n",
       "      <td>78</td>\n",
       "      <td>7.10</td>\n",
       "      <td>0.69</td>\n",
       "    </tr>\n",
       "    <tr>\n",
       "      <th>5</th>\n",
       "      <td>1</td>\n",
       "      <td>12/22/23</td>\n",
       "      <td>28.02</td>\n",
       "      <td>78</td>\n",
       "      <td>6.06</td>\n",
       "      <td>2.69</td>\n",
       "    </tr>\n",
       "    <tr>\n",
       "      <th>6</th>\n",
       "      <td>1</td>\n",
       "      <td>12/23/23</td>\n",
       "      <td>28.24</td>\n",
       "      <td>72</td>\n",
       "      <td>3.18</td>\n",
       "      <td>0.76</td>\n",
       "    </tr>\n",
       "    <tr>\n",
       "      <th>7</th>\n",
       "      <td>2</td>\n",
       "      <td>12/17/23</td>\n",
       "      <td>28.25</td>\n",
       "      <td>80</td>\n",
       "      <td>6.88</td>\n",
       "      <td>37.59</td>\n",
       "    </tr>\n",
       "    <tr>\n",
       "      <th>8</th>\n",
       "      <td>2</td>\n",
       "      <td>12/18/23</td>\n",
       "      <td>26.52</td>\n",
       "      <td>87</td>\n",
       "      <td>6.76</td>\n",
       "      <td>65.28</td>\n",
       "    </tr>\n",
       "    <tr>\n",
       "      <th>9</th>\n",
       "      <td>2</td>\n",
       "      <td>12/19/23</td>\n",
       "      <td>27.27</td>\n",
       "      <td>83</td>\n",
       "      <td>7.55</td>\n",
       "      <td>15.14</td>\n",
       "    </tr>\n",
       "    <tr>\n",
       "      <th>10</th>\n",
       "      <td>2</td>\n",
       "      <td>12/20/23</td>\n",
       "      <td>24.47</td>\n",
       "      <td>91</td>\n",
       "      <td>4.31</td>\n",
       "      <td>61.88</td>\n",
       "    </tr>\n",
       "    <tr>\n",
       "      <th>11</th>\n",
       "      <td>2</td>\n",
       "      <td>12/21/23</td>\n",
       "      <td>28.35</td>\n",
       "      <td>75</td>\n",
       "      <td>7.14</td>\n",
       "      <td>0.82</td>\n",
       "    </tr>\n",
       "    <tr>\n",
       "      <th>12</th>\n",
       "      <td>2</td>\n",
       "      <td>12/22/23</td>\n",
       "      <td>28.52</td>\n",
       "      <td>75</td>\n",
       "      <td>6.32</td>\n",
       "      <td>5.77</td>\n",
       "    </tr>\n",
       "    <tr>\n",
       "      <th>13</th>\n",
       "      <td>2</td>\n",
       "      <td>12/23/23</td>\n",
       "      <td>28.24</td>\n",
       "      <td>69</td>\n",
       "      <td>2.99</td>\n",
       "      <td>0.00</td>\n",
       "    </tr>\n",
       "    <tr>\n",
       "      <th>14</th>\n",
       "      <td>3</td>\n",
       "      <td>12/17/23</td>\n",
       "      <td>27.78</td>\n",
       "      <td>81</td>\n",
       "      <td>9.35</td>\n",
       "      <td>13.89</td>\n",
       "    </tr>\n",
       "    <tr>\n",
       "      <th>15</th>\n",
       "      <td>3</td>\n",
       "      <td>12/18/23</td>\n",
       "      <td>27.53</td>\n",
       "      <td>80</td>\n",
       "      <td>9.65</td>\n",
       "      <td>21.53</td>\n",
       "    </tr>\n",
       "    <tr>\n",
       "      <th>16</th>\n",
       "      <td>3</td>\n",
       "      <td>12/19/23</td>\n",
       "      <td>26.34</td>\n",
       "      <td>88</td>\n",
       "      <td>8.64</td>\n",
       "      <td>50.81</td>\n",
       "    </tr>\n",
       "    <tr>\n",
       "      <th>17</th>\n",
       "      <td>3</td>\n",
       "      <td>12/20/23</td>\n",
       "      <td>25.45</td>\n",
       "      <td>89</td>\n",
       "      <td>7.79</td>\n",
       "      <td>64.33</td>\n",
       "    </tr>\n",
       "    <tr>\n",
       "      <th>18</th>\n",
       "      <td>3</td>\n",
       "      <td>12/21/23</td>\n",
       "      <td>28.19</td>\n",
       "      <td>76</td>\n",
       "      <td>6.15</td>\n",
       "      <td>0.64</td>\n",
       "    </tr>\n",
       "    <tr>\n",
       "      <th>19</th>\n",
       "      <td>3</td>\n",
       "      <td>12/22/23</td>\n",
       "      <td>28.12</td>\n",
       "      <td>76</td>\n",
       "      <td>5.46</td>\n",
       "      <td>0.00</td>\n",
       "    </tr>\n",
       "    <tr>\n",
       "      <th>20</th>\n",
       "      <td>3</td>\n",
       "      <td>12/23/23</td>\n",
       "      <td>28.14</td>\n",
       "      <td>75</td>\n",
       "      <td>3.88</td>\n",
       "      <td>0.00</td>\n",
       "    </tr>\n",
       "    <tr>\n",
       "      <th>21</th>\n",
       "      <td>4</td>\n",
       "      <td>12/17/23</td>\n",
       "      <td>27.66</td>\n",
       "      <td>81</td>\n",
       "      <td>10.57</td>\n",
       "      <td>17.28</td>\n",
       "    </tr>\n",
       "    <tr>\n",
       "      <th>22</th>\n",
       "      <td>4</td>\n",
       "      <td>12/18/23</td>\n",
       "      <td>27.95</td>\n",
       "      <td>77</td>\n",
       "      <td>10.85</td>\n",
       "      <td>9.02</td>\n",
       "    </tr>\n",
       "    <tr>\n",
       "      <th>23</th>\n",
       "      <td>4</td>\n",
       "      <td>12/19/23</td>\n",
       "      <td>27.65</td>\n",
       "      <td>81</td>\n",
       "      <td>9.26</td>\n",
       "      <td>17.90</td>\n",
       "    </tr>\n",
       "    <tr>\n",
       "      <th>24</th>\n",
       "      <td>4</td>\n",
       "      <td>12/20/23</td>\n",
       "      <td>26.40</td>\n",
       "      <td>85</td>\n",
       "      <td>8.56</td>\n",
       "      <td>53.95</td>\n",
       "    </tr>\n",
       "    <tr>\n",
       "      <th>25</th>\n",
       "      <td>4</td>\n",
       "      <td>12/21/23</td>\n",
       "      <td>28.07</td>\n",
       "      <td>77</td>\n",
       "      <td>6.84</td>\n",
       "      <td>0.19</td>\n",
       "    </tr>\n",
       "    <tr>\n",
       "      <th>26</th>\n",
       "      <td>4</td>\n",
       "      <td>12/22/23</td>\n",
       "      <td>28.12</td>\n",
       "      <td>76</td>\n",
       "      <td>6.45</td>\n",
       "      <td>1.13</td>\n",
       "    </tr>\n",
       "    <tr>\n",
       "      <th>27</th>\n",
       "      <td>4</td>\n",
       "      <td>12/23/23</td>\n",
       "      <td>27.84</td>\n",
       "      <td>80</td>\n",
       "      <td>4.03</td>\n",
       "      <td>0.32</td>\n",
       "    </tr>\n",
       "    <tr>\n",
       "      <th>28</th>\n",
       "      <td>5</td>\n",
       "      <td>12/17/23</td>\n",
       "      <td>27.62</td>\n",
       "      <td>80</td>\n",
       "      <td>12.02</td>\n",
       "      <td>9.29</td>\n",
       "    </tr>\n",
       "    <tr>\n",
       "      <th>29</th>\n",
       "      <td>5</td>\n",
       "      <td>12/18/23</td>\n",
       "      <td>27.52</td>\n",
       "      <td>77</td>\n",
       "      <td>11.94</td>\n",
       "      <td>0.71</td>\n",
       "    </tr>\n",
       "    <tr>\n",
       "      <th>30</th>\n",
       "      <td>5</td>\n",
       "      <td>12/19/23</td>\n",
       "      <td>27.83</td>\n",
       "      <td>79</td>\n",
       "      <td>9.81</td>\n",
       "      <td>6.77</td>\n",
       "    </tr>\n",
       "    <tr>\n",
       "      <th>31</th>\n",
       "      <td>5</td>\n",
       "      <td>12/20/23</td>\n",
       "      <td>27.29</td>\n",
       "      <td>82</td>\n",
       "      <td>9.84</td>\n",
       "      <td>10.57</td>\n",
       "    </tr>\n",
       "    <tr>\n",
       "      <th>32</th>\n",
       "      <td>5</td>\n",
       "      <td>12/21/23</td>\n",
       "      <td>27.62</td>\n",
       "      <td>79</td>\n",
       "      <td>7.35</td>\n",
       "      <td>15.88</td>\n",
       "    </tr>\n",
       "    <tr>\n",
       "      <th>33</th>\n",
       "      <td>5</td>\n",
       "      <td>12/22/23</td>\n",
       "      <td>27.92</td>\n",
       "      <td>79</td>\n",
       "      <td>6.99</td>\n",
       "      <td>1.89</td>\n",
       "    </tr>\n",
       "    <tr>\n",
       "      <th>34</th>\n",
       "      <td>5</td>\n",
       "      <td>12/23/23</td>\n",
       "      <td>27.94</td>\n",
       "      <td>79</td>\n",
       "      <td>6.19</td>\n",
       "      <td>0.95</td>\n",
       "    </tr>\n",
       "    <tr>\n",
       "      <th>35</th>\n",
       "      <td>6</td>\n",
       "      <td>12/17/23</td>\n",
       "      <td>27.45</td>\n",
       "      <td>82</td>\n",
       "      <td>13.30</td>\n",
       "      <td>4.33</td>\n",
       "    </tr>\n",
       "    <tr>\n",
       "      <th>36</th>\n",
       "      <td>6</td>\n",
       "      <td>12/18/23</td>\n",
       "      <td>26.91</td>\n",
       "      <td>76</td>\n",
       "      <td>12.59</td>\n",
       "      <td>0.13</td>\n",
       "    </tr>\n",
       "    <tr>\n",
       "      <th>37</th>\n",
       "      <td>6</td>\n",
       "      <td>12/19/23</td>\n",
       "      <td>27.59</td>\n",
       "      <td>79</td>\n",
       "      <td>10.30</td>\n",
       "      <td>0.13</td>\n",
       "    </tr>\n",
       "    <tr>\n",
       "      <th>38</th>\n",
       "      <td>6</td>\n",
       "      <td>12/20/23</td>\n",
       "      <td>27.54</td>\n",
       "      <td>81</td>\n",
       "      <td>10.67</td>\n",
       "      <td>3.08</td>\n",
       "    </tr>\n",
       "    <tr>\n",
       "      <th>39</th>\n",
       "      <td>6</td>\n",
       "      <td>12/21/23</td>\n",
       "      <td>27.43</td>\n",
       "      <td>79</td>\n",
       "      <td>8.93</td>\n",
       "      <td>0.32</td>\n",
       "    </tr>\n",
       "  </tbody>\n",
       "</table>\n",
       "</div>"
      ],
      "text/plain": [
       "   id      Date  Temperature Humidity   Wind   Rain\n",
       "0   1  12/17/23        28.15       80   8.28  15.94\n",
       "1   1  12/18/23        27.68       81   8.28  32.09\n",
       "2   1  12/19/23        26.91       84   7.41  40.21\n",
       "3   1  12/20/23        25.28       93   8.03  88.39\n",
       "4   1  12/21/23        28.40       78   7.10   0.69\n",
       "5   1  12/22/23        28.02       78   6.06   2.69\n",
       "6   1  12/23/23        28.24       72   3.18   0.76\n",
       "7   2  12/17/23        28.25       80   6.88  37.59\n",
       "8   2  12/18/23        26.52       87   6.76  65.28\n",
       "9   2  12/19/23        27.27       83   7.55  15.14\n",
       "10  2  12/20/23        24.47       91   4.31  61.88\n",
       "11  2  12/21/23        28.35       75   7.14   0.82\n",
       "12  2  12/22/23        28.52       75   6.32   5.77\n",
       "13  2  12/23/23        28.24       69   2.99   0.00\n",
       "14  3  12/17/23        27.78       81   9.35  13.89\n",
       "15  3  12/18/23        27.53       80   9.65  21.53\n",
       "16  3  12/19/23        26.34       88   8.64  50.81\n",
       "17  3  12/20/23        25.45       89   7.79  64.33\n",
       "18  3  12/21/23        28.19       76   6.15   0.64\n",
       "19  3  12/22/23        28.12       76   5.46   0.00\n",
       "20  3  12/23/23        28.14       75   3.88   0.00\n",
       "21  4  12/17/23        27.66       81  10.57  17.28\n",
       "22  4  12/18/23        27.95       77  10.85   9.02\n",
       "23  4  12/19/23        27.65       81   9.26  17.90\n",
       "24  4  12/20/23        26.40       85   8.56  53.95\n",
       "25  4  12/21/23        28.07       77   6.84   0.19\n",
       "26  4  12/22/23        28.12       76   6.45   1.13\n",
       "27  4  12/23/23        27.84       80   4.03   0.32\n",
       "28  5  12/17/23        27.62       80  12.02   9.29\n",
       "29  5  12/18/23        27.52       77  11.94   0.71\n",
       "30  5  12/19/23        27.83       79   9.81   6.77\n",
       "31  5  12/20/23        27.29       82   9.84  10.57\n",
       "32  5  12/21/23        27.62       79   7.35  15.88\n",
       "33  5  12/22/23        27.92       79   6.99   1.89\n",
       "34  5  12/23/23        27.94       79   6.19   0.95\n",
       "35  6  12/17/23        27.45       82  13.30   4.33\n",
       "36  6  12/18/23        26.91       76  12.59   0.13\n",
       "37  6  12/19/23        27.59       79  10.30   0.13\n",
       "38  6  12/20/23        27.54       81  10.67   3.08\n",
       "39  6  12/21/23        27.43       79   8.93   0.32"
      ]
     },
     "execution_count": 15,
     "metadata": {},
     "output_type": "execute_result"
    }
   ],
   "source": [
    "# nous avons bien également 7 lignes pour le même id (ville)\n",
    "dataset_forecast.head(40)"
   ]
  },
  {
   "cell_type": "code",
   "execution_count": 16,
   "metadata": {},
   "outputs": [
    {
     "data": {
      "text/plain": [
       "id              object\n",
       "Date            object\n",
       "Temperature    float64\n",
       "Humidity        object\n",
       "Wind           float64\n",
       "Rain           float64\n",
       "dtype: object"
      ]
     },
     "execution_count": 16,
     "metadata": {},
     "output_type": "execute_result"
    }
   ],
   "source": [
    "# nous vérifions également le format des données\n",
    "dataset_forecast.dtypes"
   ]
  },
  {
   "cell_type": "markdown",
   "metadata": {},
   "source": [
    "Sur le fond, nous nous sommes interrogés sur les données renvoyées et notamment la temperature qui sont censées être celles du mois de décembre !\n",
    "Nous avons vérifié le json renvoyé par request est les données restituées sont bien celles obtenues du site.\n",
    "En première lecture, il semblerait donc que ce soit les données obtenues du site qui sont incohérentes.\n",
    "Par manque de temps nous n'avons pas pu investiguer plus en amont sur ce sujet."
   ]
  },
  {
   "cell_type": "code",
   "execution_count": 17,
   "metadata": {},
   "outputs": [
    {
     "data": {
      "text/plain": [
       "id                     object\n",
       "Date           datetime64[ns]\n",
       "Temperature           float32\n",
       "Humidity              float32\n",
       "Wind                  float32\n",
       "Rain                  float32\n",
       "dtype: object"
      ]
     },
     "execution_count": 17,
     "metadata": {},
     "output_type": "execute_result"
    }
   ],
   "source": [
    "# certains formats ne sont pas adaptés au type de données, ou dans un format qui prend de la place\n",
    "# conversion des colonnes numériques avec la fonction pandas to_numeric avec en paramètre downcast ce que l'on souhaite (float)\n",
    "# conversion de la colonne date avec la fonction pandas to_datetime\n",
    "dataset_forecast[[\"Humidity\", \"Rain\", \"Temperature\", \"Wind\"]] = dataset_forecast[[\"Humidity\", \"Rain\", \"Temperature\", \"Wind\"]].apply(pd.to_numeric, downcast=\"float\")\n",
    "dataset_forecast[\"Date\"] = dataset_forecast[\"Date\"].apply(pd.to_datetime)\n",
    "\n",
    "#verification du résultat\n",
    "dataset_forecast.dtypes"
   ]
  },
  {
   "cell_type": "markdown",
   "metadata": {},
   "source": [
    "Nous avons à ce stade trop de données pour être capable de faire un choix sur une destination.\n",
    "Nous allons pour chaque critère calculer une valeur unique sur l'ensemble de la période de prévision, pour chaque id (ville).\n",
    "Nous avons retenu la médiane, plus robuste que la moyenne.\n",
    "\n",
    "Nous considérerons donc pour la suite du travail que les donnée ssont justes."
   ]
  },
  {
   "cell_type": "code",
   "execution_count": 18,
   "metadata": {},
   "outputs": [
    {
     "data": {
      "text/html": [
       "<div>\n",
       "<style scoped>\n",
       "    .dataframe tbody tr th:only-of-type {\n",
       "        vertical-align: middle;\n",
       "    }\n",
       "\n",
       "    .dataframe tbody tr th {\n",
       "        vertical-align: top;\n",
       "    }\n",
       "\n",
       "    .dataframe thead th {\n",
       "        text-align: right;\n",
       "    }\n",
       "</style>\n",
       "<table border=\"1\" class=\"dataframe\">\n",
       "  <thead>\n",
       "    <tr style=\"text-align: right;\">\n",
       "      <th></th>\n",
       "      <th>id</th>\n",
       "      <th>Temperature</th>\n",
       "      <th>Humidity</th>\n",
       "      <th>Wind</th>\n",
       "      <th>Rain</th>\n",
       "    </tr>\n",
       "  </thead>\n",
       "  <tbody>\n",
       "    <tr>\n",
       "      <th>0</th>\n",
       "      <td>1</td>\n",
       "      <td>28.020000</td>\n",
       "      <td>80.0</td>\n",
       "      <td>7.41</td>\n",
       "      <td>15.94</td>\n",
       "    </tr>\n",
       "    <tr>\n",
       "      <th>1</th>\n",
       "      <td>2</td>\n",
       "      <td>28.240000</td>\n",
       "      <td>80.0</td>\n",
       "      <td>6.76</td>\n",
       "      <td>15.14</td>\n",
       "    </tr>\n",
       "    <tr>\n",
       "      <th>2</th>\n",
       "      <td>3</td>\n",
       "      <td>27.780001</td>\n",
       "      <td>80.0</td>\n",
       "      <td>7.79</td>\n",
       "      <td>13.89</td>\n",
       "    </tr>\n",
       "    <tr>\n",
       "      <th>3</th>\n",
       "      <td>4</td>\n",
       "      <td>27.840000</td>\n",
       "      <td>80.0</td>\n",
       "      <td>8.56</td>\n",
       "      <td>9.02</td>\n",
       "    </tr>\n",
       "    <tr>\n",
       "      <th>4</th>\n",
       "      <td>5</td>\n",
       "      <td>27.620001</td>\n",
       "      <td>79.0</td>\n",
       "      <td>9.81</td>\n",
       "      <td>6.77</td>\n",
       "    </tr>\n",
       "    <tr>\n",
       "      <th>5</th>\n",
       "      <td>6</td>\n",
       "      <td>27.450001</td>\n",
       "      <td>80.0</td>\n",
       "      <td>10.30</td>\n",
       "      <td>0.64</td>\n",
       "    </tr>\n",
       "    <tr>\n",
       "      <th>6</th>\n",
       "      <td>7</td>\n",
       "      <td>27.330000</td>\n",
       "      <td>81.0</td>\n",
       "      <td>10.10</td>\n",
       "      <td>2.35</td>\n",
       "    </tr>\n",
       "    <tr>\n",
       "      <th>7</th>\n",
       "      <td>8</td>\n",
       "      <td>26.940001</td>\n",
       "      <td>82.0</td>\n",
       "      <td>10.30</td>\n",
       "      <td>0.65</td>\n",
       "    </tr>\n",
       "    <tr>\n",
       "      <th>8</th>\n",
       "      <td>9</td>\n",
       "      <td>29.910000</td>\n",
       "      <td>33.0</td>\n",
       "      <td>9.41</td>\n",
       "      <td>0.00</td>\n",
       "    </tr>\n",
       "    <tr>\n",
       "      <th>9</th>\n",
       "      <td>10</td>\n",
       "      <td>32.610001</td>\n",
       "      <td>27.0</td>\n",
       "      <td>9.05</td>\n",
       "      <td>0.00</td>\n",
       "    </tr>\n",
       "    <tr>\n",
       "      <th>10</th>\n",
       "      <td>11</td>\n",
       "      <td>32.369999</td>\n",
       "      <td>27.0</td>\n",
       "      <td>9.05</td>\n",
       "      <td>0.00</td>\n",
       "    </tr>\n",
       "    <tr>\n",
       "      <th>11</th>\n",
       "      <td>12</td>\n",
       "      <td>32.540001</td>\n",
       "      <td>27.0</td>\n",
       "      <td>9.05</td>\n",
       "      <td>0.00</td>\n",
       "    </tr>\n",
       "    <tr>\n",
       "      <th>12</th>\n",
       "      <td>13</td>\n",
       "      <td>32.060001</td>\n",
       "      <td>36.0</td>\n",
       "      <td>8.66</td>\n",
       "      <td>0.00</td>\n",
       "    </tr>\n",
       "    <tr>\n",
       "      <th>13</th>\n",
       "      <td>14</td>\n",
       "      <td>31.120001</td>\n",
       "      <td>41.0</td>\n",
       "      <td>9.34</td>\n",
       "      <td>0.00</td>\n",
       "    </tr>\n",
       "    <tr>\n",
       "      <th>14</th>\n",
       "      <td>15</td>\n",
       "      <td>31.770000</td>\n",
       "      <td>33.0</td>\n",
       "      <td>7.88</td>\n",
       "      <td>0.00</td>\n",
       "    </tr>\n",
       "    <tr>\n",
       "      <th>15</th>\n",
       "      <td>16</td>\n",
       "      <td>31.480000</td>\n",
       "      <td>33.0</td>\n",
       "      <td>9.14</td>\n",
       "      <td>0.00</td>\n",
       "    </tr>\n",
       "    <tr>\n",
       "      <th>16</th>\n",
       "      <td>17</td>\n",
       "      <td>31.389999</td>\n",
       "      <td>38.0</td>\n",
       "      <td>9.10</td>\n",
       "      <td>0.00</td>\n",
       "    </tr>\n",
       "    <tr>\n",
       "      <th>17</th>\n",
       "      <td>18</td>\n",
       "      <td>32.080002</td>\n",
       "      <td>32.0</td>\n",
       "      <td>7.20</td>\n",
       "      <td>0.00</td>\n",
       "    </tr>\n",
       "    <tr>\n",
       "      <th>18</th>\n",
       "      <td>19</td>\n",
       "      <td>31.870001</td>\n",
       "      <td>35.0</td>\n",
       "      <td>6.07</td>\n",
       "      <td>0.00</td>\n",
       "    </tr>\n",
       "    <tr>\n",
       "      <th>19</th>\n",
       "      <td>20</td>\n",
       "      <td>30.770000</td>\n",
       "      <td>36.0</td>\n",
       "      <td>7.29</td>\n",
       "      <td>0.00</td>\n",
       "    </tr>\n",
       "    <tr>\n",
       "      <th>20</th>\n",
       "      <td>21</td>\n",
       "      <td>30.469999</td>\n",
       "      <td>37.0</td>\n",
       "      <td>7.56</td>\n",
       "      <td>0.00</td>\n",
       "    </tr>\n",
       "    <tr>\n",
       "      <th>21</th>\n",
       "      <td>22</td>\n",
       "      <td>30.200001</td>\n",
       "      <td>36.0</td>\n",
       "      <td>8.32</td>\n",
       "      <td>0.00</td>\n",
       "    </tr>\n",
       "    <tr>\n",
       "      <th>22</th>\n",
       "      <td>23</td>\n",
       "      <td>29.690001</td>\n",
       "      <td>38.0</td>\n",
       "      <td>8.93</td>\n",
       "      <td>0.00</td>\n",
       "    </tr>\n",
       "    <tr>\n",
       "      <th>23</th>\n",
       "      <td>24</td>\n",
       "      <td>29.360001</td>\n",
       "      <td>40.0</td>\n",
       "      <td>9.98</td>\n",
       "      <td>0.00</td>\n",
       "    </tr>\n",
       "    <tr>\n",
       "      <th>24</th>\n",
       "      <td>25</td>\n",
       "      <td>30.379999</td>\n",
       "      <td>37.0</td>\n",
       "      <td>10.35</td>\n",
       "      <td>0.00</td>\n",
       "    </tr>\n",
       "    <tr>\n",
       "      <th>25</th>\n",
       "      <td>26</td>\n",
       "      <td>32.220001</td>\n",
       "      <td>33.0</td>\n",
       "      <td>9.71</td>\n",
       "      <td>0.00</td>\n",
       "    </tr>\n",
       "    <tr>\n",
       "      <th>26</th>\n",
       "      <td>27</td>\n",
       "      <td>31.980000</td>\n",
       "      <td>33.0</td>\n",
       "      <td>8.73</td>\n",
       "      <td>0.00</td>\n",
       "    </tr>\n",
       "    <tr>\n",
       "      <th>27</th>\n",
       "      <td>28</td>\n",
       "      <td>34.599998</td>\n",
       "      <td>29.0</td>\n",
       "      <td>7.27</td>\n",
       "      <td>0.00</td>\n",
       "    </tr>\n",
       "    <tr>\n",
       "      <th>28</th>\n",
       "      <td>29</td>\n",
       "      <td>33.980000</td>\n",
       "      <td>34.0</td>\n",
       "      <td>9.38</td>\n",
       "      <td>0.00</td>\n",
       "    </tr>\n",
       "    <tr>\n",
       "      <th>29</th>\n",
       "      <td>30</td>\n",
       "      <td>34.599998</td>\n",
       "      <td>36.0</td>\n",
       "      <td>8.89</td>\n",
       "      <td>0.00</td>\n",
       "    </tr>\n",
       "    <tr>\n",
       "      <th>30</th>\n",
       "      <td>31</td>\n",
       "      <td>34.910000</td>\n",
       "      <td>38.0</td>\n",
       "      <td>5.78</td>\n",
       "      <td>0.00</td>\n",
       "    </tr>\n",
       "    <tr>\n",
       "      <th>31</th>\n",
       "      <td>32</td>\n",
       "      <td>33.700001</td>\n",
       "      <td>39.0</td>\n",
       "      <td>6.33</td>\n",
       "      <td>0.00</td>\n",
       "    </tr>\n",
       "    <tr>\n",
       "      <th>32</th>\n",
       "      <td>33</td>\n",
       "      <td>28.520000</td>\n",
       "      <td>80.0</td>\n",
       "      <td>9.14</td>\n",
       "      <td>0.95</td>\n",
       "    </tr>\n",
       "    <tr>\n",
       "      <th>33</th>\n",
       "      <td>34</td>\n",
       "      <td>28.440001</td>\n",
       "      <td>79.0</td>\n",
       "      <td>9.30</td>\n",
       "      <td>1.82</td>\n",
       "    </tr>\n",
       "    <tr>\n",
       "      <th>34</th>\n",
       "      <td>35</td>\n",
       "      <td>28.389999</td>\n",
       "      <td>77.0</td>\n",
       "      <td>8.81</td>\n",
       "      <td>5.02</td>\n",
       "    </tr>\n",
       "  </tbody>\n",
       "</table>\n",
       "</div>"
      ],
      "text/plain": [
       "    id  Temperature  Humidity   Wind   Rain\n",
       "0    1    28.020000      80.0   7.41  15.94\n",
       "1    2    28.240000      80.0   6.76  15.14\n",
       "2    3    27.780001      80.0   7.79  13.89\n",
       "3    4    27.840000      80.0   8.56   9.02\n",
       "4    5    27.620001      79.0   9.81   6.77\n",
       "5    6    27.450001      80.0  10.30   0.64\n",
       "6    7    27.330000      81.0  10.10   2.35\n",
       "7    8    26.940001      82.0  10.30   0.65\n",
       "8    9    29.910000      33.0   9.41   0.00\n",
       "9   10    32.610001      27.0   9.05   0.00\n",
       "10  11    32.369999      27.0   9.05   0.00\n",
       "11  12    32.540001      27.0   9.05   0.00\n",
       "12  13    32.060001      36.0   8.66   0.00\n",
       "13  14    31.120001      41.0   9.34   0.00\n",
       "14  15    31.770000      33.0   7.88   0.00\n",
       "15  16    31.480000      33.0   9.14   0.00\n",
       "16  17    31.389999      38.0   9.10   0.00\n",
       "17  18    32.080002      32.0   7.20   0.00\n",
       "18  19    31.870001      35.0   6.07   0.00\n",
       "19  20    30.770000      36.0   7.29   0.00\n",
       "20  21    30.469999      37.0   7.56   0.00\n",
       "21  22    30.200001      36.0   8.32   0.00\n",
       "22  23    29.690001      38.0   8.93   0.00\n",
       "23  24    29.360001      40.0   9.98   0.00\n",
       "24  25    30.379999      37.0  10.35   0.00\n",
       "25  26    32.220001      33.0   9.71   0.00\n",
       "26  27    31.980000      33.0   8.73   0.00\n",
       "27  28    34.599998      29.0   7.27   0.00\n",
       "28  29    33.980000      34.0   9.38   0.00\n",
       "29  30    34.599998      36.0   8.89   0.00\n",
       "30  31    34.910000      38.0   5.78   0.00\n",
       "31  32    33.700001      39.0   6.33   0.00\n",
       "32  33    28.520000      80.0   9.14   0.95\n",
       "33  34    28.440001      79.0   9.30   1.82\n",
       "34  35    28.389999      77.0   8.81   5.02"
      ]
     },
     "execution_count": 18,
     "metadata": {},
     "output_type": "execute_result"
    }
   ],
   "source": [
    "# utlisation de la fonction groupby() à partir de l'id. le paramètre as_index permet de garder l'id comme une colonne sinon il passerait en index\n",
    "median_forecast = dataset_forecast.groupby([\"id\"], as_index=False)[[\"Temperature\", \"Humidity\", \"Wind\", \"Rain\"]].median()\n",
    "median_forecast"
   ]
  },
  {
   "cell_type": "markdown",
   "metadata": {},
   "source": [
    "Maintenant que nous avons pour chaque ville (id) une valeur unique par paramètre, nous allons rajouter à notre dataframe initiale les colonnes concernant la météo previsionnelle"
   ]
  },
  {
   "cell_type": "code",
   "execution_count": 19,
   "metadata": {},
   "outputs": [
    {
     "data": {
      "text/html": [
       "<div>\n",
       "<style scoped>\n",
       "    .dataframe tbody tr th:only-of-type {\n",
       "        vertical-align: middle;\n",
       "    }\n",
       "\n",
       "    .dataframe tbody tr th {\n",
       "        vertical-align: top;\n",
       "    }\n",
       "\n",
       "    .dataframe thead th {\n",
       "        text-align: right;\n",
       "    }\n",
       "</style>\n",
       "<table border=\"1\" class=\"dataframe\">\n",
       "  <thead>\n",
       "    <tr style=\"text-align: right;\">\n",
       "      <th></th>\n",
       "      <th>id</th>\n",
       "      <th>City</th>\n",
       "      <th>Latitude</th>\n",
       "      <th>Longitude</th>\n",
       "      <th>Temperature</th>\n",
       "      <th>Humidity</th>\n",
       "      <th>Wind</th>\n",
       "      <th>Rain</th>\n",
       "    </tr>\n",
       "  </thead>\n",
       "  <tbody>\n",
       "    <tr>\n",
       "      <th>0</th>\n",
       "      <td>1</td>\n",
       "      <td>Mont Saint Michel</td>\n",
       "      <td>-1.511460</td>\n",
       "      <td>48.635954</td>\n",
       "      <td>28.020000</td>\n",
       "      <td>80.0</td>\n",
       "      <td>7.41</td>\n",
       "      <td>15.94</td>\n",
       "    </tr>\n",
       "    <tr>\n",
       "      <th>1</th>\n",
       "      <td>2</td>\n",
       "      <td>St Malo</td>\n",
       "      <td>-2.026041</td>\n",
       "      <td>48.649518</td>\n",
       "      <td>28.240000</td>\n",
       "      <td>80.0</td>\n",
       "      <td>6.76</td>\n",
       "      <td>15.14</td>\n",
       "    </tr>\n",
       "    <tr>\n",
       "      <th>2</th>\n",
       "      <td>3</td>\n",
       "      <td>Bayeux</td>\n",
       "      <td>-0.702474</td>\n",
       "      <td>49.276462</td>\n",
       "      <td>27.780001</td>\n",
       "      <td>80.0</td>\n",
       "      <td>7.79</td>\n",
       "      <td>13.89</td>\n",
       "    </tr>\n",
       "    <tr>\n",
       "      <th>3</th>\n",
       "      <td>4</td>\n",
       "      <td>Le Havre</td>\n",
       "      <td>0.107973</td>\n",
       "      <td>49.493898</td>\n",
       "      <td>27.840000</td>\n",
       "      <td>80.0</td>\n",
       "      <td>8.56</td>\n",
       "      <td>9.02</td>\n",
       "    </tr>\n",
       "    <tr>\n",
       "      <th>4</th>\n",
       "      <td>5</td>\n",
       "      <td>Rouen</td>\n",
       "      <td>1.093966</td>\n",
       "      <td>49.440459</td>\n",
       "      <td>27.620001</td>\n",
       "      <td>79.0</td>\n",
       "      <td>9.81</td>\n",
       "      <td>6.77</td>\n",
       "    </tr>\n",
       "    <tr>\n",
       "      <th>5</th>\n",
       "      <td>6</td>\n",
       "      <td>Paris</td>\n",
       "      <td>2.348391</td>\n",
       "      <td>48.853495</td>\n",
       "      <td>27.450001</td>\n",
       "      <td>80.0</td>\n",
       "      <td>10.30</td>\n",
       "      <td>0.64</td>\n",
       "    </tr>\n",
       "    <tr>\n",
       "      <th>6</th>\n",
       "      <td>7</td>\n",
       "      <td>Amiens</td>\n",
       "      <td>2.295695</td>\n",
       "      <td>49.894171</td>\n",
       "      <td>27.330000</td>\n",
       "      <td>81.0</td>\n",
       "      <td>10.10</td>\n",
       "      <td>2.35</td>\n",
       "    </tr>\n",
       "    <tr>\n",
       "      <th>7</th>\n",
       "      <td>8</td>\n",
       "      <td>Lille</td>\n",
       "      <td>3.063528</td>\n",
       "      <td>50.636565</td>\n",
       "      <td>26.940001</td>\n",
       "      <td>82.0</td>\n",
       "      <td>10.30</td>\n",
       "      <td>0.65</td>\n",
       "    </tr>\n",
       "    <tr>\n",
       "      <th>8</th>\n",
       "      <td>9</td>\n",
       "      <td>Strasbourg</td>\n",
       "      <td>7.750713</td>\n",
       "      <td>48.584614</td>\n",
       "      <td>29.910000</td>\n",
       "      <td>33.0</td>\n",
       "      <td>9.41</td>\n",
       "      <td>0.00</td>\n",
       "    </tr>\n",
       "    <tr>\n",
       "      <th>9</th>\n",
       "      <td>10</td>\n",
       "      <td>Chateau du Haut Koenigsbourg</td>\n",
       "      <td>7.345492</td>\n",
       "      <td>48.249523</td>\n",
       "      <td>32.610001</td>\n",
       "      <td>27.0</td>\n",
       "      <td>9.05</td>\n",
       "      <td>0.00</td>\n",
       "    </tr>\n",
       "    <tr>\n",
       "      <th>10</th>\n",
       "      <td>11</td>\n",
       "      <td>Colmar</td>\n",
       "      <td>7.357964</td>\n",
       "      <td>48.077752</td>\n",
       "      <td>32.369999</td>\n",
       "      <td>27.0</td>\n",
       "      <td>9.05</td>\n",
       "      <td>0.00</td>\n",
       "    </tr>\n",
       "    <tr>\n",
       "      <th>11</th>\n",
       "      <td>12</td>\n",
       "      <td>Eguisheim</td>\n",
       "      <td>7.307962</td>\n",
       "      <td>48.044797</td>\n",
       "      <td>32.540001</td>\n",
       "      <td>27.0</td>\n",
       "      <td>9.05</td>\n",
       "      <td>0.00</td>\n",
       "    </tr>\n",
       "    <tr>\n",
       "      <th>12</th>\n",
       "      <td>13</td>\n",
       "      <td>Besancon</td>\n",
       "      <td>6.024362</td>\n",
       "      <td>47.238022</td>\n",
       "      <td>32.060001</td>\n",
       "      <td>36.0</td>\n",
       "      <td>8.66</td>\n",
       "      <td>0.00</td>\n",
       "    </tr>\n",
       "    <tr>\n",
       "      <th>13</th>\n",
       "      <td>14</td>\n",
       "      <td>Dijon</td>\n",
       "      <td>5.041470</td>\n",
       "      <td>47.321581</td>\n",
       "      <td>31.120001</td>\n",
       "      <td>41.0</td>\n",
       "      <td>9.34</td>\n",
       "      <td>0.00</td>\n",
       "    </tr>\n",
       "    <tr>\n",
       "      <th>14</th>\n",
       "      <td>15</td>\n",
       "      <td>Annecy</td>\n",
       "      <td>6.128885</td>\n",
       "      <td>45.899235</td>\n",
       "      <td>31.770000</td>\n",
       "      <td>33.0</td>\n",
       "      <td>7.88</td>\n",
       "      <td>0.00</td>\n",
       "    </tr>\n",
       "    <tr>\n",
       "      <th>15</th>\n",
       "      <td>16</td>\n",
       "      <td>Grenoble</td>\n",
       "      <td>5.735782</td>\n",
       "      <td>45.187560</td>\n",
       "      <td>31.480000</td>\n",
       "      <td>33.0</td>\n",
       "      <td>9.14</td>\n",
       "      <td>0.00</td>\n",
       "    </tr>\n",
       "    <tr>\n",
       "      <th>16</th>\n",
       "      <td>17</td>\n",
       "      <td>Lyon</td>\n",
       "      <td>4.832011</td>\n",
       "      <td>45.757814</td>\n",
       "      <td>31.389999</td>\n",
       "      <td>38.0</td>\n",
       "      <td>9.10</td>\n",
       "      <td>0.00</td>\n",
       "    </tr>\n",
       "    <tr>\n",
       "      <th>17</th>\n",
       "      <td>18</td>\n",
       "      <td>Gorges du Verdon</td>\n",
       "      <td>6.328562</td>\n",
       "      <td>43.749656</td>\n",
       "      <td>32.080002</td>\n",
       "      <td>32.0</td>\n",
       "      <td>7.20</td>\n",
       "      <td>0.00</td>\n",
       "    </tr>\n",
       "    <tr>\n",
       "      <th>18</th>\n",
       "      <td>19</td>\n",
       "      <td>Bormes les Mimosas</td>\n",
       "      <td>6.341928</td>\n",
       "      <td>43.150697</td>\n",
       "      <td>31.870001</td>\n",
       "      <td>35.0</td>\n",
       "      <td>6.07</td>\n",
       "      <td>0.00</td>\n",
       "    </tr>\n",
       "    <tr>\n",
       "      <th>19</th>\n",
       "      <td>20</td>\n",
       "      <td>Cassis</td>\n",
       "      <td>5.539632</td>\n",
       "      <td>43.214036</td>\n",
       "      <td>30.770000</td>\n",
       "      <td>36.0</td>\n",
       "      <td>7.29</td>\n",
       "      <td>0.00</td>\n",
       "    </tr>\n",
       "    <tr>\n",
       "      <th>20</th>\n",
       "      <td>21</td>\n",
       "      <td>Marseille</td>\n",
       "      <td>5.369953</td>\n",
       "      <td>43.296174</td>\n",
       "      <td>30.469999</td>\n",
       "      <td>37.0</td>\n",
       "      <td>7.56</td>\n",
       "      <td>0.00</td>\n",
       "    </tr>\n",
       "    <tr>\n",
       "      <th>21</th>\n",
       "      <td>22</td>\n",
       "      <td>Aix en Provence</td>\n",
       "      <td>5.447474</td>\n",
       "      <td>43.529842</td>\n",
       "      <td>30.200001</td>\n",
       "      <td>36.0</td>\n",
       "      <td>8.32</td>\n",
       "      <td>0.00</td>\n",
       "    </tr>\n",
       "    <tr>\n",
       "      <th>22</th>\n",
       "      <td>23</td>\n",
       "      <td>Avignon</td>\n",
       "      <td>4.805901</td>\n",
       "      <td>43.949249</td>\n",
       "      <td>29.690001</td>\n",
       "      <td>38.0</td>\n",
       "      <td>8.93</td>\n",
       "      <td>0.00</td>\n",
       "    </tr>\n",
       "    <tr>\n",
       "      <th>23</th>\n",
       "      <td>24</td>\n",
       "      <td>Uzes</td>\n",
       "      <td>4.419672</td>\n",
       "      <td>44.012128</td>\n",
       "      <td>29.360001</td>\n",
       "      <td>40.0</td>\n",
       "      <td>9.98</td>\n",
       "      <td>0.00</td>\n",
       "    </tr>\n",
       "    <tr>\n",
       "      <th>24</th>\n",
       "      <td>25</td>\n",
       "      <td>Nimes</td>\n",
       "      <td>4.360069</td>\n",
       "      <td>43.837425</td>\n",
       "      <td>30.379999</td>\n",
       "      <td>37.0</td>\n",
       "      <td>10.35</td>\n",
       "      <td>0.00</td>\n",
       "    </tr>\n",
       "    <tr>\n",
       "      <th>25</th>\n",
       "      <td>26</td>\n",
       "      <td>Aigues Mortes</td>\n",
       "      <td>4.191540</td>\n",
       "      <td>43.566152</td>\n",
       "      <td>32.220001</td>\n",
       "      <td>33.0</td>\n",
       "      <td>9.71</td>\n",
       "      <td>0.00</td>\n",
       "    </tr>\n",
       "    <tr>\n",
       "      <th>26</th>\n",
       "      <td>27</td>\n",
       "      <td>Saintes Maries de la mer</td>\n",
       "      <td>4.427720</td>\n",
       "      <td>43.451592</td>\n",
       "      <td>31.980000</td>\n",
       "      <td>33.0</td>\n",
       "      <td>8.73</td>\n",
       "      <td>0.00</td>\n",
       "    </tr>\n",
       "    <tr>\n",
       "      <th>27</th>\n",
       "      <td>28</td>\n",
       "      <td>Collioure</td>\n",
       "      <td>3.083155</td>\n",
       "      <td>42.525050</td>\n",
       "      <td>34.599998</td>\n",
       "      <td>29.0</td>\n",
       "      <td>7.27</td>\n",
       "      <td>0.00</td>\n",
       "    </tr>\n",
       "    <tr>\n",
       "      <th>28</th>\n",
       "      <td>29</td>\n",
       "      <td>Carcassonne</td>\n",
       "      <td>2.349107</td>\n",
       "      <td>43.213036</td>\n",
       "      <td>33.980000</td>\n",
       "      <td>34.0</td>\n",
       "      <td>9.38</td>\n",
       "      <td>0.00</td>\n",
       "    </tr>\n",
       "    <tr>\n",
       "      <th>29</th>\n",
       "      <td>30</td>\n",
       "      <td>Ariege</td>\n",
       "      <td>1.612497</td>\n",
       "      <td>42.992743</td>\n",
       "      <td>34.599998</td>\n",
       "      <td>36.0</td>\n",
       "      <td>8.89</td>\n",
       "      <td>0.00</td>\n",
       "    </tr>\n",
       "    <tr>\n",
       "      <th>30</th>\n",
       "      <td>31</td>\n",
       "      <td>Toulouse</td>\n",
       "      <td>1.444247</td>\n",
       "      <td>43.604462</td>\n",
       "      <td>34.910000</td>\n",
       "      <td>38.0</td>\n",
       "      <td>5.78</td>\n",
       "      <td>0.00</td>\n",
       "    </tr>\n",
       "    <tr>\n",
       "      <th>31</th>\n",
       "      <td>32</td>\n",
       "      <td>Montauban</td>\n",
       "      <td>1.354999</td>\n",
       "      <td>44.017584</td>\n",
       "      <td>33.700001</td>\n",
       "      <td>39.0</td>\n",
       "      <td>6.33</td>\n",
       "      <td>0.00</td>\n",
       "    </tr>\n",
       "    <tr>\n",
       "      <th>32</th>\n",
       "      <td>33</td>\n",
       "      <td>Biarritz</td>\n",
       "      <td>-1.559278</td>\n",
       "      <td>43.483252</td>\n",
       "      <td>28.520000</td>\n",
       "      <td>80.0</td>\n",
       "      <td>9.14</td>\n",
       "      <td>0.95</td>\n",
       "    </tr>\n",
       "    <tr>\n",
       "      <th>33</th>\n",
       "      <td>34</td>\n",
       "      <td>Bayonne</td>\n",
       "      <td>-1.473666</td>\n",
       "      <td>43.494514</td>\n",
       "      <td>28.440001</td>\n",
       "      <td>79.0</td>\n",
       "      <td>9.30</td>\n",
       "      <td>1.82</td>\n",
       "    </tr>\n",
       "    <tr>\n",
       "      <th>34</th>\n",
       "      <td>35</td>\n",
       "      <td>La Rochelle</td>\n",
       "      <td>-1.152043</td>\n",
       "      <td>46.159113</td>\n",
       "      <td>28.389999</td>\n",
       "      <td>77.0</td>\n",
       "      <td>8.81</td>\n",
       "      <td>5.02</td>\n",
       "    </tr>\n",
       "  </tbody>\n",
       "</table>\n",
       "</div>"
      ],
      "text/plain": [
       "    id                          City  Latitude  Longitude  Temperature  \\\n",
       "0    1             Mont Saint Michel -1.511460  48.635954    28.020000   \n",
       "1    2                       St Malo -2.026041  48.649518    28.240000   \n",
       "2    3                        Bayeux -0.702474  49.276462    27.780001   \n",
       "3    4                      Le Havre  0.107973  49.493898    27.840000   \n",
       "4    5                         Rouen  1.093966  49.440459    27.620001   \n",
       "5    6                         Paris  2.348391  48.853495    27.450001   \n",
       "6    7                        Amiens  2.295695  49.894171    27.330000   \n",
       "7    8                         Lille  3.063528  50.636565    26.940001   \n",
       "8    9                    Strasbourg  7.750713  48.584614    29.910000   \n",
       "9   10  Chateau du Haut Koenigsbourg  7.345492  48.249523    32.610001   \n",
       "10  11                        Colmar  7.357964  48.077752    32.369999   \n",
       "11  12                     Eguisheim  7.307962  48.044797    32.540001   \n",
       "12  13                      Besancon  6.024362  47.238022    32.060001   \n",
       "13  14                         Dijon  5.041470  47.321581    31.120001   \n",
       "14  15                        Annecy  6.128885  45.899235    31.770000   \n",
       "15  16                      Grenoble  5.735782  45.187560    31.480000   \n",
       "16  17                          Lyon  4.832011  45.757814    31.389999   \n",
       "17  18              Gorges du Verdon  6.328562  43.749656    32.080002   \n",
       "18  19            Bormes les Mimosas  6.341928  43.150697    31.870001   \n",
       "19  20                        Cassis  5.539632  43.214036    30.770000   \n",
       "20  21                     Marseille  5.369953  43.296174    30.469999   \n",
       "21  22               Aix en Provence  5.447474  43.529842    30.200001   \n",
       "22  23                       Avignon  4.805901  43.949249    29.690001   \n",
       "23  24                          Uzes  4.419672  44.012128    29.360001   \n",
       "24  25                         Nimes  4.360069  43.837425    30.379999   \n",
       "25  26                 Aigues Mortes  4.191540  43.566152    32.220001   \n",
       "26  27      Saintes Maries de la mer  4.427720  43.451592    31.980000   \n",
       "27  28                     Collioure  3.083155  42.525050    34.599998   \n",
       "28  29                   Carcassonne  2.349107  43.213036    33.980000   \n",
       "29  30                        Ariege  1.612497  42.992743    34.599998   \n",
       "30  31                      Toulouse  1.444247  43.604462    34.910000   \n",
       "31  32                     Montauban  1.354999  44.017584    33.700001   \n",
       "32  33                      Biarritz -1.559278  43.483252    28.520000   \n",
       "33  34                       Bayonne -1.473666  43.494514    28.440001   \n",
       "34  35                   La Rochelle -1.152043  46.159113    28.389999   \n",
       "\n",
       "    Humidity   Wind   Rain  \n",
       "0       80.0   7.41  15.94  \n",
       "1       80.0   6.76  15.14  \n",
       "2       80.0   7.79  13.89  \n",
       "3       80.0   8.56   9.02  \n",
       "4       79.0   9.81   6.77  \n",
       "5       80.0  10.30   0.64  \n",
       "6       81.0  10.10   2.35  \n",
       "7       82.0  10.30   0.65  \n",
       "8       33.0   9.41   0.00  \n",
       "9       27.0   9.05   0.00  \n",
       "10      27.0   9.05   0.00  \n",
       "11      27.0   9.05   0.00  \n",
       "12      36.0   8.66   0.00  \n",
       "13      41.0   9.34   0.00  \n",
       "14      33.0   7.88   0.00  \n",
       "15      33.0   9.14   0.00  \n",
       "16      38.0   9.10   0.00  \n",
       "17      32.0   7.20   0.00  \n",
       "18      35.0   6.07   0.00  \n",
       "19      36.0   7.29   0.00  \n",
       "20      37.0   7.56   0.00  \n",
       "21      36.0   8.32   0.00  \n",
       "22      38.0   8.93   0.00  \n",
       "23      40.0   9.98   0.00  \n",
       "24      37.0  10.35   0.00  \n",
       "25      33.0   9.71   0.00  \n",
       "26      33.0   8.73   0.00  \n",
       "27      29.0   7.27   0.00  \n",
       "28      34.0   9.38   0.00  \n",
       "29      36.0   8.89   0.00  \n",
       "30      38.0   5.78   0.00  \n",
       "31      39.0   6.33   0.00  \n",
       "32      80.0   9.14   0.95  \n",
       "33      79.0   9.30   1.82  \n",
       "34      77.0   8.81   5.02  "
      ]
     },
     "execution_count": 19,
     "metadata": {},
     "output_type": "execute_result"
    }
   ],
   "source": [
    "# utilisation de la fonction merge() pour fusionner les 2 dataframes en jointant sur la colonne commune \"id\"\n",
    "dataset_cities = dataset_cities.merge(median_forecast, on=[\"id\"])\n",
    "dataset_cities"
   ]
  },
  {
   "cell_type": "code",
   "execution_count": 20,
   "metadata": {},
   "outputs": [],
   "source": [
    "# sauvgarde du résultat sous forme de fichier csv, sans les index\n",
    "dataset_cities.to_csv(\"dataset_cities.csv\", index=False)"
   ]
  },
  {
   "cell_type": "markdown",
   "metadata": {},
   "source": [
    "Selon nos critères (arbitraire pour les besoins de l'exercice), les destinations les plus intéressantes seront celles avec :\n",
    "- une quantité de pluie < 0.2\n",
    "- une température moyenne supérieure à 25 degrés\n",
    "- une humidité inférieure ou égale à 30%\n",
    "- un vent au maximum de 10 m/sec"
   ]
  },
  {
   "cell_type": "code",
   "execution_count": 21,
   "metadata": {},
   "outputs": [
    {
     "data": {
      "text/html": [
       "<div>\n",
       "<style scoped>\n",
       "    .dataframe tbody tr th:only-of-type {\n",
       "        vertical-align: middle;\n",
       "    }\n",
       "\n",
       "    .dataframe tbody tr th {\n",
       "        vertical-align: top;\n",
       "    }\n",
       "\n",
       "    .dataframe thead th {\n",
       "        text-align: right;\n",
       "    }\n",
       "</style>\n",
       "<table border=\"1\" class=\"dataframe\">\n",
       "  <thead>\n",
       "    <tr style=\"text-align: right;\">\n",
       "      <th></th>\n",
       "      <th>id</th>\n",
       "      <th>City</th>\n",
       "      <th>Latitude</th>\n",
       "      <th>Longitude</th>\n",
       "      <th>Temperature</th>\n",
       "      <th>Humidity</th>\n",
       "      <th>Wind</th>\n",
       "      <th>Rain</th>\n",
       "    </tr>\n",
       "  </thead>\n",
       "  <tbody>\n",
       "    <tr>\n",
       "      <th>9</th>\n",
       "      <td>10</td>\n",
       "      <td>Chateau du Haut Koenigsbourg</td>\n",
       "      <td>7.345492</td>\n",
       "      <td>48.249523</td>\n",
       "      <td>32.610001</td>\n",
       "      <td>27.0</td>\n",
       "      <td>9.05</td>\n",
       "      <td>0.0</td>\n",
       "    </tr>\n",
       "    <tr>\n",
       "      <th>10</th>\n",
       "      <td>11</td>\n",
       "      <td>Colmar</td>\n",
       "      <td>7.357964</td>\n",
       "      <td>48.077752</td>\n",
       "      <td>32.369999</td>\n",
       "      <td>27.0</td>\n",
       "      <td>9.05</td>\n",
       "      <td>0.0</td>\n",
       "    </tr>\n",
       "    <tr>\n",
       "      <th>11</th>\n",
       "      <td>12</td>\n",
       "      <td>Eguisheim</td>\n",
       "      <td>7.307962</td>\n",
       "      <td>48.044797</td>\n",
       "      <td>32.540001</td>\n",
       "      <td>27.0</td>\n",
       "      <td>9.05</td>\n",
       "      <td>0.0</td>\n",
       "    </tr>\n",
       "    <tr>\n",
       "      <th>27</th>\n",
       "      <td>28</td>\n",
       "      <td>Collioure</td>\n",
       "      <td>3.083155</td>\n",
       "      <td>42.525050</td>\n",
       "      <td>34.599998</td>\n",
       "      <td>29.0</td>\n",
       "      <td>7.27</td>\n",
       "      <td>0.0</td>\n",
       "    </tr>\n",
       "  </tbody>\n",
       "</table>\n",
       "</div>"
      ],
      "text/plain": [
       "    id                          City  Latitude  Longitude  Temperature  \\\n",
       "9   10  Chateau du Haut Koenigsbourg  7.345492  48.249523    32.610001   \n",
       "10  11                        Colmar  7.357964  48.077752    32.369999   \n",
       "11  12                     Eguisheim  7.307962  48.044797    32.540001   \n",
       "27  28                     Collioure  3.083155  42.525050    34.599998   \n",
       "\n",
       "    Humidity  Wind  Rain  \n",
       "9       27.0  9.05   0.0  \n",
       "10      27.0  9.05   0.0  \n",
       "11      27.0  9.05   0.0  \n",
       "27      29.0  7.27   0.0  "
      ]
     },
     "execution_count": 21,
     "metadata": {},
     "output_type": "execute_result"
    }
   ],
   "source": [
    "dataset_cities_results= dataset_cities[(dataset_cities.Rain < 0.2) & (dataset_cities.Humidity <= 30) & (dataset_cities.Wind <= 10) & (dataset_cities.Temperature > 25)]\n",
    "dataset_cities_results"
   ]
  },
  {
   "cell_type": "code",
   "execution_count": 22,
   "metadata": {},
   "outputs": [
    {
     "name": "stderr",
     "output_type": "stream",
     "text": [
      "C:\\Users\\SD\\AppData\\Local\\Temp\\ipykernel_24628\\1674794291.py:2: SettingWithCopyWarning: \n",
      "A value is trying to be set on a copy of a slice from a DataFrame.\n",
      "Try using .loc[row_indexer,col_indexer] = value instead\n",
      "\n",
      "See the caveats in the documentation: https://pandas.pydata.org/pandas-docs/stable/user_guide/indexing.html#returning-a-view-versus-a-copy\n",
      "  dataset_cities_results[\"Latitude\"]=dataset_cities_results[\"Latitude\"].astype(float, errors=\"raise\")\n",
      "C:\\Users\\SD\\AppData\\Local\\Temp\\ipykernel_24628\\1674794291.py:3: SettingWithCopyWarning: \n",
      "A value is trying to be set on a copy of a slice from a DataFrame.\n",
      "Try using .loc[row_indexer,col_indexer] = value instead\n",
      "\n",
      "See the caveats in the documentation: https://pandas.pydata.org/pandas-docs/stable/user_guide/indexing.html#returning-a-view-versus-a-copy\n",
      "  dataset_cities_results[\"Longitude\"]=dataset_cities_results[\"Longitude\"].astype(float, errors=\"raise\")\n"
     ]
    }
   ],
   "source": [
    "# conversion des données Latitude/Longitude en nb décimal pour pouvoir être utilisées dans la carte\n",
    "dataset_cities_results[\"Latitude\"]=dataset_cities_results[\"Latitude\"].astype(float, errors=\"raise\")\n",
    "dataset_cities_results[\"Longitude\"]=dataset_cities_results[\"Longitude\"].astype(float, errors=\"raise\")"
   ]
  },
  {
   "cell_type": "code",
   "execution_count": 23,
   "metadata": {},
   "outputs": [
    {
     "data": {
      "application/vnd.plotly.v1+json": {
       "config": {
        "plotlyServerURL": "https://plot.ly"
       },
       "data": [
        {
         "hovertemplate": "City=%{text}<br>Longitude=%{lat}<br>Latitude=%{lon}<br>Temperature=%{marker.color}<extra></extra>",
         "lat": [
          48.2495226,
          48.0777517,
          48.0447968,
          42.52505
         ],
         "legendgroup": "",
         "lon": [
          7.3454923,
          7.3579641,
          7.3079618,
          3.0831554
         ],
         "marker": {
          "color": [
           32.61000061035156,
           32.369998931884766,
           32.540000915527344,
           34.599998474121094
          ],
          "coloraxis": "coloraxis",
          "size": 15
         },
         "mode": "markers+text",
         "name": "",
         "showlegend": false,
         "subplot": "mapbox",
         "text": [
          "Chateau du Haut Koenigsbourg",
          "Colmar",
          "Eguisheim",
          "Collioure"
         ],
         "type": "scattermapbox"
        }
       ],
       "layout": {
        "coloraxis": {
         "colorbar": {
          "title": {
           "text": "Temperature"
          }
         },
         "colorscale": [
          [
           0,
           "#0d0887"
          ],
          [
           0.1111111111111111,
           "#46039f"
          ],
          [
           0.2222222222222222,
           "#7201a8"
          ],
          [
           0.3333333333333333,
           "#9c179e"
          ],
          [
           0.4444444444444444,
           "#bd3786"
          ],
          [
           0.5555555555555556,
           "#d8576b"
          ],
          [
           0.6666666666666666,
           "#ed7953"
          ],
          [
           0.7777777777777778,
           "#fb9f3a"
          ],
          [
           0.8888888888888888,
           "#fdca26"
          ],
          [
           1,
           "#f0f921"
          ]
         ]
        },
        "height": 900,
        "legend": {
         "tracegroupgap": 0
        },
        "mapbox": {
         "center": {
          "lat": 46.724280275,
          "lon": 6.2736434
         },
         "domain": {
          "x": [
           0,
           1
          ],
          "y": [
           0,
           1
          ]
         },
         "style": "open-street-map",
         "zoom": 5
        },
        "margin": {
         "b": 0,
         "l": 0,
         "r": 0,
         "t": 50
        },
        "template": {
         "data": {
          "bar": [
           {
            "error_x": {
             "color": "#2a3f5f"
            },
            "error_y": {
             "color": "#2a3f5f"
            },
            "marker": {
             "line": {
              "color": "#E5ECF6",
              "width": 0.5
             },
             "pattern": {
              "fillmode": "overlay",
              "size": 10,
              "solidity": 0.2
             }
            },
            "type": "bar"
           }
          ],
          "barpolar": [
           {
            "marker": {
             "line": {
              "color": "#E5ECF6",
              "width": 0.5
             },
             "pattern": {
              "fillmode": "overlay",
              "size": 10,
              "solidity": 0.2
             }
            },
            "type": "barpolar"
           }
          ],
          "carpet": [
           {
            "aaxis": {
             "endlinecolor": "#2a3f5f",
             "gridcolor": "white",
             "linecolor": "white",
             "minorgridcolor": "white",
             "startlinecolor": "#2a3f5f"
            },
            "baxis": {
             "endlinecolor": "#2a3f5f",
             "gridcolor": "white",
             "linecolor": "white",
             "minorgridcolor": "white",
             "startlinecolor": "#2a3f5f"
            },
            "type": "carpet"
           }
          ],
          "choropleth": [
           {
            "colorbar": {
             "outlinewidth": 0,
             "ticks": ""
            },
            "type": "choropleth"
           }
          ],
          "contour": [
           {
            "colorbar": {
             "outlinewidth": 0,
             "ticks": ""
            },
            "colorscale": [
             [
              0,
              "#0d0887"
             ],
             [
              0.1111111111111111,
              "#46039f"
             ],
             [
              0.2222222222222222,
              "#7201a8"
             ],
             [
              0.3333333333333333,
              "#9c179e"
             ],
             [
              0.4444444444444444,
              "#bd3786"
             ],
             [
              0.5555555555555556,
              "#d8576b"
             ],
             [
              0.6666666666666666,
              "#ed7953"
             ],
             [
              0.7777777777777778,
              "#fb9f3a"
             ],
             [
              0.8888888888888888,
              "#fdca26"
             ],
             [
              1,
              "#f0f921"
             ]
            ],
            "type": "contour"
           }
          ],
          "contourcarpet": [
           {
            "colorbar": {
             "outlinewidth": 0,
             "ticks": ""
            },
            "type": "contourcarpet"
           }
          ],
          "heatmap": [
           {
            "colorbar": {
             "outlinewidth": 0,
             "ticks": ""
            },
            "colorscale": [
             [
              0,
              "#0d0887"
             ],
             [
              0.1111111111111111,
              "#46039f"
             ],
             [
              0.2222222222222222,
              "#7201a8"
             ],
             [
              0.3333333333333333,
              "#9c179e"
             ],
             [
              0.4444444444444444,
              "#bd3786"
             ],
             [
              0.5555555555555556,
              "#d8576b"
             ],
             [
              0.6666666666666666,
              "#ed7953"
             ],
             [
              0.7777777777777778,
              "#fb9f3a"
             ],
             [
              0.8888888888888888,
              "#fdca26"
             ],
             [
              1,
              "#f0f921"
             ]
            ],
            "type": "heatmap"
           }
          ],
          "heatmapgl": [
           {
            "colorbar": {
             "outlinewidth": 0,
             "ticks": ""
            },
            "colorscale": [
             [
              0,
              "#0d0887"
             ],
             [
              0.1111111111111111,
              "#46039f"
             ],
             [
              0.2222222222222222,
              "#7201a8"
             ],
             [
              0.3333333333333333,
              "#9c179e"
             ],
             [
              0.4444444444444444,
              "#bd3786"
             ],
             [
              0.5555555555555556,
              "#d8576b"
             ],
             [
              0.6666666666666666,
              "#ed7953"
             ],
             [
              0.7777777777777778,
              "#fb9f3a"
             ],
             [
              0.8888888888888888,
              "#fdca26"
             ],
             [
              1,
              "#f0f921"
             ]
            ],
            "type": "heatmapgl"
           }
          ],
          "histogram": [
           {
            "marker": {
             "pattern": {
              "fillmode": "overlay",
              "size": 10,
              "solidity": 0.2
             }
            },
            "type": "histogram"
           }
          ],
          "histogram2d": [
           {
            "colorbar": {
             "outlinewidth": 0,
             "ticks": ""
            },
            "colorscale": [
             [
              0,
              "#0d0887"
             ],
             [
              0.1111111111111111,
              "#46039f"
             ],
             [
              0.2222222222222222,
              "#7201a8"
             ],
             [
              0.3333333333333333,
              "#9c179e"
             ],
             [
              0.4444444444444444,
              "#bd3786"
             ],
             [
              0.5555555555555556,
              "#d8576b"
             ],
             [
              0.6666666666666666,
              "#ed7953"
             ],
             [
              0.7777777777777778,
              "#fb9f3a"
             ],
             [
              0.8888888888888888,
              "#fdca26"
             ],
             [
              1,
              "#f0f921"
             ]
            ],
            "type": "histogram2d"
           }
          ],
          "histogram2dcontour": [
           {
            "colorbar": {
             "outlinewidth": 0,
             "ticks": ""
            },
            "colorscale": [
             [
              0,
              "#0d0887"
             ],
             [
              0.1111111111111111,
              "#46039f"
             ],
             [
              0.2222222222222222,
              "#7201a8"
             ],
             [
              0.3333333333333333,
              "#9c179e"
             ],
             [
              0.4444444444444444,
              "#bd3786"
             ],
             [
              0.5555555555555556,
              "#d8576b"
             ],
             [
              0.6666666666666666,
              "#ed7953"
             ],
             [
              0.7777777777777778,
              "#fb9f3a"
             ],
             [
              0.8888888888888888,
              "#fdca26"
             ],
             [
              1,
              "#f0f921"
             ]
            ],
            "type": "histogram2dcontour"
           }
          ],
          "mesh3d": [
           {
            "colorbar": {
             "outlinewidth": 0,
             "ticks": ""
            },
            "type": "mesh3d"
           }
          ],
          "parcoords": [
           {
            "line": {
             "colorbar": {
              "outlinewidth": 0,
              "ticks": ""
             }
            },
            "type": "parcoords"
           }
          ],
          "pie": [
           {
            "automargin": true,
            "type": "pie"
           }
          ],
          "scatter": [
           {
            "fillpattern": {
             "fillmode": "overlay",
             "size": 10,
             "solidity": 0.2
            },
            "type": "scatter"
           }
          ],
          "scatter3d": [
           {
            "line": {
             "colorbar": {
              "outlinewidth": 0,
              "ticks": ""
             }
            },
            "marker": {
             "colorbar": {
              "outlinewidth": 0,
              "ticks": ""
             }
            },
            "type": "scatter3d"
           }
          ],
          "scattercarpet": [
           {
            "marker": {
             "colorbar": {
              "outlinewidth": 0,
              "ticks": ""
             }
            },
            "type": "scattercarpet"
           }
          ],
          "scattergeo": [
           {
            "marker": {
             "colorbar": {
              "outlinewidth": 0,
              "ticks": ""
             }
            },
            "type": "scattergeo"
           }
          ],
          "scattergl": [
           {
            "marker": {
             "colorbar": {
              "outlinewidth": 0,
              "ticks": ""
             }
            },
            "type": "scattergl"
           }
          ],
          "scattermapbox": [
           {
            "marker": {
             "colorbar": {
              "outlinewidth": 0,
              "ticks": ""
             }
            },
            "type": "scattermapbox"
           }
          ],
          "scatterpolar": [
           {
            "marker": {
             "colorbar": {
              "outlinewidth": 0,
              "ticks": ""
             }
            },
            "type": "scatterpolar"
           }
          ],
          "scatterpolargl": [
           {
            "marker": {
             "colorbar": {
              "outlinewidth": 0,
              "ticks": ""
             }
            },
            "type": "scatterpolargl"
           }
          ],
          "scatterternary": [
           {
            "marker": {
             "colorbar": {
              "outlinewidth": 0,
              "ticks": ""
             }
            },
            "type": "scatterternary"
           }
          ],
          "surface": [
           {
            "colorbar": {
             "outlinewidth": 0,
             "ticks": ""
            },
            "colorscale": [
             [
              0,
              "#0d0887"
             ],
             [
              0.1111111111111111,
              "#46039f"
             ],
             [
              0.2222222222222222,
              "#7201a8"
             ],
             [
              0.3333333333333333,
              "#9c179e"
             ],
             [
              0.4444444444444444,
              "#bd3786"
             ],
             [
              0.5555555555555556,
              "#d8576b"
             ],
             [
              0.6666666666666666,
              "#ed7953"
             ],
             [
              0.7777777777777778,
              "#fb9f3a"
             ],
             [
              0.8888888888888888,
              "#fdca26"
             ],
             [
              1,
              "#f0f921"
             ]
            ],
            "type": "surface"
           }
          ],
          "table": [
           {
            "cells": {
             "fill": {
              "color": "#EBF0F8"
             },
             "line": {
              "color": "white"
             }
            },
            "header": {
             "fill": {
              "color": "#C8D4E3"
             },
             "line": {
              "color": "white"
             }
            },
            "type": "table"
           }
          ]
         },
         "layout": {
          "annotationdefaults": {
           "arrowcolor": "#2a3f5f",
           "arrowhead": 0,
           "arrowwidth": 1
          },
          "autotypenumbers": "strict",
          "coloraxis": {
           "colorbar": {
            "outlinewidth": 0,
            "ticks": ""
           }
          },
          "colorscale": {
           "diverging": [
            [
             0,
             "#8e0152"
            ],
            [
             0.1,
             "#c51b7d"
            ],
            [
             0.2,
             "#de77ae"
            ],
            [
             0.3,
             "#f1b6da"
            ],
            [
             0.4,
             "#fde0ef"
            ],
            [
             0.5,
             "#f7f7f7"
            ],
            [
             0.6,
             "#e6f5d0"
            ],
            [
             0.7,
             "#b8e186"
            ],
            [
             0.8,
             "#7fbc41"
            ],
            [
             0.9,
             "#4d9221"
            ],
            [
             1,
             "#276419"
            ]
           ],
           "sequential": [
            [
             0,
             "#0d0887"
            ],
            [
             0.1111111111111111,
             "#46039f"
            ],
            [
             0.2222222222222222,
             "#7201a8"
            ],
            [
             0.3333333333333333,
             "#9c179e"
            ],
            [
             0.4444444444444444,
             "#bd3786"
            ],
            [
             0.5555555555555556,
             "#d8576b"
            ],
            [
             0.6666666666666666,
             "#ed7953"
            ],
            [
             0.7777777777777778,
             "#fb9f3a"
            ],
            [
             0.8888888888888888,
             "#fdca26"
            ],
            [
             1,
             "#f0f921"
            ]
           ],
           "sequentialminus": [
            [
             0,
             "#0d0887"
            ],
            [
             0.1111111111111111,
             "#46039f"
            ],
            [
             0.2222222222222222,
             "#7201a8"
            ],
            [
             0.3333333333333333,
             "#9c179e"
            ],
            [
             0.4444444444444444,
             "#bd3786"
            ],
            [
             0.5555555555555556,
             "#d8576b"
            ],
            [
             0.6666666666666666,
             "#ed7953"
            ],
            [
             0.7777777777777778,
             "#fb9f3a"
            ],
            [
             0.8888888888888888,
             "#fdca26"
            ],
            [
             1,
             "#f0f921"
            ]
           ]
          },
          "colorway": [
           "#636efa",
           "#EF553B",
           "#00cc96",
           "#ab63fa",
           "#FFA15A",
           "#19d3f3",
           "#FF6692",
           "#B6E880",
           "#FF97FF",
           "#FECB52"
          ],
          "font": {
           "color": "#2a3f5f"
          },
          "geo": {
           "bgcolor": "white",
           "lakecolor": "white",
           "landcolor": "#E5ECF6",
           "showlakes": true,
           "showland": true,
           "subunitcolor": "white"
          },
          "hoverlabel": {
           "align": "left"
          },
          "hovermode": "closest",
          "mapbox": {
           "style": "light"
          },
          "paper_bgcolor": "white",
          "plot_bgcolor": "#E5ECF6",
          "polar": {
           "angularaxis": {
            "gridcolor": "white",
            "linecolor": "white",
            "ticks": ""
           },
           "bgcolor": "#E5ECF6",
           "radialaxis": {
            "gridcolor": "white",
            "linecolor": "white",
            "ticks": ""
           }
          },
          "scene": {
           "xaxis": {
            "backgroundcolor": "#E5ECF6",
            "gridcolor": "white",
            "gridwidth": 2,
            "linecolor": "white",
            "showbackground": true,
            "ticks": "",
            "zerolinecolor": "white"
           },
           "yaxis": {
            "backgroundcolor": "#E5ECF6",
            "gridcolor": "white",
            "gridwidth": 2,
            "linecolor": "white",
            "showbackground": true,
            "ticks": "",
            "zerolinecolor": "white"
           },
           "zaxis": {
            "backgroundcolor": "#E5ECF6",
            "gridcolor": "white",
            "gridwidth": 2,
            "linecolor": "white",
            "showbackground": true,
            "ticks": "",
            "zerolinecolor": "white"
           }
          },
          "shapedefaults": {
           "line": {
            "color": "#2a3f5f"
           }
          },
          "ternary": {
           "aaxis": {
            "gridcolor": "white",
            "linecolor": "white",
            "ticks": ""
           },
           "baxis": {
            "gridcolor": "white",
            "linecolor": "white",
            "ticks": ""
           },
           "bgcolor": "#E5ECF6",
           "caxis": {
            "gridcolor": "white",
            "linecolor": "white",
            "ticks": ""
           }
          },
          "title": {
           "x": 0.05
          },
          "xaxis": {
           "automargin": true,
           "gridcolor": "white",
           "linecolor": "white",
           "ticks": "",
           "title": {
            "standoff": 15
           },
           "zerolinecolor": "white",
           "zerolinewidth": 2
          },
          "yaxis": {
           "automargin": true,
           "gridcolor": "white",
           "linecolor": "white",
           "ticks": "",
           "title": {
            "standoff": 15
           },
           "zerolinecolor": "white",
           "zerolinewidth": 2
          }
         }
        },
        "title": {
         "text": "Localisation des villes à privilégier pour vos vacances",
         "x": 0.5,
         "y": 0.98
        },
        "width": 1000
       }
      }
     },
     "metadata": {},
     "output_type": "display_data"
    }
   ],
   "source": [
    "# création du graphe\n",
    "# il semblerait qu'il y ai une inversion entre la latitude et la longitude, selon la source. nous avons donc passé la latitude de notre dataset en longitude pour la carte, et inversement\n",
    "cities_results = px.scatter_mapbox(\n",
    "    dataset_cities_results,\n",
    "    title = \"Localisation des villes à privilégier pour vos vacances\",\n",
    "    lat=\"Longitude\",\n",
    "    lon=\"Latitude\",\n",
    "    color=\"Temperature\",\n",
    "    mapbox_style=\"open-street-map\",\n",
    "    text=\"City\",\n",
    "    zoom=5,\n",
    ")\n",
    "cities_results.update_layout(width=1000,height = 900, margin={\"r\":0,\"t\":50,\"l\":0,\"b\":0}, title_x = 0.5, title_y = 0.98)\n",
    "cities_results.update_traces(marker={'size': 15}) # permet de definir une taille fixe pour les points sur la carte\n",
    "cities_results.show()"
   ]
  },
  {
   "cell_type": "markdown",
   "metadata": {},
   "source": [
    "#### PART 3. Obtenir une liste d'hotels disponibles pour les destinations retenues à partir de booking.com"
   ]
  },
  {
   "cell_type": "code",
   "execution_count": null,
   "metadata": {},
   "outputs": [],
   "source": [
    "class booking_spider(scrapy.Spider):\n",
    "    name = \"booking\"\n",
    "    base_lien = []\n",
    "\n",
    "    def start_requests(self):\n",
    "        for city in [\"Collioure\",\"Colmar\"] :\n",
    "            parameters_booking = {\"ss\":city, \"no_rooms\":\"1\", \"checkin\":\"2023-12-18\", \"checkout\":\"2023-12-19\", \"group_adults\":\"1\", \"group_children\":\"0\"}\n",
    "            final_url =f'{\"https://www.booking.com/searchresults.fr.html?\"}{urllib.parse.urlencode(parameters_booking)}'\n",
    "            yield scrapy.Request(url=final_url, callback=self.parse)\n",
    "\n",
    "    def parse(self, response):\n",
    "        links = response.xpath('//h3[@class=\"aab71f8e4e\"]/a/@href').getall()\n",
    "        for lien in links :\n",
    "            lien = str(lien).split(\"?\")[0]\n",
    "            self.base_lien.append(lien)\n",
    "            yield scrapy.Request(url=lien, callback=self.parse_detail)\n",
    "\n",
    "    def parse_detail(self, response) :\n",
    "        yield {\n",
    "            'Name' : response.xpath('//h2[@class=\"d2fee87262 pp-header__title\"]/text()').get(),\n",
    "            'rating' : response.xpath('//div[@class=\"b5cd09854e d10a6220b4\"]/text()').get(),\n",
    "            'gps' : response.xpath('//a[@id=\"hotel_address\"]/@data-atlas-latlng').get(\"\"),\n",
    "            'url' : response.request.url,\n",
    "            'Comment' : response.xpath('//p[@class=\"a53cbfa6de b3efd73f69\"]/text()').get()\n",
    "        }\n",
    "            \n",
    "filename = \"booking.json\"\n",
    "\n",
    "if filename in os.listdir(\"C:/Users/SD\\Desktop/Cours/Jedha/Fullstack_Datascience/4 - Data_Collection_and_Management\"):\n",
    "        os.remove(\"C:/Users/SD\\Desktop/Cours/Jedha/Fullstack_Datascience/4 - Data_Collection_and_Management\" + filename)\n",
    "\n",
    "process = CrawlerProcess(settings = {\n",
    "    'USER_AGENT': 'Mozilla/5.0 (Windows NT 10.0; Win64; x64; rv:109.0) Gecko/20100101 Firefox/114.0',\n",
    "    'LOG_LEVEL': logging.INFO,\n",
    "    'FEED_EXPORT_ENCODING' : \"utf-8\", # résoud le pb de caractères\n",
    "    \"FEEDS\": {filename : {\"format\": \"json\"},\n",
    "    }\n",
    "})\n",
    "\n",
    "process.crawl(booking_spider)\n",
    "process.start()\n"
   ]
  },
  {
   "cell_type": "code",
   "execution_count": null,
   "metadata": {},
   "outputs": [],
   "source": [
    "# sauvegarde des fichiers sur S3\n",
    "# les données de login ont été anonymisées\n",
    "import boto3\n",
    "session = boto3.Session(aws_access_key_id=\"xxxxxxxxxxxxxxxxxxxxx\", aws_secret_access_key=\"xxxxxxxxxxxxxxxxxxxxxxxxxxxxxxxxxxxxxxx\")\n",
    "\n",
    "# créer une session \"ressource\"\n",
    "s3 = session.resource(\"s3\")\n",
    "\n",
    "# créer un bucket sur AWS-S3\n",
    "bucket = s3.create_bucket(Bucket = \"projet-kayak\", CreateBucketConfiguration={'LocationConstraint':'eu-west-3'})\n",
    "\n",
    "# mettre les fichiers dans le bucket créé sur S3\n",
    "bucket.put_object(Body=\"dataset_cities.csv\", Key=\"dataset_cities.csv\")\n",
    "bucket.put_object(Body=\"booking.json\", Key=\"booking.json\")"
   ]
  },
  {
   "cell_type": "markdown",
   "metadata": {},
   "source": [
    "#### PART 4. Pour aller plus loin"
   ]
  },
  {
   "cell_type": "markdown",
   "metadata": {},
   "source": [
    "Avec plus de temps, nous aurions souhaiter notamment :\n",
    "- mieux documenter les fonctions (descriptif des variables, objectif de la fonction)\n",
    "- vérifier les données obtenues du site openweather\n",
    "- nettoyer les données scrapées du site booking.com, et les présenter sous un format plus adaptées\n",
    "- filtrer le nombre d'hôtels renvoyés afin d'en limiter le nombre, à partir d'un ou plusieurs critères (par ex top 5 rating ou prix)\n",
    "- créer un dashboard avec streamlit par exemple afin de présenter l'ensemble du travail"
   ]
  }
 ],
 "metadata": {
  "kernelspec": {
   "display_name": "base",
   "language": "python",
   "name": "python3"
  },
  "language_info": {
   "codemirror_mode": {
    "name": "ipython",
    "version": 3
   },
   "file_extension": ".py",
   "mimetype": "text/x-python",
   "name": "python",
   "nbconvert_exporter": "python",
   "pygments_lexer": "ipython3",
   "version": "3.11.7"
  },
  "orig_nbformat": 4
 },
 "nbformat": 4,
 "nbformat_minor": 2
}
